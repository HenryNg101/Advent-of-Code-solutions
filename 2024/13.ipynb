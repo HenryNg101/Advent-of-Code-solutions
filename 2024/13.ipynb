{
 "cells": [
  {
   "cell_type": "code",
   "execution_count": 11,
   "metadata": {},
   "outputs": [],
   "source": [
    "import os\n",
    "os.chdir('..')\n",
    "from inputGetter import get_input\n",
    "\n",
    "content = get_input(2024, 13)[:-1]"
   ]
  },
  {
   "cell_type": "code",
   "execution_count": 12,
   "metadata": {},
   "outputs": [
    {
     "name": "stdout",
     "output_type": "stream",
     "text": [
      "Part A: 37686\n",
      "Part B: 77204516023437\n"
     ]
    }
   ],
   "source": [
    "'''\n",
    "Calculate the a and b in this equation system:\n",
    "ax1 + by1 = z1\n",
    "ax2 + by2 = z2\n",
    "'''\n",
    "def calc(x1, y1, z1, x2, y2, z2):\n",
    "    # Calculate the transformed values, to simplify the equation system into one variable only\n",
    "    transform_x1, transform_x2 = x1 * y2, x2 * y1\n",
    "    transform_z1, transform_z2 = z1 * y2, z2 * y1\n",
    "    \n",
    "    # Check if determinant is zero or if there are no valid positive integer solutions\n",
    "    if transform_x1 == transform_x2 or (transform_z1 - transform_z2) % (transform_x1 - transform_x2) != 0:\n",
    "        return (-1, -1)\n",
    "\n",
    "    a = (transform_z1 - transform_z2) // (transform_x1 - transform_x2)\n",
    "    b = (z1 - a * x1) // y1 if (z1 - a * x1) % y1 == 0 else -1  # Put -1 to notify if b is not a positive integer solution\n",
    "    return (a, b)\n",
    "\n",
    "content = content.split('\\n')\n",
    "res_a, res_b = 0, 0\n",
    "for i in range(0, len(content), 4):\n",
    "    button_a, button_b, prize = content[i:i+3]\n",
    "    \n",
    "    x_a, y_a = [int(val.split(',')[0]) for val in button_a.split('+')[1:]]\n",
    "    x_b, y_b = [int(val.split(',')[0]) for val in button_b.split('+')[1:]]\n",
    "    x_prize, y_prize = [int(val.split('=')[1]) for val in prize.split(', ')]\n",
    "    \n",
    "    a, b = calc(x_a, x_b, x_prize, y_a, y_b, y_prize)\n",
    "    if a >= 0 and b >= 0:\n",
    "        res_a += a * 3 + b\n",
    "    \n",
    "    a, b = calc(x_a, x_b, x_prize + 10000000000000, y_a, y_b, y_prize + 10000000000000)\n",
    "    if a >= 0 and b >= 0:\n",
    "        res_b += a * 3 + b\n",
    "\n",
    "print(f'Part A: {res_a}')\n",
    "print(f'Part B: {res_b}')"
   ]
  }
 ],
 "metadata": {
  "kernelspec": {
   "display_name": "base",
   "language": "python",
   "name": "python3"
  },
  "language_info": {
   "codemirror_mode": {
    "name": "ipython",
    "version": 3
   },
   "file_extension": ".py",
   "mimetype": "text/x-python",
   "name": "python",
   "nbconvert_exporter": "python",
   "pygments_lexer": "ipython3",
   "version": "3.11.7"
  }
 },
 "nbformat": 4,
 "nbformat_minor": 2
}
