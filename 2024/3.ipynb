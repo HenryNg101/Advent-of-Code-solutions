{
 "cells": [
  {
   "cell_type": "code",
   "execution_count": 8,
   "metadata": {},
   "outputs": [],
   "source": [
    "import os\n",
    "os.chdir('..')\n",
    "from inputGetter import get_input\n",
    "import re\n",
    "\n",
    "content = get_input(2024, 3)[:-1]"
   ]
  },
  {
   "cell_type": "code",
   "execution_count": null,
   "metadata": {},
   "outputs": [
    {
     "name": "stdout",
     "output_type": "stream",
     "text": [
      "Part A: 174103751\n",
      "Part B: 100411201\n"
     ]
    }
   ],
   "source": [
    "def find_sum(content):\n",
    "    sum = 0\n",
    "    pattern = r'mul\\(\\d+,\\d+\\)'\n",
    "    for match in re.findall(pattern, content):\n",
    "        first, second = match.split(',')\n",
    "        first = int(first[4:])\n",
    "        second = int(second[:-1])\n",
    "        sum += first * second\n",
    "    return sum\n",
    "\n",
    "res_b = 0\n",
    "for section in re.split(r\"(?=do|don't)\", content):\n",
    "    if section[:7] != \"don't()\":\n",
    "        res_b += find_sum(section)\n",
    "    \n",
    "print(f'Part A: {find_sum(content)}')\n",
    "print(f'Part B: {res_b}')"
   ]
  }
 ],
 "metadata": {
  "kernelspec": {
   "display_name": "base",
   "language": "python",
   "name": "python3"
  },
  "language_info": {
   "codemirror_mode": {
    "name": "ipython",
    "version": 3
   },
   "file_extension": ".py",
   "mimetype": "text/x-python",
   "name": "python",
   "nbconvert_exporter": "python",
   "pygments_lexer": "ipython3",
   "version": "3.11.7"
  }
 },
 "nbformat": 4,
 "nbformat_minor": 2
}
