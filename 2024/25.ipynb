{
 "cells": [
  {
   "cell_type": "code",
   "execution_count": 23,
   "metadata": {},
   "outputs": [],
   "source": [
    "import os\n",
    "os.chdir('..')\n",
    "from inputGetter import get_input\n",
    "\n",
    "content = get_input(2024, 25)[:-1]"
   ]
  },
  {
   "cell_type": "code",
   "execution_count": 24,
   "metadata": {},
   "outputs": [
    {
     "name": "stdout",
     "output_type": "stream",
     "text": [
      "Part A: 3057\n"
     ]
    }
   ],
   "source": [
    "content = content.split('\\n')\n",
    "locks, keys = [], []\n",
    "sz_r, sz_c = 7, 5\n",
    "for id in range(0, len(content), sz_r + 1):\n",
    "    curr_block = content[id: id + sz_r]\n",
    "    is_key = all([curr_block[-1][c] == '#' for c in range(sz_c)])   # Either a key or a lock\n",
    "    check_chr = '.' if is_key else '#'\n",
    "    \n",
    "    '''In each column: \n",
    "    - If the current block is a key, contains the highest row that is empty\n",
    "    - Otherwise, contains the highest row that is filled\n",
    "    '''\n",
    "    transformed = [0] * sz_c    \n",
    "    for c in range(sz_c):\n",
    "        while curr_block[transformed[c] + 1][c] == check_chr:\n",
    "            transformed[c] += 1\n",
    "    \n",
    "    if is_key:\n",
    "        keys.append(transformed)\n",
    "    else:\n",
    "        locks.append(transformed)\n",
    "\n",
    "# The check is to make sure that the filled cells of a lock can fit in the empty cells of a key\n",
    "res_a = 0\n",
    "for lock in locks:\n",
    "    for key in keys:\n",
    "        res_a += all([key[c] >= lock[c] for c in range(sz_c)])\n",
    "\n",
    "print(f'Part A: {res_a}')"
   ]
  }
 ],
 "metadata": {
  "kernelspec": {
   "display_name": "base",
   "language": "python",
   "name": "python3"
  },
  "language_info": {
   "codemirror_mode": {
    "name": "ipython",
    "version": 3
   },
   "file_extension": ".py",
   "mimetype": "text/x-python",
   "name": "python",
   "nbconvert_exporter": "python",
   "pygments_lexer": "ipython3",
   "version": "3.11.7"
  }
 },
 "nbformat": 4,
 "nbformat_minor": 2
}
