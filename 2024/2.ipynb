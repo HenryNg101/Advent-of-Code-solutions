{
 "cells": [
  {
   "cell_type": "code",
   "execution_count": 3,
   "metadata": {},
   "outputs": [],
   "source": [
    "import os\n",
    "os.chdir('..')\n",
    "from inputGetter import get_input\n",
    "\n",
    "content = get_input(2024, 2)[:-1]"
   ]
  },
  {
   "cell_type": "code",
   "execution_count": 4,
   "metadata": {},
   "outputs": [
    {
     "name": "stdout",
     "output_type": "stream",
     "text": [
      "Part A: 326\n",
      "Part B: 381\n"
     ]
    }
   ],
   "source": [
    "# The second check is to check when the array is same direction or not\n",
    "def is_safe(arr):\n",
    "    return all(abs(arr[i] - arr[i-1]) in range(1, 4) and (arr[i] > arr[i-1]) == (arr[1] > arr[0]) for i in range(1, len(arr)))\n",
    "\n",
    "res_a, res_b = 0, 0\n",
    "for line in content.split('\\n'):\n",
    "    line = [int(val) for val in line.split(' ')]\n",
    "    res_a += is_safe(line)\n",
    "    \n",
    "    for i in range(len(line)+1):\n",
    "        if is_safe(line[:i] + line[i+1:]):\n",
    "            res_b += 1\n",
    "            break\n",
    "        \n",
    "print(f'Part A: {res_a}')\n",
    "print(f'Part B: {res_b}')"
   ]
  }
 ],
 "metadata": {
  "kernelspec": {
   "display_name": "base",
   "language": "python",
   "name": "python3"
  },
  "language_info": {
   "codemirror_mode": {
    "name": "ipython",
    "version": 3
   },
   "file_extension": ".py",
   "mimetype": "text/x-python",
   "name": "python",
   "nbconvert_exporter": "python",
   "pygments_lexer": "ipython3",
   "version": "3.11.7"
  }
 },
 "nbformat": 4,
 "nbformat_minor": 2
}
