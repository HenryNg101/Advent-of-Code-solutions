{
 "cells": [
  {
   "cell_type": "code",
   "execution_count": 1,
   "metadata": {},
   "outputs": [],
   "source": [
    "import os\n",
    "os.chdir('..')\n",
    "from inputGetter import get_input\n",
    "\n",
    "content = get_input(2024, 1)[:-1]"
   ]
  },
  {
   "cell_type": "code",
   "execution_count": null,
   "metadata": {},
   "outputs": [
    {
     "name": "stdout",
     "output_type": "stream",
     "text": [
      "Part A: 2769675\n",
      "Part B: 24643097\n"
     ]
    }
   ],
   "source": [
    "content = content.split('\\n')\n",
    "\n",
    "lefts, rights = [], []\n",
    "occurences = {}\n",
    "res_a, res_b = 0, 0\n",
    "\n",
    "for line in content:\n",
    "    left, right = [int(val) for val in line.split()]\n",
    "    lefts.append(left)\n",
    "    rights.append(right)\n",
    "    occurences[right] = occurences.get(right, 0) + 1\n",
    "    \n",
    "lefts.sort()\n",
    "rights.sort()\n",
    "\n",
    "res_a = sum(abs(l - r) for l, r in zip(lefts, rights))\n",
    "res_b = sum(left * occurences.get(left, 0) for left in lefts)\n",
    "\n",
    "print(f'Part A: {res_a}')\n",
    "print(f'Part B: {res_b}')"
   ]
  }
 ],
 "metadata": {
  "kernelspec": {
   "display_name": "base",
   "language": "python",
   "name": "python3"
  },
  "language_info": {
   "codemirror_mode": {
    "name": "ipython",
    "version": 3
   },
   "file_extension": ".py",
   "mimetype": "text/x-python",
   "name": "python",
   "nbconvert_exporter": "python",
   "pygments_lexer": "ipython3",
   "version": "3.11.7"
  }
 },
 "nbformat": 4,
 "nbformat_minor": 2
}
