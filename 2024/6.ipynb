{
 "cells": [
  {
   "cell_type": "code",
   "execution_count": 25,
   "metadata": {},
   "outputs": [],
   "source": [
    "import os\n",
    "os.chdir('..')\n",
    "from inputGetter import get_input\n",
    "from sortedcontainers import SortedList\n",
    "import copy\n",
    "\n",
    "content = get_input(2024, 6)[:-1]"
   ]
  },
  {
   "cell_type": "markdown",
   "metadata": {},
   "source": [
    "# Part A"
   ]
  },
  {
   "cell_type": "code",
   "execution_count": 26,
   "metadata": {},
   "outputs": [],
   "source": [
    "content = content.split('\\n')\n",
    "content = [list(line) for line in content]\n",
    "\n",
    "sz_r, sz_c = len(content), len(content[0])\n",
    "travelled = [[False for _ in range(sz_c)] for _ in range(sz_r)]\n",
    "\n",
    "start_r, start_c = -1, -1\n",
    "direction = '^'\n",
    "\n",
    "# Data for part B. Basically, for each row/column, it will contain all columns/rows that has obstacble\n",
    "obstacles_by_rows = [SortedList() for _ in range(sz_r)]\n",
    "obstacles_by_columns = [SortedList() for _ in range(sz_c)]\n",
    "\n",
    "for r in range(sz_r):\n",
    "    for c in range(sz_c):\n",
    "        if content[r][c] == direction:\n",
    "            start_r, start_c = r, c\n",
    "        if content[r][c] == '#':\n",
    "            obstacles_by_rows[r].add(c)\n",
    "            obstacles_by_columns[c].add(r)"
   ]
  },
  {
   "cell_type": "code",
   "execution_count": 27,
   "metadata": {},
   "outputs": [],
   "source": [
    "# '''\n",
    "# This function basically, based on the current row, column, and direction information, it would find the closest obstacle that it will reach\n",
    "# The finding will be O(log n)\n",
    "# There's add or subtract 1 in depends on the direction because u would stop before touching the obstacle\n",
    "# '''\n",
    "# def get_new_position(direction, r, c):\n",
    "#     if direction == '^':\n",
    "#         row_id = obstacles_by_columns[c].bisect_left(r) - 1\n",
    "#         return (obstacles_by_columns[c][row_id] + 1 if row_id >= 0 else -1, c)\n",
    "    \n",
    "#     elif direction == 'v':\n",
    "#         row_id = obstacles_by_columns[c].bisect_right(r)\n",
    "#         return (obstacles_by_columns[c][row_id] - 1 if row_id < len(obstacles_by_columns[c]) else sz_r, c)\n",
    "    \n",
    "#     elif direction == '<':\n",
    "#         col_id = obstacles_by_rows[r].bisect_left(c) - 1\n",
    "#         return (r, obstacles_by_rows[r][col_id] + 1 if col_id >= 0 else -1)\n",
    "    \n",
    "#     elif direction == '>':\n",
    "#         col_id = obstacles_by_rows[r].bisect_right(c)\n",
    "#         return (r, obstacles_by_rows[r][col_id] - 1 if col_id < len(obstacles_by_rows[r]) else sz_c)"
   ]
  },
  {
   "cell_type": "code",
   "execution_count": 28,
   "metadata": {},
   "outputs": [
    {
     "name": "stdout",
     "output_type": "stream",
     "text": [
      "Part A: 4663\n"
     ]
    }
   ],
   "source": [
    "directions = {'^': (-1, 0), 'v': (1, 0), '>': (0, 1), '<': (0, -1)}\n",
    "turns = {'^': '>', '>': 'v', 'v': '<', '<': '^'}\n",
    "cpy_r, cpy_c = start_r, start_c\n",
    "# res_b = 0\n",
    "\n",
    "while True:\n",
    "    travelled[cpy_r][cpy_c] = True\n",
    "    \n",
    "    # Part B logic\n",
    "    # if content[cpy_r][cpy_c] != '^':\n",
    "    #     obstacles_by_rows[cpy_r].add(cpy_c)\n",
    "    #     obstacles_by_columns[cpy_c].add(cpy_r)\n",
    "        \n",
    "    #     cpy_r_2, cpy_c_2 = start_r, start_c\n",
    "    #     visited = set()\n",
    "    #     direction = '^'\n",
    "        \n",
    "    #     while True:\n",
    "    #         if cpy_r_2 < 0 or cpy_r_2 >= sz_r or cpy_c_2 < 0 or cpy_c_2 >= sz_c:\n",
    "    #             break\n",
    "    #         if (cpy_r_2, cpy_c_2, direction) in visited:\n",
    "    #             res_b += 1\n",
    "    #             break\n",
    "    #         visited.add((cpy_r_2, cpy_c_2, direction))\n",
    "\n",
    "    #         cpy_r_2, cpy_c_2 = get_new_position(direction, cpy_r_2, cpy_c_2)\n",
    "    #         direction = turns[direction]\n",
    "        \n",
    "    #     obstacles_by_rows[cpy_r].remove(cpy_c)\n",
    "    #     obstacles_by_columns[cpy_c].remove(cpy_r)\n",
    "    \n",
    "    next_r, next_c = cpy_r + directions[direction][0], cpy_c + directions[direction][1]\n",
    "    if next_r not in range(sz_r) or next_c not in range(sz_c):\n",
    "        break\n",
    "    \n",
    "    if content[next_r][next_c] == '#':\n",
    "        direction = turns[direction]\n",
    "    else:\n",
    "        cpy_r, cpy_c = next_r, next_c\n",
    "\n",
    "print(f'Part A: {sum([sum(row) for row in travelled])}')"
   ]
  },
  {
   "cell_type": "markdown",
   "metadata": {},
   "source": [
    "# Part B"
   ]
  },
  {
   "cell_type": "code",
   "execution_count": 29,
   "metadata": {},
   "outputs": [],
   "source": [
    "'''\n",
    "This function basically, based on the current row, column, and direction information, it would find the closest obstacle that it will reach\n",
    "The finding will be O(log n)\n",
    "There's add or subtract 1 in depends on the direction because u would stop before touching the obstacle\n",
    "'''\n",
    "def get_new_position(direction, r, c):\n",
    "    if direction == '^':\n",
    "        row_id = obstacles_by_columns[c].bisect_left(r) - 1\n",
    "        return (obstacles_by_columns[c][row_id] + 1 if row_id >= 0 else -1, c)\n",
    "    \n",
    "    elif direction == 'v':\n",
    "        row_id = obstacles_by_columns[c].bisect_right(r)\n",
    "        return (obstacles_by_columns[c][row_id] - 1 if row_id < len(obstacles_by_columns[c]) else sz_r, c)\n",
    "    \n",
    "    elif direction == '<':\n",
    "        col_id = obstacles_by_rows[r].bisect_left(c) - 1\n",
    "        return (r, obstacles_by_rows[r][col_id] + 1 if col_id >= 0 else -1)\n",
    "    \n",
    "    elif direction == '>':\n",
    "        col_id = obstacles_by_rows[r].bisect_right(c)\n",
    "        return (r, obstacles_by_rows[r][col_id] - 1 if col_id < len(obstacles_by_rows[r]) else sz_c)"
   ]
  },
  {
   "cell_type": "code",
   "execution_count": 30,
   "metadata": {},
   "outputs": [
    {
     "name": "stdout",
     "output_type": "stream",
     "text": [
      "Part B: 1530\n"
     ]
    }
   ],
   "source": [
    "res_b = 0\n",
    "for r in range(sz_r):\n",
    "    for c in range(sz_c):\n",
    "        if travelled[r][c] and content[r][c] != '^':\n",
    "            obstacles_by_rows[r].add(c)\n",
    "            obstacles_by_columns[c].add(r)\n",
    "            \n",
    "            cpy_r, cpy_c = start_r, start_c\n",
    "            visited = set()\n",
    "            direction = '^'\n",
    "            \n",
    "            while True:\n",
    "                if cpy_r < 0 or cpy_r >= sz_r or cpy_c < 0 or cpy_c >= sz_c:\n",
    "                    break\n",
    "                if (cpy_r, cpy_c, direction) in visited:\n",
    "                    res_b += 1\n",
    "                    break\n",
    "                visited.add((cpy_r, cpy_c, direction))\n",
    "\n",
    "                cpy_r, cpy_c = get_new_position(direction, cpy_r, cpy_c)\n",
    "                direction = turns[direction]\n",
    "            \n",
    "            obstacles_by_rows[r].remove(c)\n",
    "            obstacles_by_columns[c].remove(r)\n",
    "\n",
    "print(f'Part B: {res_b}')"
   ]
  }
 ],
 "metadata": {
  "kernelspec": {
   "display_name": "base",
   "language": "python",
   "name": "python3"
  },
  "language_info": {
   "codemirror_mode": {
    "name": "ipython",
    "version": 3
   },
   "file_extension": ".py",
   "mimetype": "text/x-python",
   "name": "python",
   "nbconvert_exporter": "python",
   "pygments_lexer": "ipython3",
   "version": "3.11.7"
  }
 },
 "nbformat": 4,
 "nbformat_minor": 2
}
