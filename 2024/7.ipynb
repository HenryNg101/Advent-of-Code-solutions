{
 "cells": [
  {
   "cell_type": "code",
   "execution_count": 9,
   "metadata": {},
   "outputs": [],
   "source": [
    "import os\n",
    "os.chdir('..')\n",
    "from inputGetter import get_input\n",
    "import math\n",
    "\n",
    "content = get_input(2024, 7)[:-1]"
   ]
  },
  {
   "cell_type": "code",
   "execution_count": null,
   "metadata": {},
   "outputs": [
    {
     "name": "stdout",
     "output_type": "stream",
     "text": [
      "Part A: 66343330034722\n",
      "Part B: 637696070419031\n"
     ]
    }
   ],
   "source": [
    "content = content.split('\\n')\n",
    "res_a, res_b = 0, 0\n",
    "for line in content:\n",
    "    result, nums = line.split(': ')\n",
    "    result = int(result)\n",
    "    nums = [int(num) for num in nums.split(' ')]\n",
    "    \n",
    "    # Backtrack to see if this is possible\n",
    "    def dfs(id, curr, is_concat):\n",
    "        if curr > result or id >= len(nums):\n",
    "            return curr == result and id >= len(nums)\n",
    "                \n",
    "        # For part B, when there's also concatenation\n",
    "        if is_concat:\n",
    "            num_digits = int(math.log10(nums[id])) + 1 if nums[id] > 0 else 1\n",
    "            return (dfs(id+1, curr + nums[id], is_concat) or \n",
    "                    dfs(id+1, curr * nums[id], is_concat) or \n",
    "                    dfs(id+1, curr * (10 ** num_digits) + nums[id], is_concat))\n",
    "\n",
    "        # For part A, when only multiplication and addition is allowed\n",
    "        return (dfs(id+1, curr + nums[id], is_concat) or \n",
    "                dfs(id+1, curr * nums[id], is_concat))\n",
    "    \n",
    "    if dfs(1, nums[0], False):\n",
    "        res_a += result\n",
    "    if dfs(1, nums[0], True):\n",
    "        res_b += result\n",
    "\n",
    "print(f'Part A: {res_a}')\n",
    "print(f'Part B: {res_b}')"
   ]
  }
 ],
 "metadata": {
  "kernelspec": {
   "display_name": "base",
   "language": "python",
   "name": "python3"
  },
  "language_info": {
   "codemirror_mode": {
    "name": "ipython",
    "version": 3
   },
   "file_extension": ".py",
   "mimetype": "text/x-python",
   "name": "python",
   "nbconvert_exporter": "python",
   "pygments_lexer": "ipython3",
   "version": "3.11.7"
  }
 },
 "nbformat": 4,
 "nbformat_minor": 2
}
