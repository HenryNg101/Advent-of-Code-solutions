{
 "cells": [
  {
   "cell_type": "code",
   "execution_count": 1,
   "metadata": {},
   "outputs": [],
   "source": [
    "import os\n",
    "os.chdir('..')\n",
    "from inputGetter import get_input\n",
    "from collections import defaultdict\n",
    "\n",
    "content = get_input(2024, 8)[:-1]"
   ]
  },
  {
   "cell_type": "code",
   "execution_count": 2,
   "metadata": {},
   "outputs": [
    {
     "name": "stdout",
     "output_type": "stream",
     "text": [
      "Part A: 313\n",
      "Part B: 1064\n"
     ]
    }
   ],
   "source": [
    "content = content.split('\\n')\n",
    "sz_r, sz_c = len(content), len(content[0])\n",
    "antennas_groups = defaultdict(list)\n",
    "visited = [[False for _ in range(sz_c)] for _ in range(sz_r)]\n",
    "\n",
    "def find_antinodes(part, min_dis, max_dis):\n",
    "    for group in antennas_groups.values():\n",
    "        for r1, c1 in group:\n",
    "            for r2, c2 in group:\n",
    "                if r1 != r2 or c1 != c2:\n",
    "                    dis_r, dis_c = r2 - r1, c2 - c1                \n",
    "                    for i in range(min_dis, max_dis):\n",
    "                        r3, c3 = r1 - dis_r * i, c1 - dis_c * i\n",
    "                        if r3 < 0 or r3 >= sz_r or c3 < 0 or c3 >= sz_c:\n",
    "                            break\n",
    "                        visited[r3][c3] = True\n",
    "                    for i in range(min_dis, max_dis):\n",
    "                        r4, c4 = r2 + dis_r * i, c2 + dis_c * i\n",
    "                        if r4 < 0 or r4 >= sz_r or c4 < 0 or c4 >= sz_c:\n",
    "                            break\n",
    "                        visited[r4][c4] = True\n",
    "                    \n",
    "    print(f'Part {part}: {sum([sum(line) for line in visited])}')\n",
    "\n",
    "# Group all similar attenas together into different groups\n",
    "for r in range(sz_r):\n",
    "    for c in range(sz_c):\n",
    "        if content[r][c] != '.':\n",
    "            antennas_groups[content[r][c]].append((r, c))\n",
    "\n",
    "find_antinodes('A', 1, 2)  # Part A. Only take the ones that are one unit of distance away\n",
    "find_antinodes('B', 0, max(sz_r, sz_c))  # Part B. Take everything, from zero (means that, the attena itself) to infinite (only stop when get out of bound)"
   ]
  }
 ],
 "metadata": {
  "kernelspec": {
   "display_name": "base",
   "language": "python",
   "name": "python3"
  },
  "language_info": {
   "codemirror_mode": {
    "name": "ipython",
    "version": 3
   },
   "file_extension": ".py",
   "mimetype": "text/x-python",
   "name": "python",
   "nbconvert_exporter": "python",
   "pygments_lexer": "ipython3",
   "version": "3.11.7"
  }
 },
 "nbformat": 4,
 "nbformat_minor": 2
}
