{
 "cells": [
  {
   "cell_type": "code",
   "execution_count": 7,
   "metadata": {},
   "outputs": [],
   "source": [
    "import os\n",
    "os.chdir('..')\n",
    "from inputGetter import get_input\n",
    "\n",
    "content = get_input(2024, 9)[:-1]"
   ]
  },
  {
   "cell_type": "code",
   "execution_count": 8,
   "metadata": {},
   "outputs": [
    {
     "name": "stdout",
     "output_type": "stream",
     "text": [
      "Part A: 6310675819476\n"
     ]
    }
   ],
   "source": [
    "content = [int(num) for num in list(content)]\n",
    "sz = len(content)\n",
    "\n",
    "# Build real content\n",
    "file_id = 0\n",
    "real_content = []\n",
    "for id, size in enumerate(content):\n",
    "    real_content.extend([file_id if id % 2 == 0 else -1] * size)\n",
    "    file_id += id % 2 == 0\n",
    "\n",
    "# Rearrange\n",
    "res_a = 0\n",
    "back_id = len(real_content) - 1\n",
    "for id in range(len(real_content)):\n",
    "    if real_content[id] == -1:\n",
    "        while back_id > id and real_content[back_id] == -1:\n",
    "            back_id -= 1\n",
    "        if back_id <= id:\n",
    "            break\n",
    "        real_content[id], real_content[back_id] = real_content[back_id], real_content[id]\n",
    "    res_a += id * real_content[id]\n",
    "\n",
    "print(f\"Part A: {res_a}\")"
   ]
  },
  {
   "cell_type": "code",
   "execution_count": null,
   "metadata": {},
   "outputs": [
    {
     "name": "stdout",
     "output_type": "stream",
     "text": [
      "Part B: 6335972980679\n"
     ]
    }
   ],
   "source": [
    "files, free_spaces = [], []\n",
    "start_id = 0\n",
    "\n",
    "# No file is empty, so it's okay to not tracking ID, just track the amount of files is enough\n",
    "for id, size in enumerate(content):\n",
    "    if size > 0:\n",
    "        if id % 2 == 0:\n",
    "            files.append((start_id, size))\n",
    "        else:\n",
    "            free_spaces.append((start_id, size))\n",
    "        start_id += size\n",
    "\n",
    "for id in range(len(files)-1, -1, -1):\n",
    "    file_start, file_sz = files[id]\n",
    "    for i in range(len(free_spaces)):\n",
    "        free_start, free_sz = free_spaces[i]\n",
    "        if free_start > file_start:\n",
    "            break\n",
    "        if free_sz >= file_sz:\n",
    "            files[id] = (free_start, file_sz)\n",
    "            free_spaces[i] = (free_start + file_sz, free_sz - file_sz)\n",
    "            if free_sz == file_sz:\n",
    "                free_spaces.pop(i)\n",
    "            break\n",
    "\n",
    "res_b = 0\n",
    "for file_id, file_info in enumerate(files):\n",
    "    file_start, file_sz = file_info\n",
    "    files_sum = (file_sz * (2 * file_start + file_sz - 1)) // 2\n",
    "    res_b += file_id * files_sum\n",
    "\n",
    "print(f'Part B: {res_b}')"
   ]
  }
 ],
 "metadata": {
  "kernelspec": {
   "display_name": "base",
   "language": "python",
   "name": "python3"
  },
  "language_info": {
   "codemirror_mode": {
    "name": "ipython",
    "version": 3
   },
   "file_extension": ".py",
   "mimetype": "text/x-python",
   "name": "python",
   "nbconvert_exporter": "python",
   "pygments_lexer": "ipython3",
   "version": "3.11.7"
  }
 },
 "nbformat": 4,
 "nbformat_minor": 2
}
