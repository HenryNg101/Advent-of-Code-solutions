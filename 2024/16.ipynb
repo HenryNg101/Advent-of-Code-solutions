{
 "cells": [
  {
   "cell_type": "code",
   "execution_count": 4,
   "metadata": {},
   "outputs": [],
   "source": [
    "import os\n",
    "os.chdir('..')\n",
    "from inputGetter import get_input\n",
    "import heapq\n",
    "\n",
    "content = get_input(2024, 16)[:-1]"
   ]
  },
  {
   "cell_type": "markdown",
   "metadata": {},
   "source": [
    "# Part A\n",
    "An interesting graph problem using Dijkstra. However, the extra information of direction makes it more intricate. Had to use 3d array of `min_cost[r][c][direction]` to track on all cells and directions"
   ]
  },
  {
   "cell_type": "code",
   "execution_count": 5,
   "metadata": {},
   "outputs": [
    {
     "name": "stdout",
     "output_type": "stream",
     "text": [
      "Part A: 143564\n"
     ]
    }
   ],
   "source": [
    "content = content.split('\\n')\n",
    "sz_r, sz_c = len(content), len(content[0])\n",
    "# Contains info on shortest path on all cells, and in all 4 directions\n",
    "min_cost = [[[float('inf')] * 4 for _ in range(sz_c)] for _ in range(sz_r)]\n",
    "min_cost[sz_r - 2][1][3] = 0\n",
    "\n",
    "# Directions encoded as '^' = 0, 'v' = 1, '<' = 2, '>' = 3\n",
    "directions = [(-1, 0, 0), (1, 0, 1), (0, -1, 2), (0, 1, 3)]\n",
    "\n",
    "# Priority queue using heapq\n",
    "# Put the current cost info, so the heap can prioritize based on cost, like how Dijkstra do\n",
    "pq = []\n",
    "heapq.heappush(pq, (0, sz_r - 2, 1, 3))\n",
    "\n",
    "while pq:\n",
    "    current_cost, r, c, direction = heapq.heappop(pq)\n",
    "\n",
    "    for add_r, add_c, dir in directions:\n",
    "        new_r, new_c = r + add_r, c + add_c\n",
    "        if 0 <= new_r < sz_r and 0 <= new_c < sz_c and content[new_r][new_c] != '#':\n",
    "            extra_cost = 1 if direction == dir else 1001\n",
    "\n",
    "            if current_cost + extra_cost < min_cost[new_r][new_c][dir]:\n",
    "                min_cost[new_r][new_c][dir] = current_cost + extra_cost\n",
    "                heapq.heappush(pq, (min_cost[new_r][new_c][dir], new_r, new_c, dir))\n",
    "\n",
    "res_id = 0\n",
    "for i in range(4):\n",
    "    if min_cost[1][sz_c - 2][i] <= min_cost[1][sz_c - 2][res_id]:\n",
    "        res_id = i\n",
    "\n",
    "print(\"Part A:\", min_cost[1][sz_c - 2][res_id])"
   ]
  },
  {
   "cell_type": "markdown",
   "metadata": {},
   "source": [
    "# Part B\n",
    "The strat here is to track back from the goal cell and direction, to the beginning. If a cell with a specific direction lies on the optimal path, it must have the right cost like expected"
   ]
  },
  {
   "cell_type": "code",
   "execution_count": 6,
   "metadata": {},
   "outputs": [
    {
     "name": "stdout",
     "output_type": "stream",
     "text": [
      "Part B: 593\n"
     ]
    }
   ],
   "source": [
    "'''\n",
    "This has the requirements on each cell. It would decide the required cost of previous cell on the optimal path\n",
    "For example, a cell in position that has distance (1, 0) from this cell -> It's on the bottom side of this cell\n",
    "-> Top direction of this cell (which is encoded as 0) would has to have cost less than 1 to be on optimal path \n",
    "(Because no turn). Other directions only need to have cost less than 1001 to be optimal (1 move + 1 turn)\n",
    "'''\n",
    "cells_requirements = [(1, 0, 0), (-1, 0, 1), (0, 1, 2), (0, -1, 3)]\n",
    "stack = []\n",
    "visited = [[[False] * 4 for _ in range(sz_c)] for _ in range(sz_r)]\n",
    "\n",
    "for i in range(4):\n",
    "    if min_cost[1][sz_c - 2][i] == min_cost[1][sz_c - 2][res_id]:\n",
    "        stack.append((1, sz_c - 2, i))\n",
    "        visited[1][sz_c - 2][i] = True\n",
    "\n",
    "while stack:\n",
    "    r, c, direction = stack.pop()\n",
    "\n",
    "    for add_r, add_c, required_direction in cells_requirements:\n",
    "        new_r, new_c = r + add_r, c + add_c\n",
    "        if 0 <= new_r < sz_r and 0 <= new_c < sz_c:\n",
    "            for i in range(4):\n",
    "                if not visited[new_r][new_c][i]:\n",
    "                    req_cost = min_cost[r][c][direction] - (1 if i == required_direction else 1001)\n",
    "\n",
    "                    if min_cost[new_r][new_c][i] == req_cost:\n",
    "                        visited[new_r][new_c][i] = True\n",
    "                        stack.append((new_r, new_c, i))\n",
    "\n",
    "# If a cell has any direction that got into the optimal path, we take that cell\n",
    "res_b = 0\n",
    "for r in range(sz_r):\n",
    "    for c in range(sz_c):\n",
    "        res_b += any(visited[r][c][direction] for direction in range(4))\n",
    "\n",
    "print(\"Part B:\", res_b)"
   ]
  }
 ],
 "metadata": {
  "kernelspec": {
   "display_name": "base",
   "language": "python",
   "name": "python3"
  },
  "language_info": {
   "codemirror_mode": {
    "name": "ipython",
    "version": 3
   },
   "file_extension": ".py",
   "mimetype": "text/x-python",
   "name": "python",
   "nbconvert_exporter": "python",
   "pygments_lexer": "ipython3",
   "version": "3.11.7"
  }
 },
 "nbformat": 4,
 "nbformat_minor": 2
}
