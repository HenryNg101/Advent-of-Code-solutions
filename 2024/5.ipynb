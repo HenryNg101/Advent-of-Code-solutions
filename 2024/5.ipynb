{
 "cells": [
  {
   "cell_type": "code",
   "execution_count": 23,
   "metadata": {},
   "outputs": [],
   "source": [
    "import os\n",
    "os.chdir('..')\n",
    "from inputGetter import get_input\n",
    "from queue import Queue\n",
    "\n",
    "content = get_input(2024, 5)[:-1]"
   ]
  },
  {
   "cell_type": "code",
   "execution_count": null,
   "metadata": {},
   "outputs": [],
   "source": [
    "# Find the actual order of an array based on dependencies info \n",
    "def topo_sort(arr, dependencies):\n",
    "    indegree = {node: 0 for node in arr}\n",
    "    mp = {node: [] for node in arr}\n",
    "    \n",
    "    # Making a sub-graph for the array based on dependencies info\n",
    "    for node in arr:\n",
    "        for another_node in arr:\n",
    "            if another_node in dependencies[node]:\n",
    "                mp[node].append(another_node)\n",
    "                indegree[another_node] += 1\n",
    "    \n",
    "    # Kahn algorithm. Get the ones with indegree of 0 first, then work towards it\n",
    "    q = Queue()\n",
    "    for node, degree in indegree.items():\n",
    "        if degree == 0:\n",
    "            q.put(node)\n",
    "    \n",
    "    # Priority level of each node. 0 is the highest priority and will go first in the new order\n",
    "    priority_levels = {}\n",
    "    level = 0\n",
    "    while not q.empty():\n",
    "        sz = q.qsize()\n",
    "        for _ in range(sz):\n",
    "            curr = q.get()\n",
    "            priority_levels[curr] = level\n",
    "            \n",
    "            for nx in mp[curr]:\n",
    "                indegree[nx] -= 1\n",
    "                if indegree[nx] == 0:\n",
    "                    q.put(nx)\n",
    "        level += 1\n",
    "    \n",
    "    return sorted(arr, key=lambda x: priority_levels[x])"
   ]
  },
  {
   "cell_type": "code",
   "execution_count": 25,
   "metadata": {},
   "outputs": [
    {
     "name": "stdout",
     "output_type": "stream",
     "text": [
      "Part A: 5964\n",
      "Part B: 4719\n"
     ]
    }
   ],
   "source": [
    "content = content.split('\\n')\n",
    "dependencies = {}\n",
    "id = 0\n",
    "while content[id] != '':\n",
    "    parent, child = [int(node) for node in content[id].split('|')]\n",
    "    if parent not in dependencies:\n",
    "        dependencies[parent] = set()\n",
    "    if child not in dependencies:\n",
    "        dependencies[child] = set()\n",
    "        \n",
    "    dependencies[parent].add(child)\n",
    "    id += 1\n",
    "\n",
    "res_a, res_b = 0, 0\n",
    "for line in content[id+1:]:\n",
    "    arr = [int(node) for node in line.split(',')]\n",
    "    # If the topo sorting of the arr is same as arr, it's valid\n",
    "    new_order = topo_sort(arr, dependencies)\n",
    "    if new_order == arr:\n",
    "        res_a += new_order[len(new_order) // 2]\n",
    "    else:\n",
    "        res_b += new_order[len(new_order) // 2]\n",
    "\n",
    "print(f'Part A: {res_a}')\n",
    "print(f'Part B: {res_b}')"
   ]
  }
 ],
 "metadata": {
  "kernelspec": {
   "display_name": "base",
   "language": "python",
   "name": "python3"
  },
  "language_info": {
   "codemirror_mode": {
    "name": "ipython",
    "version": 3
   },
   "file_extension": ".py",
   "mimetype": "text/x-python",
   "name": "python",
   "nbconvert_exporter": "python",
   "pygments_lexer": "ipython3",
   "version": "3.11.7"
  }
 },
 "nbformat": 4,
 "nbformat_minor": 2
}
