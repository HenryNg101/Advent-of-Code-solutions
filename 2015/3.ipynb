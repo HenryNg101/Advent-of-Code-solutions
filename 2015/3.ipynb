{
 "cells": [
  {
   "attachments": {},
   "cell_type": "markdown",
   "metadata": {},
   "source": [
    "# Part 1"
   ]
  },
  {
   "cell_type": "code",
   "execution_count": 7,
   "metadata": {},
   "outputs": [
    {
     "name": "stdout",
     "output_type": "stream",
     "text": [
      "2572\n"
     ]
    }
   ],
   "source": [
    "import os\n",
    "os.chdir('..')\n",
    "from inputGetter import get_input\n",
    "\n",
    "content = get_input(2015, 3)\n",
    "\n",
    "start_loc = [0, 0]\n",
    "res_a = set()\n",
    "res_a.add(tuple(start_loc))\n",
    "\n",
    "for char in content:\n",
    "    if char == '^':\n",
    "        start_loc[0] -= 1\n",
    "    elif char == 'v':\n",
    "        start_loc[0] += 1\n",
    "    elif char == '<':\n",
    "        start_loc[1] -= 1\n",
    "    else:\n",
    "        start_loc[1] += 1\n",
    "    res_a.add(tuple(start_loc))\n",
    "\n",
    "print(len(res_a))"
   ]
  },
  {
   "cell_type": "code",
   "execution_count": 10,
   "metadata": {},
   "outputs": [
    {
     "name": "stdout",
     "output_type": "stream",
     "text": [
      "2631\n"
     ]
    }
   ],
   "source": [
    "start_loc = [[0, 0], [0, 0]]\n",
    "res_b = [set(), set()]\n",
    "res_b[0].add(tuple(start_loc[0]))\n",
    "\n",
    "for i in range(0, len(content), 2):\n",
    "    for j in range(2):\n",
    "        char = content[i+j]\n",
    "        if char == '^':\n",
    "            start_loc[j][0] -= 1\n",
    "        elif char == 'v':\n",
    "            start_loc[j][0] += 1\n",
    "        elif char == '<':\n",
    "            start_loc[j][1] -= 1\n",
    "        else:\n",
    "            start_loc[j][1] += 1\n",
    "        res_b[j].add(tuple(start_loc[j]))\n",
    "\n",
    "print(len(res_b[0] | res_b[1]))"
   ]
  }
 ],
 "metadata": {
  "kernelspec": {
   "display_name": "Python 3 (ipykernel)",
   "language": "python",
   "name": "python3"
  },
  "language_info": {
   "codemirror_mode": {
    "name": "ipython",
    "version": 3
   },
   "file_extension": ".py",
   "mimetype": "text/x-python",
   "name": "python",
   "nbconvert_exporter": "python",
   "pygments_lexer": "ipython3",
   "version": "3.10.6"
  },
  "orig_nbformat": 4
 },
 "nbformat": 4,
 "nbformat_minor": 2
}
