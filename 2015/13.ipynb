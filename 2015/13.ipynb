{
 "cells": [
  {
   "attachments": {},
   "cell_type": "markdown",
   "metadata": {},
   "source": [
    "# Get and processing input"
   ]
  },
  {
   "cell_type": "code",
   "execution_count": 9,
   "metadata": {},
   "outputs": [],
   "source": [
    "from ast import List\n",
    "import os\n",
    "os.chdir('..')\n",
    "from inputGetter import get_input\n",
    "from itertools import permutations\n",
    "\n",
    "content = get_input(2015, 13).split('\\n')[:-1]\n",
    "\n",
    "mp = dict()\n",
    "peoples = set()\n",
    "\n",
    "for line in content:\n",
    "    line = line.split()\n",
    "    start, stop, cost = line[0], line[-1][:-1], int(line[3])\n",
    "    if line[2] == 'lose':\n",
    "        cost = 0 - cost\n",
    "        \n",
    "    peoples.add(start)\n",
    "    peoples.add(stop)\n",
    "    if start not in mp:\n",
    "        mp[start] = dict()\n",
    "    if stop not in mp:\n",
    "        mp[stop] = dict()\n",
    "    mp[start][stop] = int(cost)"
   ]
  },
  {
   "attachments": {},
   "cell_type": "markdown",
   "metadata": {},
   "source": [
    "# Part 1"
   ]
  },
  {
   "cell_type": "code",
   "execution_count": 10,
   "metadata": {},
   "outputs": [
    {
     "name": "stdout",
     "output_type": "stream",
     "text": [
      "709\n"
     ]
    }
   ],
   "source": [
    "def optimal_hapiness(peoples, mp):\n",
    "    max_dis = -999999999999999\n",
    "\n",
    "    for perm in permutations(peoples):\n",
    "        total_dis = 0\n",
    "        for i in range(len(perm)):\n",
    "            j = i - 1 if i > 0 else len(perm) - 1\n",
    "            start, stop = perm[j], perm[i]\n",
    "            total_dis += mp[start][stop] + mp[stop][start]\n",
    "\n",
    "        max_dis = max(max_dis, total_dis)\n",
    "\n",
    "    return max_dis\n",
    "\n",
    "print(optimal_hapiness(peoples, mp))"
   ]
  },
  {
   "attachments": {},
   "cell_type": "markdown",
   "metadata": {},
   "source": [
    "# Part 2"
   ]
  },
  {
   "cell_type": "code",
   "execution_count": 11,
   "metadata": {},
   "outputs": [
    {
     "name": "stdout",
     "output_type": "stream",
     "text": [
      "668\n"
     ]
    }
   ],
   "source": [
    "mp['you'] = dict()\n",
    "for people in peoples:\n",
    "    mp[people]['you'] = 0\n",
    "    mp['you'][people] = 0\n",
    "peoples.add('you')\n",
    "print(optimal_hapiness(peoples, mp))"
   ]
  }
 ],
 "metadata": {
  "kernelspec": {
   "display_name": "Python 3",
   "language": "python",
   "name": "python3"
  },
  "language_info": {
   "codemirror_mode": {
    "name": "ipython",
    "version": 3
   },
   "file_extension": ".py",
   "mimetype": "text/x-python",
   "name": "python",
   "nbconvert_exporter": "python",
   "pygments_lexer": "ipython3",
   "version": "3.8.10 (default, Nov 14 2022, 12:59:47) \n[GCC 9.4.0]"
  },
  "orig_nbformat": 4,
  "vscode": {
   "interpreter": {
    "hash": "916dbcbb3f70747c44a77c7bcd40155683ae19c65e1c03b4aa3499c5328201f1"
   }
  }
 },
 "nbformat": 4,
 "nbformat_minor": 2
}
