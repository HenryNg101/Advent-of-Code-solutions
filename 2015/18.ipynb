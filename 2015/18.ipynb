{
 "cells": [
  {
   "attachments": {},
   "cell_type": "markdown",
   "metadata": {},
   "source": [
    "# Get input"
   ]
  },
  {
   "cell_type": "code",
   "execution_count": 25,
   "metadata": {},
   "outputs": [],
   "source": [
    "from ast import List\n",
    "import os\n",
    "os.chdir('..')\n",
    "from inputGetter import get_input\n",
    "\n",
    "content = get_input(2015, 18).split('\\n')[:-1]\n",
    "for i in range(len(content)):\n",
    "    content[i] = [*content[i]]"
   ]
  },
  {
   "attachments": {},
   "cell_type": "markdown",
   "metadata": {},
   "source": [
    "# Part 1"
   ]
  },
  {
   "cell_type": "code",
   "execution_count": 26,
   "metadata": {},
   "outputs": [
    {
     "name": "stdout",
     "output_type": "stream",
     "text": [
      "821\n"
     ]
    }
   ],
   "source": [
    "new_pos = [(-1, -1), (-1, 0), (-1, 1), (0, 1), (1, 1), (1, 0), (1, -1), (0, -1)]\n",
    "content_a = [line.copy() for line in content]\n",
    "\n",
    "for _ in range(100):\n",
    "    new_content = [line.copy() for line in content_a]\n",
    "    for r in range(len(content_a)):\n",
    "        for c in range(len(content_a[0])):\n",
    "            on_cnt = 0\n",
    "            for new_r, new_c in new_pos:\n",
    "                new_r += r\n",
    "                new_c += c\n",
    "                if 0 <= new_r < len(content_a) and 0 <= new_c < len(content_a[0]):\n",
    "                    on_cnt += int(content_a[new_r][new_c] == '#')\n",
    "            check_ls = [3] if content_a[r][c] == '.' else [2, 3]\n",
    "            new_content[r][c] = '#' if on_cnt in check_ls else '.'\n",
    "    content_a = [line.copy() for line in new_content]\n",
    "\n",
    "counter = 0\n",
    "for line in content_a:\n",
    "    for x in line:\n",
    "        if x == '#':\n",
    "            counter += 1\n",
    "\n",
    "print(counter)"
   ]
  },
  {
   "attachments": {},
   "cell_type": "markdown",
   "metadata": {},
   "source": [
    "# Part 2"
   ]
  },
  {
   "cell_type": "code",
   "execution_count": null,
   "metadata": {},
   "outputs": [],
   "source": [
    "special_pos = [(0, 0), (0, len(content[0]) - 1), (len(content) - 1, 0), (len(content) - 1, len(content[0]) - 1)]\n",
    "content_b = [line.copy() for line in content]\n",
    "for r, c in special_pos:\n",
    "    content_b[r][c] = '#'\n",
    "\n",
    "for _ in range(100):\n",
    "    new_content = [line.copy() for line in content_b]\n",
    "    for r in range(len(content_b)):\n",
    "        for c in range(len(content_b[0])):\n",
    "            if (r, c) in special_pos:\n",
    "                continue\n",
    "\n",
    "            on_cnt = 0\n",
    "            for new_r, new_c in new_pos:\n",
    "                new_r += r\n",
    "                new_c += c\n",
    "                if 0 <= new_r < len(content_b) and 0 <= new_c < len(content_b[0]):\n",
    "                    on_cnt += int(content_b[new_r][new_c] == '#')\n",
    "            check_ls = [3] if content_b[r][c] == '.' else [2, 3]\n",
    "            new_content[r][c] = '#' if on_cnt in check_ls else '.'\n",
    "    content_b = [line.copy() for line in new_content]\n",
    "\n",
    "counter = 0\n",
    "for line in content_b:\n",
    "    for x in line:\n",
    "        if x == '#':\n",
    "            counter += 1\n",
    "\n",
    "print(counter)"
   ]
  }
 ],
 "metadata": {
  "kernelspec": {
   "display_name": "Python 3",
   "language": "python",
   "name": "python3"
  },
  "language_info": {
   "codemirror_mode": {
    "name": "ipython",
    "version": 3
   },
   "file_extension": ".py",
   "mimetype": "text/x-python",
   "name": "python",
   "nbconvert_exporter": "python",
   "pygments_lexer": "ipython3",
   "version": "3.8.10"
  },
  "orig_nbformat": 4,
  "vscode": {
   "interpreter": {
    "hash": "916dbcbb3f70747c44a77c7bcd40155683ae19c65e1c03b4aa3499c5328201f1"
   }
  }
 },
 "nbformat": 4,
 "nbformat_minor": 2
}
