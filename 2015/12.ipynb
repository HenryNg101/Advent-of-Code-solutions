{
 "cells": [
  {
   "attachments": {},
   "cell_type": "markdown",
   "metadata": {},
   "source": [
    "# Get input"
   ]
  },
  {
   "cell_type": "code",
   "execution_count": 8,
   "metadata": {},
   "outputs": [],
   "source": [
    "from ast import List\n",
    "import os\n",
    "os.chdir('..')\n",
    "from inputGetter import get_input\n",
    "import json\n",
    "\n",
    "content = get_input(2015, 12)"
   ]
  },
  {
   "attachments": {},
   "cell_type": "markdown",
   "metadata": {},
   "source": [
    "# Part 1"
   ]
  },
  {
   "cell_type": "code",
   "execution_count": 9,
   "metadata": {},
   "outputs": [
    {
     "name": "stdout",
     "output_type": "stream",
     "text": [
      "191164\n"
     ]
    }
   ],
   "source": [
    "json_doc = json.loads(content)\n",
    "total_a = 0\n",
    "\n",
    "def traverse(json_doc):\n",
    "    global total_a\n",
    "    doc_type = str(type(json_doc))[-6:-2]\n",
    "    \n",
    "    #Simple type, no need recursion\n",
    "    if doc_type[0] == \"\\'\":\n",
    "        if doc_type[1:] == 'int':\n",
    "            total_a += int(json_doc)\n",
    "    #Complex type, need recursion\n",
    "    else:\n",
    "        if doc_type == 'dict':\n",
    "            for val in json_doc:\n",
    "                traverse(val)\n",
    "                traverse(json_doc[val])\n",
    "        else:\n",
    "            for val in json_doc:\n",
    "                traverse(val)\n",
    "\n",
    "traverse(json_doc)\n",
    "print(total_a)"
   ]
  },
  {
   "attachments": {},
   "cell_type": "markdown",
   "metadata": {},
   "source": [
    "# Part 2"
   ]
  },
  {
   "cell_type": "code",
   "execution_count": 10,
   "metadata": {},
   "outputs": [
    {
     "name": "stdout",
     "output_type": "stream",
     "text": [
      "87842\n"
     ]
    }
   ],
   "source": [
    "json_doc = json.loads(content)\n",
    "total_b = 0\n",
    "\n",
    "def traverse(json_doc):\n",
    "    global total_b\n",
    "    doc_type = str(type(json_doc))[-6:-2]\n",
    "    \n",
    "    #Simple type, no need recursion\n",
    "    if doc_type[0] == \"\\'\":\n",
    "        if doc_type[1:] == 'int':\n",
    "            total_b += int(json_doc)\n",
    "    #Complex type, need recursion\n",
    "    else:\n",
    "        if doc_type == 'dict':\n",
    "            is_red = False\n",
    "            for val in json_doc.values():\n",
    "                if val == 'red':\n",
    "                    is_red = True\n",
    "                    break\n",
    "            \n",
    "            if not is_red:\n",
    "                for val in json_doc:\n",
    "                    traverse(val)\n",
    "                    traverse(json_doc[val])\n",
    "        else:\n",
    "            for val in json_doc:\n",
    "                traverse(val)\n",
    "\n",
    "traverse(json_doc)\n",
    "print(total_b)"
   ]
  }
 ],
 "metadata": {
  "kernelspec": {
   "display_name": "Python 3",
   "language": "python",
   "name": "python3"
  },
  "language_info": {
   "codemirror_mode": {
    "name": "ipython",
    "version": 3
   },
   "file_extension": ".py",
   "mimetype": "text/x-python",
   "name": "python",
   "nbconvert_exporter": "python",
   "pygments_lexer": "ipython3",
   "version": "3.10.6"
  },
  "orig_nbformat": 4,
  "vscode": {
   "interpreter": {
    "hash": "916dbcbb3f70747c44a77c7bcd40155683ae19c65e1c03b4aa3499c5328201f1"
   }
  }
 },
 "nbformat": 4,
 "nbformat_minor": 2
}
