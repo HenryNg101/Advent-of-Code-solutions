{
 "cells": [
  {
   "attachments": {},
   "cell_type": "markdown",
   "metadata": {},
   "source": [
    "# Part 1"
   ]
  },
  {
   "cell_type": "code",
   "execution_count": 4,
   "metadata": {},
   "outputs": [
    {
     "name": "stdout",
     "output_type": "stream",
     "text": [
      "1333\n"
     ]
    }
   ],
   "source": [
    "from ast import List\n",
    "import os\n",
    "os.chdir('..')\n",
    "from inputGetter import get_input\n",
    "\n",
    "content = get_input(2015, 8).split('\\n')[:-1]\n",
    "\n",
    "total = 0\n",
    "\n",
    "for line in content:\n",
    "    id = 1\n",
    "    mem_count = 0\n",
    "    while id < len(line) - 1:\n",
    "        if line[id] == \"\\\\\":\n",
    "            id += 1\n",
    "            if line[id] == 'x':\n",
    "                id += 2\n",
    "        id += 1\n",
    "        mem_count += 1\n",
    "    total += len(line) - mem_count\n",
    "\n",
    "print(total)"
   ]
  },
  {
   "cell_type": "code",
   "execution_count": 5,
   "metadata": {},
   "outputs": [
    {
     "name": "stdout",
     "output_type": "stream",
     "text": [
      "2046\n"
     ]
    }
   ],
   "source": [
    "total = 0\n",
    "for line in content:\n",
    "    encode_diff = 0\n",
    "    for chr in line:\n",
    "        if chr == '\\\"' or chr == '\\\\':\n",
    "            encode_diff += 1\n",
    "    total += encode_diff + 2    #Include the double quotes too\n",
    "\n",
    "print(total)"
   ]
  }
 ],
 "metadata": {
  "kernelspec": {
   "display_name": "Python 3",
   "language": "python",
   "name": "python3"
  },
  "language_info": {
   "codemirror_mode": {
    "name": "ipython",
    "version": 3
   },
   "file_extension": ".py",
   "mimetype": "text/x-python",
   "name": "python",
   "nbconvert_exporter": "python",
   "pygments_lexer": "ipython3",
   "version": "3.10.6"
  },
  "orig_nbformat": 4,
  "vscode": {
   "interpreter": {
    "hash": "916dbcbb3f70747c44a77c7bcd40155683ae19c65e1c03b4aa3499c5328201f1"
   }
  }
 },
 "nbformat": 4,
 "nbformat_minor": 2
}
