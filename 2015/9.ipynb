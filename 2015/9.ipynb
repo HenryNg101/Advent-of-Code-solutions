{
 "cells": [
  {
   "attachments": {},
   "cell_type": "markdown",
   "metadata": {},
   "source": [
    "# Part 1"
   ]
  },
  {
   "cell_type": "code",
   "execution_count": 9,
   "metadata": {},
   "outputs": [
    {
     "name": "stdout",
     "output_type": "stream",
     "text": [
      "AlphaCentauri\n",
      "\tSnowdin: 66\n",
      "\tTambi: 28\n",
      "\tFaerun: 60\n",
      "\tNorrath: 34\n",
      "\tStraylight: 34\n",
      "\tTristram: 3\n",
      "\tArbre: 108\n",
      "Snowdin\n",
      "\tTambi: 22\n",
      "\tFaerun: 12\n",
      "\tNorrath: 91\n",
      "\tStraylight: 121\n",
      "\tTristram: 111\n",
      "\tArbre: 71\n",
      "Tambi\n",
      "\tFaerun: 39\n",
      "\tNorrath: 113\n",
      "\tStraylight: 130\n",
      "\tTristram: 35\n",
      "\tArbre: 40\n",
      "Faerun\n",
      "\tNorrath: 63\n",
      "\tStraylight: 21\n",
      "\tTristram: 57\n",
      "\tArbre: 83\n",
      "Norrath\n",
      "\tStraylight: 9\n",
      "\tTristram: 50\n",
      "\tArbre: 60\n",
      "Straylight\n",
      "\tTristram: 27\n",
      "\tArbre: 81\n",
      "Tristram\n",
      "\tArbre: 90\n",
      "Arbre\n"
     ]
    }
   ],
   "source": [
    "from ast import List\n",
    "import os\n",
    "os.chdir('..')\n",
    "from inputGetter import get_input\n",
    "\n",
    "content = get_input(2015, 9).split('\\n')[:-1]\n",
    "\n",
    "mp = dict()\n",
    "\n",
    "for line in content:\n",
    "    line = line.split()\n",
    "    start, stop, cost = line[0], line[2], line[4]\n",
    "    if start not in mp:\n",
    "        mp[start] = dict()\n",
    "    if stop not in mp:\n",
    "        mp[stop] = dict()\n",
    "    mp[start][stop] = cost\n",
    "\n",
    "for node in mp:\n",
    "    print(node)\n",
    "    for next in mp[node]:\n",
    "        print(f'\\t{next}: {mp[node][next]}')"
   ]
  },
  {
   "cell_type": "code",
   "execution_count": 5,
   "metadata": {},
   "outputs": [
    {
     "name": "stdout",
     "output_type": "stream",
     "text": [
      "2046\n"
     ]
    }
   ],
   "source": []
  }
 ],
 "metadata": {
  "kernelspec": {
   "display_name": "Python 3",
   "language": "python",
   "name": "python3"
  },
  "language_info": {
   "codemirror_mode": {
    "name": "ipython",
    "version": 3
   },
   "file_extension": ".py",
   "mimetype": "text/x-python",
   "name": "python",
   "nbconvert_exporter": "python",
   "pygments_lexer": "ipython3",
   "version": "3.10.6"
  },
  "orig_nbformat": 4,
  "vscode": {
   "interpreter": {
    "hash": "916dbcbb3f70747c44a77c7bcd40155683ae19c65e1c03b4aa3499c5328201f1"
   }
  }
 },
 "nbformat": 4,
 "nbformat_minor": 2
}
