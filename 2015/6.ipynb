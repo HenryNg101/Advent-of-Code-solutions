{
 "cells": [
  {
   "attachments": {},
   "cell_type": "markdown",
   "metadata": {},
   "source": [
    "# Part 1"
   ]
  },
  {
   "cell_type": "code",
   "execution_count": 18,
   "metadata": {
    "vscode": {
     "languageId": "python"
    }
   },
   "outputs": [
    {
     "name": "stdout",
     "output_type": "stream",
     "text": [
      "569999\n"
     ]
    }
   ],
   "source": [
    "import os\n",
    "os.chdir('..')\n",
    "from inputGetter import get_input\n",
    "\n",
    "content = get_input(2015, 6).split('\\n')[:-1]\n",
    "grids = [[False for _ in range(1000)] for _ in range(1000)]\n",
    "\n",
    "for line in content:\n",
    "    line = line.split()\n",
    "    inst, start_co, stop_co = line[0], line[1], line[3]\n",
    "    if line[0] == 'turn':\n",
    "        inst, start_co, stop_co = line[1], line[2], line[4]\n",
    "\n",
    "    start_c, start_r = [int(x) for x in start_co.split(',')]\n",
    "    stop_c, stop_r = [int(x) for x in stop_co.split(',')]\n",
    "    for r in range(start_r, stop_r + 1):\n",
    "        for c in range(start_c, stop_c + 1):\n",
    "            if inst == 'toggle':\n",
    "                grids[r][c] = not grids[r][c]\n",
    "            else:\n",
    "                grids[r][c] = (inst == 'on')\n",
    "\n",
    "counter = 0\n",
    "for r in range(len(grids)):\n",
    "    for c in range(len(grids[r])):\n",
    "        if grids[r][c]:\n",
    "            counter += 1\n",
    "\n",
    "print(counter) "
   ]
  },
  {
   "cell_type": "code",
   "execution_count": 19,
   "metadata": {
    "vscode": {
     "languageId": "python"
    }
   },
   "outputs": [
    {
     "name": "stdout",
     "output_type": "stream",
     "text": [
      "17836115\n"
     ]
    }
   ],
   "source": [
    "grids = [[0 for _ in range(1000)] for _ in range(1000)]\n",
    "\n",
    "for line in content:\n",
    "    line = line.split()\n",
    "    inst, start_co, stop_co = line[0], line[1], line[3]\n",
    "    if line[0] == 'turn':\n",
    "        inst, start_co, stop_co = line[1], line[2], line[4]\n",
    "\n",
    "    start_c, start_r = [int(x) for x in start_co.split(',')]\n",
    "    stop_c, stop_r = [int(x) for x in stop_co.split(',')]\n",
    "    for r in range(start_r, stop_r + 1):\n",
    "        for c in range(start_c, stop_c + 1):\n",
    "            if inst == 'toggle':\n",
    "                grids[r][c] += 2\n",
    "            elif inst == 'on':\n",
    "                grids[r][c] += 1\n",
    "            else:\n",
    "                if grids[r][c] > 0:\n",
    "                    grids[r][c] -= 1\n",
    "\n",
    "counter = 0\n",
    "for line in grids:\n",
    "    for bright in line:\n",
    "        counter += bright\n",
    "\n",
    "print(counter) "
   ]
  }
 ],
 "metadata": {
  "kernelspec": {
   "display_name": "Python 3 (ipykernel)",
   "language": "python",
   "name": "python3"
  },
  "orig_nbformat": 4
 },
 "nbformat": 4,
 "nbformat_minor": 2
}
