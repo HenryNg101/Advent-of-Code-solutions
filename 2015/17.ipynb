{
 "cells": [
  {
   "attachments": {},
   "cell_type": "markdown",
   "metadata": {},
   "source": [
    "# Get input"
   ]
  },
  {
   "cell_type": "code",
   "execution_count": 10,
   "metadata": {},
   "outputs": [],
   "source": [
    "from ast import List\n",
    "import os\n",
    "os.chdir('..')\n",
    "from inputGetter import get_input\n",
    "\n",
    "content = get_input(2015, 17).split('\\n')[:-1]\n",
    "content = [int(x) for x in content]"
   ]
  },
  {
   "attachments": {},
   "cell_type": "markdown",
   "metadata": {},
   "source": [
    "# Part 1"
   ]
  },
  {
   "attachments": {},
   "cell_type": "markdown",
   "metadata": {},
   "source": [
    "A classical Knapsack 0/1 DP problem, so I just need a 2D table for memoization for different amount of eggnog and different container indexes"
   ]
  },
  {
   "cell_type": "code",
   "execution_count": 11,
   "metadata": {},
   "outputs": [
    {
     "name": "stdout",
     "output_type": "stream",
     "text": [
      "1638\n"
     ]
    }
   ],
   "source": [
    "def knapsack(amount: int, content: List):\n",
    "    dp = [[dict() for _ in range(amount + 1)] for _ in range(len(content))]\n",
    "    for i in range(len(dp)):\n",
    "        dp[i][0][0] = 1\n",
    "\n",
    "    for col in range(1, amount + 1):\n",
    "        for row in range(len(content)):\n",
    "            if row > 0:\n",
    "                #Shallow copy here, to make these cells not related to each other (normal copy = reference)\n",
    "                dp[row][col] = dp[row-1][col].copy()\n",
    "                if col >= content[row]:\n",
    "                    for key, val in dp[row-1][col - content[row]].items():\n",
    "                        if (key + 1) not in dp[row][col]:\n",
    "                            dp[row][col][key + 1] = val\n",
    "                        else:\n",
    "                            dp[row][col][key + 1] += val\n",
    "            else:\n",
    "                dp[row][col][1] = int(col == content[row])\n",
    "    \n",
    "    return dp[len(content) - 1][amount]\n",
    "\n",
    "res_a = knapsack(150, content)\n",
    "print(sum(res_a.values()))"
   ]
  },
  {
   "attachments": {},
   "cell_type": "markdown",
   "metadata": {},
   "source": [
    "# Part 2"
   ]
  },
  {
   "attachments": {},
   "cell_type": "markdown",
   "metadata": {},
   "source": [
    "Improvised a bit. I changed from storing just total amount, to storing dictionaries to count the occurence of different number of containers used, then just take the smallest one and get the result."
   ]
  },
  {
   "cell_type": "code",
   "execution_count": 12,
   "metadata": {},
   "outputs": [
    {
     "name": "stdout",
     "output_type": "stream",
     "text": [
      "0\n"
     ]
    }
   ],
   "source": [
    "res_b = knapsack(150, content)\n",
    "print(res_b[min(res_b)])"
   ]
  }
 ],
 "metadata": {
  "kernelspec": {
   "display_name": "Python 3",
   "language": "python",
   "name": "python3"
  },
  "language_info": {
   "codemirror_mode": {
    "name": "ipython",
    "version": 3
   },
   "file_extension": ".py",
   "mimetype": "text/x-python",
   "name": "python",
   "nbconvert_exporter": "python",
   "pygments_lexer": "ipython3",
   "version": "3.10.6"
  },
  "orig_nbformat": 4,
  "vscode": {
   "interpreter": {
    "hash": "916dbcbb3f70747c44a77c7bcd40155683ae19c65e1c03b4aa3499c5328201f1"
   }
  }
 },
 "nbformat": 4,
 "nbformat_minor": 2
}
