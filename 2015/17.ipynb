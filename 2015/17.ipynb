{
 "cells": [
  {
   "attachments": {},
   "cell_type": "markdown",
   "metadata": {},
   "source": [
    "# Get input"
   ]
  },
  {
   "cell_type": "code",
   "execution_count": 6,
   "metadata": {},
   "outputs": [],
   "source": [
    "from ast import List\n",
    "import os\n",
    "os.chdir('..')\n",
    "from inputGetter import get_input\n",
    "import json\n",
    "\n",
    "content = get_input(2015, 17).split('\\n')[:-1]\n",
    "content = [int(x) for x in content]"
   ]
  },
  {
   "attachments": {},
   "cell_type": "markdown",
   "metadata": {},
   "source": [
    "# Part 1"
   ]
  },
  {
   "cell_type": "code",
   "execution_count": 7,
   "metadata": {},
   "outputs": [
    {
     "name": "stdout",
     "output_type": "stream",
     "text": [
      "1638\n"
     ]
    }
   ],
   "source": [
    "def knapsack_a(amount: int, content: List):\n",
    "    dp = [[0 for _ in range(amount + 1)] for _ in range(len(content))]\n",
    "    for i in range(len(dp)):\n",
    "        dp[i][0] = 1\n",
    "\n",
    "    for col in range(1, amount + 1):\n",
    "        for row in range(len(content)):\n",
    "            if row > 0:\n",
    "                dp[row][col] = dp[row-1][col]\n",
    "                if col >= content[row]:\n",
    "                    dp[row][col] += dp[row-1][col - content[row]]\n",
    "            else:\n",
    "                dp[row][col] = int(col == content[row])\n",
    "    \n",
    "    return dp[len(content) - 1][amount]\n",
    "\n",
    "print(knapsack_a(150, content))"
   ]
  },
  {
   "attachments": {},
   "cell_type": "markdown",
   "metadata": {},
   "source": [
    "# Part 2"
   ]
  },
  {
   "cell_type": "code",
   "execution_count": null,
   "metadata": {},
   "outputs": [],
   "source": []
  }
 ],
 "metadata": {
  "kernelspec": {
   "display_name": "Python 3",
   "language": "python",
   "name": "python3"
  },
  "language_info": {
   "codemirror_mode": {
    "name": "ipython",
    "version": 3
   },
   "file_extension": ".py",
   "mimetype": "text/x-python",
   "name": "python",
   "nbconvert_exporter": "python",
   "pygments_lexer": "ipython3",
   "version": "3.8.10"
  },
  "orig_nbformat": 4,
  "vscode": {
   "interpreter": {
    "hash": "916dbcbb3f70747c44a77c7bcd40155683ae19c65e1c03b4aa3499c5328201f1"
   }
  }
 },
 "nbformat": 4,
 "nbformat_minor": 2
}
