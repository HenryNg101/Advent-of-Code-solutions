{
 "cells": [
  {
   "attachments": {},
   "cell_type": "markdown",
   "metadata": {},
   "source": [
    "# Get input"
   ]
  },
  {
   "cell_type": "code",
   "execution_count": 55,
   "metadata": {},
   "outputs": [],
   "source": [
    "from ast import List\n",
    "import os\n",
    "os.chdir('..')\n",
    "from inputGetter import get_input\n",
    "import json\n",
    "\n",
    "content = get_input(2015, 14).split('\\n')[:-1]"
   ]
  },
  {
   "attachments": {},
   "cell_type": "markdown",
   "metadata": {},
   "source": [
    "Preprocessing"
   ]
  },
  {
   "cell_type": "code",
   "execution_count": 56,
   "metadata": {},
   "outputs": [],
   "source": [
    "class Reindeer:\n",
    "    def __init__(self, speed: int, duration: int, rest: int) -> None:\n",
    "        self.speed = speed  #Speed when fly\n",
    "        self.duration = duration    #Max curr_time that it can fly\n",
    "        self.rest = rest    #Rest curr_time\n",
    "        self.travelled = 0  #Travelled distance \n",
    "        \n",
    "        #These attrs are for part B\n",
    "        self.pts = 0    #Acquired points\n",
    "        self.cur_duration = self.duration\n",
    "        self.cur_rest = self.rest\n",
    "\n",
    "reindeers = []\n",
    "for line in content:\n",
    "    line = line.split()\n",
    "    speed, duration, rest = int(line[3]), int(line[6]), int(line[-2])\n",
    "    reindeers.append(Reindeer(speed, duration, rest))"
   ]
  },
  {
   "attachments": {},
   "cell_type": "markdown",
   "metadata": {},
   "source": [
    "# Part 1"
   ]
  },
  {
   "cell_type": "code",
   "execution_count": 57,
   "metadata": {},
   "outputs": [
    {
     "name": "stdout",
     "output_type": "stream",
     "text": [
      "2640\n"
     ]
    }
   ],
   "source": [
    "max_travel = 0\n",
    "time = 2503\n",
    "\n",
    "for reindeer in reindeers:\n",
    "    duration, speed, rest = reindeer.duration, reindeer.speed, reindeer.rest\n",
    "    curr_time = time\n",
    "    while curr_time > 0:\n",
    "        if curr_time <= duration:\n",
    "            reindeer.travelled += curr_time * speed\n",
    "            break\n",
    "        else:\n",
    "            reindeer.travelled += duration * speed\n",
    "            curr_time -= duration\n",
    "            \n",
    "        if curr_time <= rest:\n",
    "            break\n",
    "        else:\n",
    "            curr_time -= rest\n",
    "    \n",
    "    max_travel = max(max_travel, reindeer.travelled)\n",
    "    reindeer.travelled = 0\n",
    "\n",
    "print(max_travel)"
   ]
  },
  {
   "attachments": {},
   "cell_type": "markdown",
   "metadata": {},
   "source": [
    "# Part 2"
   ]
  },
  {
   "cell_type": "code",
   "execution_count": 58,
   "metadata": {},
   "outputs": [
    {
     "name": "stdout",
     "output_type": "stream",
     "text": [
      "1102\n"
     ]
    }
   ],
   "source": [
    "for _ in range(2503):\n",
    "    for i in range(len(reindeers)):\n",
    "        if reindeers[i].cur_duration > 0:\n",
    "            reindeers[i].cur_duration -= 1\n",
    "            reindeers[i].travelled += reindeers[i].speed\n",
    "        else:\n",
    "            #Exception: When the rest time is already 0, which shouldn't be, in my input.\n",
    "            reindeers[i].cur_rest -= 1\n",
    "            if reindeers[i].cur_rest == 0:\n",
    "                reindeers[i].cur_duration = reindeers[i].duration\n",
    "                reindeers[i].cur_rest = reindeers[i].rest\n",
    "    reindeers.sort(key=lambda x: x.travelled, reverse=True)\n",
    "    for i in range(len(reindeers)):\n",
    "        if reindeers[i].travelled < reindeers[0].travelled:\n",
    "            break\n",
    "        reindeers[i].pts += 1\n",
    "\n",
    "max_score = 0\n",
    "for reindeer in reindeers:\n",
    "    max_score = max(max_score, reindeer.pts)\n",
    "print(max_score)"
   ]
  }
 ],
 "metadata": {
  "kernelspec": {
   "display_name": "Python 3",
   "language": "python",
   "name": "python3"
  },
  "language_info": {
   "codemirror_mode": {
    "name": "ipython",
    "version": 3
   },
   "file_extension": ".py",
   "mimetype": "text/x-python",
   "name": "python",
   "nbconvert_exporter": "python",
   "pygments_lexer": "ipython3",
   "version": "3.10.6"
  },
  "orig_nbformat": 4,
  "vscode": {
   "interpreter": {
    "hash": "916dbcbb3f70747c44a77c7bcd40155683ae19c65e1c03b4aa3499c5328201f1"
   }
  }
 },
 "nbformat": 4,
 "nbformat_minor": 2
}
