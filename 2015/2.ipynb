{
 "cells": [
  {
   "attachments": {},
   "cell_type": "markdown",
   "metadata": {},
   "source": [
    "# Part 1"
   ]
  },
  {
   "cell_type": "code",
   "execution_count": 1,
   "metadata": {},
   "outputs": [
    {
     "name": "stdout",
     "output_type": "stream",
     "text": [
      "1588178\n"
     ]
    }
   ],
   "source": [
    "import os\n",
    "os.chdir('..')\n",
    "from inputGetter import get_input\n",
    "\n",
    "content = get_input(2015, 2).split('\\n')[:-1]\n",
    "\n",
    "total_a = 0\n",
    "total_b = 0\n",
    "\n",
    "for line in content:\n",
    "    a, b, c = [int(i) for i in line.split('x')]\n",
    "    s1, s2, s3 = a * b, b * c, a * c\n",
    "    total_a += 2 * (s1 + s2 + s3) + min(s1, s2, s3)\n",
    "    \n",
    "    total_b += 2 * (a + b + c - max(a,b,c)) + a*b*c\n",
    "\n",
    "print(total_a)"
   ]
  },
  {
   "cell_type": "code",
   "execution_count": 2,
   "metadata": {},
   "outputs": [
    {
     "name": "stdout",
     "output_type": "stream",
     "text": [
      "3783758\n"
     ]
    }
   ],
   "source": [
    "print(total_b)"
   ]
  }
 ],
 "metadata": {
  "kernelspec": {
   "display_name": "Python 3",
   "language": "python",
   "name": "python3"
  },
  "language_info": {
   "codemirror_mode": {
    "name": "ipython",
    "version": 3
   },
   "file_extension": ".py",
   "mimetype": "text/x-python",
   "name": "python",
   "nbconvert_exporter": "python",
   "pygments_lexer": "ipython3",
   "version": "3.10.6"
  },
  "orig_nbformat": 4,
  "vscode": {
   "interpreter": {
    "hash": "916dbcbb3f70747c44a77c7bcd40155683ae19c65e1c03b4aa3499c5328201f1"
   }
  }
 },
 "nbformat": 4,
 "nbformat_minor": 2
}
