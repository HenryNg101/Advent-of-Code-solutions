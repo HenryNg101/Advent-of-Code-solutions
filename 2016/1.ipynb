{
 "cells": [
  {
   "attachments": {},
   "cell_type": "markdown",
   "metadata": {},
   "source": [
    "# Get input"
   ]
  },
  {
   "cell_type": "code",
   "execution_count": 55,
   "metadata": {},
   "outputs": [],
   "source": [
    "import os\n",
    "os.chdir('..')\n",
    "from inputGetter import get_input\n",
    "\n",
    "content = get_input(2016, 1).split(', ')\n",
    "content[-1] = content[-1][:-1]"
   ]
  },
  {
   "attachments": {},
   "cell_type": "markdown",
   "metadata": {},
   "source": [
    "# Part 1"
   ]
  },
  {
   "cell_type": "code",
   "execution_count": 56,
   "metadata": {},
   "outputs": [
    {
     "name": "stdout",
     "output_type": "stream",
     "text": [
      "298\n"
     ]
    }
   ],
   "source": [
    "res_A = (0, 0)\n",
    "res_B = (0, 0)\n",
    "directions = [(-1, 0), (0, 1), (1, 0), (0, -1)]\n",
    "dir_id = 0\n",
    "visited = set([res_A])\n",
    "\n",
    "for inst in content:\n",
    "    if inst[0] == 'L':\n",
    "        dir_id = len(directions) - 1 if dir_id == 0 else dir_id - 1\n",
    "    else:\n",
    "        dir_id = 0 if dir_id == len(directions) - 1 else dir_id + 1\n",
    "\n",
    "    curr_dir = directions[dir_id]\n",
    "    for _ in range(int(inst[1:])):\n",
    "        res_A = (res_A[0] + curr_dir[0], res_A[1] + curr_dir[1])\n",
    "\n",
    "        #Only change the first time\n",
    "        if res_A in visited and res_B == (0, 0):\n",
    "            res_B = res_A[0], res_A[1]\n",
    "        \n",
    "        visited.add(res_A)\n",
    "\n",
    "print(abs(res_A[0]) + abs(res_A[1]))"
   ]
  },
  {
   "attachments": {},
   "cell_type": "markdown",
   "metadata": {},
   "source": [
    "# Part 2"
   ]
  },
  {
   "cell_type": "code",
   "execution_count": 57,
   "metadata": {},
   "outputs": [
    {
     "name": "stdout",
     "output_type": "stream",
     "text": [
      "158\n"
     ]
    }
   ],
   "source": [
    "print(abs(res_B[0]) + abs(res_B[1]))"
   ]
  }
 ],
 "metadata": {
  "kernelspec": {
   "display_name": "Python 3",
   "language": "python",
   "name": "python3"
  },
  "language_info": {
   "codemirror_mode": {
    "name": "ipython",
    "version": 3
   },
   "file_extension": ".py",
   "mimetype": "text/x-python",
   "name": "python",
   "nbconvert_exporter": "python",
   "pygments_lexer": "ipython3",
   "version": "3.8.10"
  },
  "orig_nbformat": 4,
  "vscode": {
   "interpreter": {
    "hash": "31f2aee4e71d21fbe5cf8b01ff0e069b9275f58929596ceb00d14d90e3e16cd6"
   }
  }
 },
 "nbformat": 4,
 "nbformat_minor": 2
}
