{
 "cells": [
  {
   "attachments": {},
   "cell_type": "markdown",
   "metadata": {},
   "source": [
    "# Get input"
   ]
  },
  {
   "cell_type": "code",
   "execution_count": 18,
   "metadata": {},
   "outputs": [],
   "source": [
    "import os\n",
    "os.chdir('..')\n",
    "from inputGetter import get_input\n",
    "import hashlib\n",
    "\n",
    "content = get_input(2016, 5)[:-1]"
   ]
  },
  {
   "attachments": {},
   "cell_type": "markdown",
   "metadata": {},
   "source": [
    "# Part 1"
   ]
  },
  {
   "cell_type": "code",
   "execution_count": 19,
   "metadata": {},
   "outputs": [
    {
     "name": "stdout",
     "output_type": "stream",
     "text": [
      "c6697b55\n"
     ]
    }
   ],
   "source": [
    "id = 0\n",
    "passwd = \"\"\n",
    "while len(passwd) < 8:\n",
    "    orginal = content + str(id)\n",
    "    hex_val = hashlib.md5(orginal.encode()).hexdigest()[:6]\n",
    "    if(hex_val[:-1] == '00000'):\n",
    "        passwd += hex_val[-1]\n",
    "    id += 1\n",
    "print(passwd)"
   ]
  },
  {
   "attachments": {},
   "cell_type": "markdown",
   "metadata": {},
   "source": [
    "# Part 2"
   ]
  },
  {
   "cell_type": "code",
   "execution_count": 20,
   "metadata": {},
   "outputs": [],
   "source": [
    "# passwd = [\"\"] * 8\n",
    "# while \"\" in passwd:\n",
    "#     orginal = content + str(id)\n",
    "#     hex_val = hashlib.md5(orginal.encode()).hexdigest()[:7]\n",
    "#     if(hex_val[:-2] == '00000'):\n",
    "#         if type(hex_val[-2]) == type(0):\n",
    "#             hex_val[-2] = int(hex_val[-2])\n",
    "#             if int(hex_val[-2]) < 7:\n",
    "#                 if len(passwd[hex_val[-2]]) == 0:\n",
    "#                     passwd[hex_val[-2]] = hex_val[-1]\n",
    "#     id += 1\n",
    "# print(passwd)\n",
    "# print(''.join(passwd))"
   ]
  }
 ],
 "metadata": {
  "kernelspec": {
   "display_name": "Python 3",
   "language": "python",
   "name": "python3"
  },
  "language_info": {
   "codemirror_mode": {
    "name": "ipython",
    "version": 3
   },
   "file_extension": ".py",
   "mimetype": "text/x-python",
   "name": "python",
   "nbconvert_exporter": "python",
   "pygments_lexer": "ipython3",
   "version": "3.8.10"
  },
  "orig_nbformat": 4,
  "vscode": {
   "interpreter": {
    "hash": "916dbcbb3f70747c44a77c7bcd40155683ae19c65e1c03b4aa3499c5328201f1"
   }
  }
 },
 "nbformat": 4,
 "nbformat_minor": 2
}
