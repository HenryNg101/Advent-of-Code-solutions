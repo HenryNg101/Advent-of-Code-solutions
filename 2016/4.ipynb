{
 "cells": [
  {
   "attachments": {},
   "cell_type": "markdown",
   "metadata": {},
   "source": [
    "# Get input"
   ]
  },
  {
   "cell_type": "code",
   "execution_count": 37,
   "metadata": {},
   "outputs": [],
   "source": [
    "import os\n",
    "os.chdir('..')\n",
    "from inputGetter import get_input\n",
    "from functools import cmp_to_key\n",
    "\n",
    "content = get_input(2016, 4).split('\\n')[:-1]"
   ]
  },
  {
   "attachments": {},
   "cell_type": "markdown",
   "metadata": {},
   "source": [
    "# Part 1"
   ]
  },
  {
   "cell_type": "code",
   "execution_count": 38,
   "metadata": {},
   "outputs": [
    {
     "name": "stdout",
     "output_type": "stream",
     "text": [
      "173787\n"
     ]
    }
   ],
   "source": [
    "res = 0\n",
    "\n",
    "for line in content:\n",
    "    line = line.split('-')\n",
    "    sector, checksum = line[-1].split('[')\n",
    "    sector = int(sector)\n",
    "    checksum = checksum[:-1]\n",
    "    line.pop()\n",
    "    dic = dict()\n",
    "    \n",
    "    for word in line:\n",
    "        for char in word:\n",
    "            if char not in dic:\n",
    "                dic[char] = 0\n",
    "            dic[char] += 1\n",
    "    \n",
    "    def compare(x, y):\n",
    "        if dic[x] == dic[y]:\n",
    "            if x > y:\n",
    "                return 1\n",
    "            return -1\n",
    "        if dic[x] < dic[y]:\n",
    "            return 1\n",
    "        return -1\n",
    "    \n",
    "    dic = sorted(dic, key=cmp_to_key(compare))[:5]\n",
    "    if ''.join(dic) == checksum:\n",
    "        res += sector\n",
    "\n",
    "print(res)"
   ]
  },
  {
   "attachments": {},
   "cell_type": "markdown",
   "metadata": {},
   "source": [
    "# Part 2"
   ]
  },
  {
   "cell_type": "code",
   "execution_count": null,
   "metadata": {},
   "outputs": [],
   "source": []
  }
 ],
 "metadata": {
  "kernelspec": {
   "display_name": "Python 3",
   "language": "python",
   "name": "python3"
  },
  "language_info": {
   "codemirror_mode": {
    "name": "ipython",
    "version": 3
   },
   "file_extension": ".py",
   "mimetype": "text/x-python",
   "name": "python",
   "nbconvert_exporter": "python",
   "pygments_lexer": "ipython3",
   "version": "3.10.6"
  },
  "orig_nbformat": 4,
  "vscode": {
   "interpreter": {
    "hash": "916dbcbb3f70747c44a77c7bcd40155683ae19c65e1c03b4aa3499c5328201f1"
   }
  }
 },
 "nbformat": 4,
 "nbformat_minor": 2
}
