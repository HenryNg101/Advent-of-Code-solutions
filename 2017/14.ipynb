{
 "cells": [
  {
   "cell_type": "code",
   "execution_count": 1,
   "metadata": {},
   "outputs": [],
   "source": [
    "import os\n",
    "os.chdir('..')\n",
    "from inputGetter import get_input\n",
    "from functools import reduce\n",
    "from operator import ixor\n",
    "\n",
    "content = get_input(2017, 14)[:-1]"
   ]
  },
  {
   "cell_type": "code",
   "execution_count": 2,
   "metadata": {},
   "outputs": [],
   "source": [
    "def knot_hash(lengths_ls, rounds_cnt):\n",
    "    NUM = 256\n",
    "    ls = [i for i in range(NUM)]\n",
    "    position = 0\n",
    "    \n",
    "    for round in range(rounds_cnt):\n",
    "        for skip_sz, length in enumerate(lengths_ls):\n",
    "            if length > NUM:\n",
    "                continue\n",
    "            \n",
    "            # Reverse the list segment\n",
    "            start = position\n",
    "            end = position + length - 1\n",
    "            while start <= end:\n",
    "                ls[start % NUM], ls[end % NUM] = ls[end % NUM], ls[start % NUM]\n",
    "                start += 1\n",
    "                end -= 1\n",
    "            \n",
    "            # Get to new position\n",
    "            actual_skip = skip_sz + len(lengths_ls) * round  # The skip is retained through each round, so I have to add previous rounds in too\n",
    "            position += length + actual_skip    \n",
    "    \n",
    "    return ls"
   ]
  },
  {
   "cell_type": "code",
   "execution_count": 3,
   "metadata": {},
   "outputs": [],
   "source": [
    "'''This is an extension of the second part of the day 10 within the same year. \n",
    "Go check that out to understand this knot hash algorithm'''\n",
    "def get_hash(row):\n",
    "    global content\n",
    "    data = content + f\"-{row}\"\n",
    "    data = [ord(val) for val in data]\n",
    "    data.extend([17, 31, 73, 47, 23])\n",
    "\n",
    "    # Get sparse hash\n",
    "    ls = knot_hash(data, 64)\n",
    "\n",
    "    # Make dense hash, then get the whole 128-bits representation (total of all 16 bits segments)\n",
    "    res = []\n",
    "    for i in range(0, len(ls), 16):\n",
    "        xor_val = reduce(ixor, ls[i: i+16], 0)  # XOR the whole segment\n",
    "        res.extend([int(bit) for bit in f'{xor_val:08b}'])\n",
    "        \n",
    "    return res"
   ]
  },
  {
   "cell_type": "code",
   "execution_count": 4,
   "metadata": {},
   "outputs": [
    {
     "name": "stdout",
     "output_type": "stream",
     "text": [
      "Part A: 8140\n",
      "Part B: 1182\n"
     ]
    }
   ],
   "source": [
    "# Clear a region\n",
    "def bfs(disk_content, row, col):\n",
    "    disk_content[row][col] = 0\n",
    "    if row > 0 and disk_content[row-1][col] == 1:\n",
    "        bfs(disk_content, row-1, col)\n",
    "    if row < 127 and disk_content[row+1][col] == 1:\n",
    "        bfs(disk_content, row+1, col)\n",
    "    if col > 0 and disk_content[row][col-1] == 1:\n",
    "        bfs(disk_content, row, col-1)\n",
    "    if col < 127 and disk_content[row][col+1] == 1:\n",
    "        bfs(disk_content, row, col+1)\n",
    "\n",
    "disk_content = [get_hash(row) for row in range(128)]\n",
    "used_squares = sum(sum(row) for row in disk_content)\n",
    "regions_count = 0\n",
    "for row in range(128):\n",
    "    for col in range(128):\n",
    "        if disk_content[row][col] == 1:\n",
    "            regions_count += disk_content[row][col]\n",
    "            bfs(disk_content, row, col)\n",
    "\n",
    "print(f'Part A: {used_squares}')\n",
    "print(f'Part B: {regions_count}')"
   ]
  }
 ],
 "metadata": {
  "kernelspec": {
   "display_name": "base",
   "language": "python",
   "name": "python3"
  },
  "language_info": {
   "codemirror_mode": {
    "name": "ipython",
    "version": 3
   },
   "file_extension": ".py",
   "mimetype": "text/x-python",
   "name": "python",
   "nbconvert_exporter": "python",
   "pygments_lexer": "ipython3",
   "version": "3.11.7"
  }
 },
 "nbformat": 4,
 "nbformat_minor": 2
}
