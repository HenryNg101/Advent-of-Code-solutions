{
 "cells": [
  {
   "cell_type": "code",
   "execution_count": 1,
   "metadata": {},
   "outputs": [],
   "source": [
    "import os\n",
    "os.chdir('..')\n",
    "from inputGetter import get_input\n",
    "from functools import reduce\n",
    "from operator import ixor\n",
    "\n",
    "content = get_input(2017, 10)[:-1]"
   ]
  },
  {
   "cell_type": "code",
   "execution_count": null,
   "metadata": {},
   "outputs": [],
   "source": [
    "# Run a number of rounds of Knot Hash algorithm\n",
    "def knot_hash(lengths_ls, rounds_cnt):\n",
    "    NUM = 256\n",
    "    ls = [i for i in range(NUM)]\n",
    "    position = 0\n",
    "    \n",
    "    for round in range(rounds_cnt):\n",
    "        for skip_sz, length in enumerate(lengths_ls):\n",
    "            if length > NUM:\n",
    "                continue\n",
    "            \n",
    "            # Reverse the list segment\n",
    "            start = position\n",
    "            end = position + length - 1\n",
    "            while start <= end:\n",
    "                ls[start % NUM], ls[end % NUM] = ls[end % NUM], ls[start % NUM]\n",
    "                start += 1\n",
    "                end -= 1\n",
    "            \n",
    "            # Get to new position\n",
    "            actual_skip = skip_sz + len(lengths_ls) * round  # The skip is retained through each round, so I have to add previous rounds in too\n",
    "            position += length + actual_skip    \n",
    "    \n",
    "    return ls"
   ]
  },
  {
   "cell_type": "code",
   "execution_count": 3,
   "metadata": {},
   "outputs": [
    {
     "name": "stdout",
     "output_type": "stream",
     "text": [
      "Part A: 52070\n"
     ]
    }
   ],
   "source": [
    "data = [int(num) for num in content.split(',')]\n",
    "ls = knot_hash(data, 1)\n",
    "print(f'Part A: {ls[0] * ls[1]}')"
   ]
  },
  {
   "cell_type": "code",
   "execution_count": null,
   "metadata": {},
   "outputs": [
    {
     "name": "stdout",
     "output_type": "stream",
     "text": [
      "Part B: 7f94112db4e32e19cf6502073c66f9bb\n"
     ]
    }
   ],
   "source": [
    "data = [ord(val) for val in content]\n",
    "data.extend([17, 31, 73, 47, 23])\n",
    "\n",
    "# Get sparse hash\n",
    "ls = knot_hash(data, 64)\n",
    "\n",
    "# Make dense hash, then get the hex representation\n",
    "res = \"\"\n",
    "for i in range(0, len(ls), 16):\n",
    "    xor_val = reduce(ixor, ls[i: i+16], 0)  # XOR the whole segment\n",
    "    # Get hex value, and add a 0 at the beginning if the hex value is less than 2 characters.\n",
    "    # Read more about string formatting syntax here: https://docs.python.org/3/library/string.html#format-string-syntax\n",
    "    res += \"{:02x}\".format(xor_val) \n",
    "\n",
    "print(f'Part B: {res}')"
   ]
  }
 ],
 "metadata": {
  "kernelspec": {
   "display_name": "base",
   "language": "python",
   "name": "python3"
  },
  "language_info": {
   "codemirror_mode": {
    "name": "ipython",
    "version": 3
   },
   "file_extension": ".py",
   "mimetype": "text/x-python",
   "name": "python",
   "nbconvert_exporter": "python",
   "pygments_lexer": "ipython3",
   "version": "3.11.7"
  }
 },
 "nbformat": 4,
 "nbformat_minor": 2
}
