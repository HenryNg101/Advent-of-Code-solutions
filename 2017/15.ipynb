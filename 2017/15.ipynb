{
 "cells": [
  {
   "cell_type": "code",
   "execution_count": 1,
   "metadata": {},
   "outputs": [],
   "source": [
    "import os\n",
    "os.chdir('..')\n",
    "from inputGetter import get_input\n",
    "\n",
    "content = get_input(2017, 15)[:-1]"
   ]
  },
  {
   "cell_type": "code",
   "execution_count": 2,
   "metadata": {},
   "outputs": [
    {
     "name": "stdout",
     "output_type": "stream",
     "text": [
      "Part 1: 631\n"
     ]
    }
   ],
   "source": [
    "start_A, start_B = [int(line.split()[-1]) for line in content.split('\\n')]\n",
    "factor_A, factor_B = 16807, 48271\n",
    "MOD = 2147483647\n",
    "mask = (1 << 16) - 1\n",
    "\n",
    "res_a = 0\n",
    "for i in range(40000000):\n",
    "    start_A = (start_A * factor_A) % MOD\n",
    "    start_B = (start_B * factor_B) % MOD\n",
    "    \n",
    "    # Check if first 16 bits are the same\n",
    "    if (start_A ^ start_B) & mask == 0:\n",
    "        res_a += 1\n",
    "\n",
    "print(f'Part 1: {res_a}')"
   ]
  },
  {
   "cell_type": "code",
   "execution_count": 3,
   "metadata": {},
   "outputs": [
    {
     "name": "stdout",
     "output_type": "stream",
     "text": [
      "Part 2: 279\n"
     ]
    }
   ],
   "source": [
    "start_A, start_B = [int(line.split()[-1]) for line in content.split('\\n')]\n",
    "res_b = 0\n",
    "for i in range(5000000):\n",
    "    while start_A % 4 != 0:\n",
    "        start_A = (start_A * factor_A) % MOD\n",
    "    while start_B % 8 != 0:\n",
    "        start_B = (start_B * factor_B) % MOD\n",
    "    \n",
    "    # Check if first 16 bits are the same\n",
    "    if (start_A ^ start_B) & mask == 0:\n",
    "        res_b += 1\n",
    "    \n",
    "    start_A = (start_A * factor_A) % MOD\n",
    "    start_B = (start_B * factor_B) % MOD\n",
    "    \n",
    "print(f'Part 2: {res_b}')"
   ]
  },
  {
   "cell_type": "markdown",
   "metadata": {},
   "source": [
    "Note: There's a performance issue. Both parts run in 30 seconds. This can, and should be optimized, maybe can utilize math in here."
   ]
  }
 ],
 "metadata": {
  "kernelspec": {
   "display_name": "base",
   "language": "python",
   "name": "python3"
  },
  "language_info": {
   "codemirror_mode": {
    "name": "ipython",
    "version": 3
   },
   "file_extension": ".py",
   "mimetype": "text/x-python",
   "name": "python",
   "nbconvert_exporter": "python",
   "pygments_lexer": "ipython3",
   "version": "3.11.7"
  }
 },
 "nbformat": 4,
 "nbformat_minor": 2
}
