{
 "cells": [
  {
   "cell_type": "code",
   "execution_count": null,
   "metadata": {},
   "outputs": [],
   "source": [
    "import os\n",
    "os.chdir('..')\n",
    "from inputGetter import get_input\n",
    "\n",
    "content = get_input(2017, 13)[:-1]"
   ]
  },
  {
   "cell_type": "markdown",
   "metadata": {},
   "source": [
    "So, the intuition behind this is that, for each layer that has a camera, it has to be sure that after delay for **x** picoseconds, when moving to the **y-th** layer, which means that this camera has moved for **x + y** picoseconds, shouldn't end up in position 0 of the layer's range.\n",
    "\n",
    "Now, with that in mind, and the way the camera moves in the layer's range, which goes from top to bottom, and then from bottom to top again, it can be easily seen that for a layer that has a range of **z**, it takes **(z - 1) * 2** picoseconds (z-1 seconds to go to the top, and same for going down to the bottom as well) for the camera to go back to the original position, and complete a cycle.\n",
    "\n",
    "So, for the 2nd part of the problem, just brute force all possible delays, and for each delay, go to each layer and check if **x + y** divisible by **(z - 1) * 2** or not. If yes for any of the layer, that delay doesn't work, as it shouldn't be caught by any layer"
   ]
  },
  {
   "cell_type": "code",
   "execution_count": 4,
   "metadata": {},
   "outputs": [
    {
     "name": "stdout",
     "output_type": "stream",
     "text": [
      "Part A: 1476\n",
      "Part B: 3937334\n"
     ]
    }
   ],
   "source": [
    "content = content.split('\\n')\n",
    "layers = dict()\n",
    "for line in content:\n",
    "    depth, size = [int(val) for val in line.split(': ')]\n",
    "    layers[depth] = size\n",
    "\n",
    "def calc_severity(delay):\n",
    "    global layers\n",
    "    res = 0\n",
    "    \n",
    "    for depth, value in layers.items():\n",
    "        cycle_sz = (value - 1) * 2\n",
    "        if (depth + delay) % cycle_sz == 0:\n",
    "            if delay == 0:\n",
    "                res += depth * value\n",
    "            else:\n",
    "                return False\n",
    "    \n",
    "    return res if delay == 0 else True\n",
    "\n",
    "# Part A\n",
    "print(f'Part A: {calc_severity(0)}')\n",
    "\n",
    "# Brute force to find the right delay for part B\n",
    "delay = 1\n",
    "while True:\n",
    "    if calc_severity(delay):\n",
    "        break\n",
    "    delay += 1\n",
    "    \n",
    "print(f'Part B: {delay}')"
   ]
  }
 ],
 "metadata": {
  "kernelspec": {
   "display_name": "base",
   "language": "python",
   "name": "python3"
  },
  "language_info": {
   "codemirror_mode": {
    "name": "ipython",
    "version": 3
   },
   "file_extension": ".py",
   "mimetype": "text/x-python",
   "name": "python",
   "nbconvert_exporter": "python",
   "pygments_lexer": "ipython3",
   "version": "3.11.7"
  }
 },
 "nbformat": 4,
 "nbformat_minor": 2
}
