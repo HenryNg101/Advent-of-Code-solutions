{
 "cells": [
  {
   "cell_type": "code",
   "execution_count": 30,
   "metadata": {},
   "outputs": [],
   "source": [
    "import os\n",
    "os.chdir('..')\n",
    "from inputGetter import get_input\n",
    "\n",
    "content = get_input(2017, 6)[:-1]"
   ]
  },
  {
   "cell_type": "code",
   "execution_count": 31,
   "metadata": {},
   "outputs": [
    {
     "name": "stdout",
     "output_type": "stream",
     "text": [
      "Part A: 12841\n",
      "Part B: 8038\n"
     ]
    }
   ],
   "source": [
    "content = [int(val) for val in content.split()]\n",
    "mp = {tuple(content): 0}\n",
    "id = 1\n",
    "\n",
    "while True:\n",
    "    # Find id with max value\n",
    "    max_id = 0\n",
    "    for i in range(len(content)):\n",
    "        if content[i] > content[max_id]:\n",
    "            max_id = i\n",
    "    \n",
    "    # Add value in\n",
    "    max_val = content[max_id]\n",
    "    content[max_id] = 0\n",
    "    for i in range(len(content)):\n",
    "        content[i] += max_val // len(content)\n",
    "        \n",
    "    for i in range(1, max_val % len(content) + 1):\n",
    "        content[(max_id + i) % len(content)] += 1\n",
    "    \n",
    "    # Check the result\n",
    "    if tuple(content) in mp:\n",
    "        print(f'Part A: {len(mp)}')\n",
    "        print(f'Part B: {id - mp[tuple(content)]}')\n",
    "        break\n",
    "    \n",
    "    mp[tuple(content)] = id\n",
    "    id += 1"
   ]
  }
 ],
 "metadata": {
  "kernelspec": {
   "display_name": "base",
   "language": "python",
   "name": "python3"
  },
  "language_info": {
   "codemirror_mode": {
    "name": "ipython",
    "version": 3
   },
   "file_extension": ".py",
   "mimetype": "text/x-python",
   "name": "python",
   "nbconvert_exporter": "python",
   "pygments_lexer": "ipython3",
   "version": "3.11.7"
  }
 },
 "nbformat": 4,
 "nbformat_minor": 2
}
