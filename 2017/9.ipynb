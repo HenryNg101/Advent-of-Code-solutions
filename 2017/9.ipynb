{
 "cells": [
  {
   "cell_type": "code",
   "execution_count": 3,
   "metadata": {},
   "outputs": [],
   "source": [
    "import os\n",
    "os.chdir('..')\n",
    "from inputGetter import get_input\n",
    "\n",
    "content = get_input(2017, 9)[:-1]"
   ]
  },
  {
   "cell_type": "code",
   "execution_count": 4,
   "metadata": {},
   "outputs": [
    {
     "name": "stdout",
     "output_type": "stream",
     "text": [
      "Part A: 11347\n",
      "Part B: 5404\n"
     ]
    }
   ],
   "source": [
    "res_a, res_b = 0, 0\n",
    "\n",
    "# Removed cancalled characters\n",
    "filtered = []\n",
    "i = 0\n",
    "while i < len(content):\n",
    "    if content[i] == '!':\n",
    "        i += 2\n",
    "    else:\n",
    "        filtered.append(content[i])\n",
    "        i += 1\n",
    "\n",
    "stack = []\n",
    "i = 0\n",
    "while i < len(filtered):\n",
    "    # Counting non-cancelled characters for part B\n",
    "    if filtered[i] == '<':\n",
    "        i += 1\n",
    "        while i < len(filtered) and filtered[i] != '>':\n",
    "            res_b += 1\n",
    "            i += 1\n",
    "    \n",
    "    # Stack logic for part A\n",
    "    elif filtered[i] == '{' or filtered[i] == '}':\n",
    "        if filtered[i] == '{':\n",
    "            stack.append(filtered[i])\n",
    "        else:\n",
    "            res_a += len(stack)\n",
    "            stack.pop()\n",
    "    i += 1\n",
    "\n",
    "print(f'Part A: {res_a}')\n",
    "print(f'Part B: {res_b}')"
   ]
  }
 ],
 "metadata": {
  "kernelspec": {
   "display_name": "base",
   "language": "python",
   "name": "python3"
  },
  "language_info": {
   "codemirror_mode": {
    "name": "ipython",
    "version": 3
   },
   "file_extension": ".py",
   "mimetype": "text/x-python",
   "name": "python",
   "nbconvert_exporter": "python",
   "pygments_lexer": "ipython3",
   "version": "3.11.7"
  }
 },
 "nbformat": 4,
 "nbformat_minor": 2
}
