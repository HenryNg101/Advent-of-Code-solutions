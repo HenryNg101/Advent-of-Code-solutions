{
 "cells": [
  {
   "cell_type": "code",
   "execution_count": 1,
   "metadata": {},
   "outputs": [],
   "source": [
    "import os\n",
    "os.chdir('..')\n",
    "from inputGetter import get_input\n",
    "\n",
    "content = get_input(2017, 7)[:-1]"
   ]
  },
  {
   "cell_type": "code",
   "execution_count": 2,
   "metadata": {},
   "outputs": [
    {
     "name": "stdout",
     "output_type": "stream",
     "text": [
      "Part A: vvsvez\n",
      "Part B: 362\n"
     ]
    }
   ],
   "source": [
    "content = content.split('\\n')\n",
    "mp = dict()\n",
    "st = set()\n",
    "weights = dict()\n",
    "\n",
    "for line in content:\n",
    "    arr = line.split(' -> ')\n",
    "    node, ls = None, []\n",
    "    if len(arr) == 2:\n",
    "        node, ls = arr\n",
    "        ls = ls.split(', ')\n",
    "    else:\n",
    "        node = arr[0]\n",
    "    node, weight = node.split(' ')\n",
    "    weights[node] = int(weight[1:-1])\n",
    "    \n",
    "    mp[node] = ls\n",
    "    for n in ls:\n",
    "        st.add(n)\n",
    "\n",
    "# Find root\n",
    "root = None\n",
    "for key in mp.keys():\n",
    "    if len(mp[key]) > 0 and key not in st:\n",
    "        root = key\n",
    "        break\n",
    "print(f'Part A: {root}')\n",
    "\n",
    "def dfs(root, mp, weights):\n",
    "    sum = weights[root]\n",
    "    existing_weights = dict()\n",
    "    \n",
    "    for i in range(len(mp[root])):\n",
    "        child_weight = dfs(mp[root][i], mp, weights)\n",
    "        if child_weight not in existing_weights:\n",
    "            existing_weights[child_weight] = []\n",
    "        existing_weights[child_weight].append(i)\n",
    "\n",
    "    existing_weights = list(existing_weights.items())\n",
    "    \n",
    "    if len(existing_weights) > 1:\n",
    "        if len(existing_weights[0][1]) == 1:\n",
    "            diff = existing_weights[0][0] - existing_weights[1][0]\n",
    "            id = existing_weights[0][1][0]\n",
    "            print(f'Part B: {weights[mp[root][id]] - diff}')\n",
    "            sum += existing_weights[1][0] * len(mp[root])\n",
    "        else:\n",
    "            diff = existing_weights[1][0] - existing_weights[0][0]\n",
    "            id = existing_weights[1][1][0]\n",
    "            print(f'Part B: {weights[mp[root][id]] - diff}')\n",
    "            sum += existing_weights[0][0] * len(mp[root])\n",
    "            \n",
    "    elif len(existing_weights) == 1:\n",
    "        sum += existing_weights[0][0] * len(mp[root])\n",
    "    \n",
    "    return sum\n",
    "\n",
    "_ = dfs(root, mp, weights)"
   ]
  }
 ],
 "metadata": {
  "kernelspec": {
   "display_name": "base",
   "language": "python",
   "name": "python3"
  },
  "language_info": {
   "codemirror_mode": {
    "name": "ipython",
    "version": 3
   },
   "file_extension": ".py",
   "mimetype": "text/x-python",
   "name": "python",
   "nbconvert_exporter": "python",
   "pygments_lexer": "ipython3",
   "version": "3.11.7"
  }
 },
 "nbformat": 4,
 "nbformat_minor": 2
}
