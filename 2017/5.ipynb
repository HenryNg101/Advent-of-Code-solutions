{
 "cells": [
  {
   "cell_type": "code",
   "execution_count": 1,
   "metadata": {},
   "outputs": [],
   "source": [
    "import os\n",
    "os.chdir('..')\n",
    "from inputGetter import get_input\n",
    "\n",
    "content = get_input(2017, 5)[:-1]"
   ]
  },
  {
   "cell_type": "code",
   "execution_count": 2,
   "metadata": {},
   "outputs": [
    {
     "name": "stdout",
     "output_type": "stream",
     "text": [
      "388611\n"
     ]
    }
   ],
   "source": [
    "data_a = [int(step) for step in content.split('\\n')]\n",
    "\n",
    "id = 0\n",
    "cnt_a = 0\n",
    "\n",
    "while id in range(0, len(data_a)):\n",
    "    data_a[id] += 1\n",
    "    id += data_a[id] - 1\n",
    "    cnt_a += 1\n",
    "    \n",
    "print(cnt_a)"
   ]
  },
  {
   "cell_type": "code",
   "execution_count": null,
   "metadata": {},
   "outputs": [
    {
     "name": "stdout",
     "output_type": "stream",
     "text": [
      "27763113\n"
     ]
    }
   ],
   "source": [
    "# Nearly 30 seconds solution, not good. Need more improvement\n",
    "\n",
    "data_b = [int(step) for step in content.split('\\n')]\n",
    "id = 0\n",
    "cnt_b = 0\n",
    "\n",
    "while id in range(0, len(data_b)):\n",
    "    if data_b[id] < 3:\n",
    "        data_b[id] += 1\n",
    "        id += data_b[id] - 1\n",
    "    else:\n",
    "        data_b[id] -= 1\n",
    "        id += data_b[id] + 1\n",
    "    \n",
    "    cnt_b += 1\n",
    "    \n",
    "print(cnt_b)"
   ]
  }
 ],
 "metadata": {
  "kernelspec": {
   "display_name": "base",
   "language": "python",
   "name": "python3"
  },
  "language_info": {
   "codemirror_mode": {
    "name": "ipython",
    "version": 3
   },
   "file_extension": ".py",
   "mimetype": "text/x-python",
   "name": "python",
   "nbconvert_exporter": "python",
   "pygments_lexer": "ipython3",
   "version": "3.11.7"
  }
 },
 "nbformat": 4,
 "nbformat_minor": 2
}
