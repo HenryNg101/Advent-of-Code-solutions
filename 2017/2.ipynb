{
 "cells": [
  {
   "cell_type": "code",
   "execution_count": 15,
   "metadata": {},
   "outputs": [],
   "source": [
    "import os\n",
    "os.chdir('..')\n",
    "from inputGetter import get_input\n",
    "\n",
    "content = get_input(2017, 2)[:-1]"
   ]
  },
  {
   "cell_type": "code",
   "execution_count": 16,
   "metadata": {},
   "outputs": [
    {
     "name": "stdout",
     "output_type": "stream",
     "text": [
      "45351\n"
     ]
    }
   ],
   "source": [
    "matrix = [[int(num) for num in row.split()] for row in content.split('\\n')]\n",
    "\n",
    "sum = 0\n",
    "for row in matrix:\n",
    "    sum += max(row) - min(row)\n",
    "\n",
    "print(sum)"
   ]
  },
  {
   "cell_type": "code",
   "execution_count": 24,
   "metadata": {},
   "outputs": [
    {
     "name": "stdout",
     "output_type": "stream",
     "text": [
      "275\n"
     ]
    }
   ],
   "source": [
    "matrix = [sorted(row) for row in matrix]\n",
    "# print(matrix)\n",
    "\n",
    "res = 0\n",
    "for row in matrix:\n",
    "    found = False\n",
    "    for num in row:\n",
    "        for div in row:\n",
    "            if div >= num:\n",
    "                break\n",
    "            \n",
    "            if num % div == 0:\n",
    "                res += num // div\n",
    "                found = True\n",
    "                break\n",
    "            \n",
    "        if found:\n",
    "            break\n",
    "\n",
    "print(res)"
   ]
  }
 ],
 "metadata": {
  "kernelspec": {
   "display_name": "base",
   "language": "python",
   "name": "python3"
  },
  "language_info": {
   "codemirror_mode": {
    "name": "ipython",
    "version": 3
   },
   "file_extension": ".py",
   "mimetype": "text/x-python",
   "name": "python",
   "nbconvert_exporter": "python",
   "pygments_lexer": "ipython3",
   "version": "3.11.7"
  }
 },
 "nbformat": 4,
 "nbformat_minor": 2
}
