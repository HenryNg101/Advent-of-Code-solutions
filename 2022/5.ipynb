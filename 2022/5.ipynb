{
 "cells": [
  {
   "attachments": {},
   "cell_type": "markdown",
   "metadata": {},
   "source": [
    "# Day 5\n",
    "\n",
    "Pre-process the input"
   ]
  },
  {
   "cell_type": "code",
   "execution_count": 39,
   "metadata": {},
   "outputs": [],
   "source": [
    "import os\n",
    "os.chdir('..')\n",
    "from inputGetter import get_input\n",
    "\n",
    "# The number of spaces for each element in stacks's row (except last stack elements)\n",
    "n = 4\n",
    "content = get_input(2022, 5).split('\\n')\n",
    "content.pop()\n",
    "continue_id = -1\n",
    "\n",
    "# Stack simulation using 2d list, using list comprehension\n",
    "st_a = [[] for _ in range(len(content[0]) // n + 1)]\n",
    "\n",
    "# Process the stack input\n",
    "for id, line in enumerate(content):\n",
    "    # Breaks when see the part with number from 1 to n, which is the number of stack\n",
    "    if '1' in line:\n",
    "        continue_id = id + 1\n",
    "        break\n",
    "\n",
    "    # Breaks them down into chunks, then insert into stacks\n",
    "    processed_line = [(line[i:i+n]).strip() for i in range(0, len(line), n)]\n",
    "    for st_id, token in enumerate(processed_line):\n",
    "        if len(token) > 0:\n",
    "            st_a[st_id].insert(0, token[1])\n",
    "\n",
    "#Copy for part B\n",
    "st_b = [[elem for elem in st] for st in st_a]"
   ]
  },
  {
   "attachments": {},
   "cell_type": "markdown",
   "metadata": {},
   "source": [
    "Part A"
   ]
  },
  {
   "cell_type": "code",
   "execution_count": 40,
   "metadata": {},
   "outputs": [
    {
     "name": "stdout",
     "output_type": "stream",
     "text": [
      "WSFTMRHPP\n"
     ]
    }
   ],
   "source": [
    "\n",
    "\n",
    "for id in range(continue_id+1, len(content)):\n",
    "    # Split a line by words, and only take the numbers\n",
    "    arr = [int(x) for x in content[id].split(' ') if x.isdecimal()]\n",
    "    for _ in range(arr[0]):\n",
    "        st_a[arr[2]-1].append(st_a[arr[1]-1].pop())\n",
    "\n",
    "res = \"\".join([top[-1] for top in st_a])\n",
    "print(res)"
   ]
  },
  {
   "attachments": {},
   "cell_type": "markdown",
   "metadata": {},
   "source": [
    "Part B"
   ]
  },
  {
   "cell_type": "code",
   "execution_count": 41,
   "metadata": {},
   "outputs": [
    {
     "name": "stdout",
     "output_type": "stream",
     "text": [
      "GSLCMFBRP\n"
     ]
    }
   ],
   "source": [
    "\n",
    "for id in range(continue_id+1, len(content)):\n",
    "    # Split a line by words, and only take the numbers\n",
    "    count, start, stop = [int(x) for x in content[id].split(' ') if x.isdecimal()]\n",
    "\n",
    "    # Take new elements, then reverse\n",
    "    alt_arr = [st_b[start-1].pop() for _ in range(count)]\n",
    "    alt_arr.reverse()\n",
    "    st_b[stop - 1] += alt_arr\n",
    "\n",
    "res = \"\".join(e[-1] for e in st_b)\n",
    "print(res)"
   ]
  }
 ],
 "metadata": {
  "kernelspec": {
   "display_name": "Python 3",
   "language": "python",
   "name": "python3"
  },
  "language_info": {
   "codemirror_mode": {
    "name": "ipython",
    "version": 3
   },
   "file_extension": ".py",
   "mimetype": "text/x-python",
   "name": "python",
   "nbconvert_exporter": "python",
   "pygments_lexer": "ipython3",
   "version": "3.8.10"
  },
  "orig_nbformat": 4,
  "vscode": {
   "interpreter": {
    "hash": "916dbcbb3f70747c44a77c7bcd40155683ae19c65e1c03b4aa3499c5328201f1"
   }
  }
 },
 "nbformat": 4,
 "nbformat_minor": 2
}
