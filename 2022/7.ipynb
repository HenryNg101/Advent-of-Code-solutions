{
 "cells": [
  {
   "attachments": {},
   "cell_type": "markdown",
   "metadata": {},
   "source": [
    "# Day 7\n",
    "\n",
    "Custom directory's tree data structure, with some traversal methods"
   ]
  },
  {
   "cell_type": "code",
   "execution_count": 1,
   "metadata": {},
   "outputs": [],
   "source": [
    "# Custom directory's tree data structure\n",
    "class Directory:\n",
    "    def __init__(self, parent_dir=None) -> None:\n",
    "        self.parent_dir = parent_dir\n",
    "        self.directories = dict()   # Contains Directory objects, mapped by the dir's name\n",
    "        self.size = 0\n",
    "\n",
    "# Main algo here, traverse filesystem's tree first, add final size of child dirs later\n",
    "def traverse(root: Directory):\n",
    "    global sum_dirs\n",
    "\n",
    "    for dir in root.directories.values():\n",
    "        root.size += traverse(dir)\n",
    "    if root.size <= 100000:\n",
    "        sum_dirs += root.size\n",
    "    return root.size\n",
    "\n",
    "def find_min_dir_with_threshold(root: Directory, min_sz: int):\n",
    "    global min_dir_sz\n",
    "\n",
    "    if root.size >= min_sz:\n",
    "        min_dir_sz = min(root.size, min_dir_sz)\n",
    "    for dir in root.directories.values():\n",
    "        find_min_dir_with_threshold(dir, min_sz)"
   ]
  },
  {
   "attachments": {},
   "cell_type": "markdown",
   "metadata": {},
   "source": [
    "Part A"
   ]
  },
  {
   "cell_type": "code",
   "execution_count": 2,
   "metadata": {},
   "outputs": [
    {
     "name": "stdout",
     "output_type": "stream",
     "text": [
      "1648397\n"
     ]
    }
   ],
   "source": [
    "import os\n",
    "os.chdir('..')\n",
    "from inputGetter import get_input\n",
    "\n",
    "sum_dirs = 0   #Task A result\n",
    "min_dir_sz = 30000000   #Task B result\n",
    "root = Directory()\n",
    "curr_dir = root\n",
    "\n",
    "content = get_input(2022, 7).split('\\n')\n",
    "content.pop()\n",
    "for line in content:\n",
    "    tokens = line.split()\n",
    "    # Handle the command\n",
    "    if tokens[0] == '$' and tokens[1] == 'cd':\n",
    "        if tokens[2] == '/':\n",
    "            curr_dir = root\n",
    "        elif tokens[2] == '..':\n",
    "            curr_dir = curr_dir.parent_dir\n",
    "        else:\n",
    "            curr_dir = curr_dir.directories[tokens[2]]\n",
    "    # Handle \"ls\" command's output\n",
    "    else:\n",
    "        if tokens[0] == 'dir':\n",
    "            if tokens[1] not in curr_dir.directories:\n",
    "                curr_dir.directories[tokens[1]] = Directory(curr_dir)\n",
    "        elif tokens[0].isnumeric():\n",
    "            curr_dir.size += int(tokens[0])\n",
    "\n",
    "traverse(root)\n",
    "find_min_dir_with_threshold(root, 30000000 - (70000000 - root.size))\n",
    "print(sum_dirs)\n",
    "\n"
   ]
  },
  {
   "attachments": {},
   "cell_type": "markdown",
   "metadata": {},
   "source": [
    "Part B"
   ]
  },
  {
   "cell_type": "code",
   "execution_count": 3,
   "metadata": {},
   "outputs": [
    {
     "name": "stdout",
     "output_type": "stream",
     "text": [
      "1815525\n"
     ]
    }
   ],
   "source": [
    "print(min_dir_sz)"
   ]
  }
 ],
 "metadata": {
  "kernelspec": {
   "display_name": "Python 3",
   "language": "python",
   "name": "python3"
  },
  "language_info": {
   "codemirror_mode": {
    "name": "ipython",
    "version": 3
   },
   "file_extension": ".py",
   "mimetype": "text/x-python",
   "name": "python",
   "nbconvert_exporter": "python",
   "pygments_lexer": "ipython3",
   "version": "3.8.10"
  },
  "orig_nbformat": 4,
  "vscode": {
   "interpreter": {
    "hash": "916dbcbb3f70747c44a77c7bcd40155683ae19c65e1c03b4aa3499c5328201f1"
   }
  }
 },
 "nbformat": 4,
 "nbformat_minor": 2
}
