{
 "cells": [
  {
   "attachments": {},
   "cell_type": "markdown",
   "metadata": {},
   "source": [
    "# Day 25\n",
    "\n",
    "Part A"
   ]
  },
  {
   "cell_type": "code",
   "execution_count": 1,
   "metadata": {},
   "outputs": [
    {
     "name": "stdout",
     "output_type": "stream",
     "text": [
      "2=020-===0-1===2=020\n"
     ]
    }
   ],
   "source": [
    "import os\n",
    "os.chdir('..')\n",
    "from inputGetter import get_input\n",
    "\n",
    "content = get_input(2022, 25).split('\\n')[:-1]    #Exclude the newline\n",
    "\n",
    "total = 0\n",
    "for line in content:\n",
    "    multiplier = 1\n",
    "    base_10 = 0\n",
    "    for i in range(len(line)-1, -1, -1):\n",
    "        val = 0\n",
    "        if line[i] == '-':\n",
    "            val = -1\n",
    "        elif line[i] == '=':\n",
    "            val = -2\n",
    "        else:\n",
    "            val = int(line[i])\n",
    "        base_10 += val * multiplier\n",
    "        multiplier *= 5\n",
    "    total += base_10\n",
    "\n",
    "#Convert decimal to base 5\n",
    "base_5 = []\n",
    "while total > 0:\n",
    "    base_5.insert(0, str(total % 5))\n",
    "    total //= 5\n",
    "\n",
    "#Convert standard base 5 numbers to SNAFU number\n",
    "spare = 0\n",
    "for i in range(len(base_5) - 1, -1, -1):\n",
    "    new_val = int(base_5[i]) + spare\n",
    "    spare = new_val // 5\n",
    "    new_val -= spare * 5\n",
    "    if new_val > 2:\n",
    "        spare += 1\n",
    "        if new_val == 3:\n",
    "            base_5[i] = '='\n",
    "        else:\n",
    "            base_5[i] = '-'\n",
    "    else:\n",
    "        base_5[i] = str(new_val)\n",
    "if spare > 0:\n",
    "    base_5.insert(0, str(spare))\n",
    "\n",
    "#Get the result\n",
    "print(*base_5, sep='')"
   ]
  },
  {
   "attachments": {},
   "cell_type": "markdown",
   "metadata": {},
   "source": [
    "Part B (Will do later)"
   ]
  },
  {
   "cell_type": "code",
   "execution_count": null,
   "metadata": {},
   "outputs": [],
   "source": []
  }
 ],
 "metadata": {
  "kernelspec": {
   "display_name": "Python 3",
   "language": "python",
   "name": "python3"
  },
  "language_info": {
   "codemirror_mode": {
    "name": "ipython",
    "version": 3
   },
   "file_extension": ".py",
   "mimetype": "text/x-python",
   "name": "python",
   "nbconvert_exporter": "python",
   "pygments_lexer": "ipython3",
   "version": "3.8.10"
  },
  "orig_nbformat": 4,
  "vscode": {
   "interpreter": {
    "hash": "916dbcbb3f70747c44a77c7bcd40155683ae19c65e1c03b4aa3499c5328201f1"
   }
  }
 },
 "nbformat": 4,
 "nbformat_minor": 2
}
