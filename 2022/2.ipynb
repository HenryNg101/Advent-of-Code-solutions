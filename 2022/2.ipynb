{
 "cells": [
  {
   "attachments": {},
   "cell_type": "markdown",
   "metadata": {},
   "source": [
    "# Part 1"
   ]
  },
  {
   "cell_type": "code",
   "execution_count": 6,
   "metadata": {},
   "outputs": [
    {
     "name": "stdout",
     "output_type": "stream",
     "text": [
      "9241\n"
     ]
    }
   ],
   "source": [
    "import os\n",
    "os.chdir('..')\n",
    "from inputGetter import get_input\n",
    "\n",
    "content = get_input(2022, 2).split('\\n')\n",
    "content.pop()\n",
    "\n",
    "#Result for part A, and rules on what would makes right win left (ot can be used the other way too)\n",
    "res_A = 0\n",
    "win_A = [2, 0, 1]\n",
    "\n",
    "#Result for part B, and what response should be placed to make sure that the outcome is same as expected\n",
    "res_B = 0\n",
    "win_B = [[3, 1, 2], [1, 2, 3], [2, 3, 1]]\n",
    "\n",
    "for line in content:\n",
    "    s = line.split()\n",
    "    left, right = ord(s[0]) - ord('A'), ord(s[1]) - ord('X')\n",
    "    \n",
    "    #Part A\n",
    "    res_A += right + 1\n",
    "    if left == right:\n",
    "        res_A += 3\n",
    "    else:\n",
    "        res_A += 6 if win_A[right] == left else 0\n",
    "    #Part B\n",
    "    res_B += right * 3 + win_B[left][right]\n",
    "\n",
    "print(res_A)"
   ]
  },
  {
   "attachments": {},
   "cell_type": "markdown",
   "metadata": {},
   "source": [
    "# Part B"
   ]
  },
  {
   "cell_type": "code",
   "execution_count": 4,
   "metadata": {},
   "outputs": [
    {
     "name": "stdout",
     "output_type": "stream",
     "text": [
      "14610\n"
     ]
    }
   ],
   "source": [
    "print(res_B)"
   ]
  }
 ],
 "metadata": {
  "kernelspec": {
   "display_name": "Python 3",
   "language": "python",
   "name": "python3"
  },
  "language_info": {
   "codemirror_mode": {
    "name": "ipython",
    "version": 3
   },
   "file_extension": ".py",
   "mimetype": "text/x-python",
   "name": "python",
   "nbconvert_exporter": "python",
   "pygments_lexer": "ipython3",
   "version": "3.8.10"
  },
  "orig_nbformat": 4,
  "vscode": {
   "interpreter": {
    "hash": "916dbcbb3f70747c44a77c7bcd40155683ae19c65e1c03b4aa3499c5328201f1"
   }
  }
 },
 "nbformat": 4,
 "nbformat_minor": 2
}
