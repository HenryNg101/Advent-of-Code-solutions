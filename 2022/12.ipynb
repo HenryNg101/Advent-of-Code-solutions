{
 "cells": [
  {
   "attachments": {},
   "cell_type": "markdown",
   "metadata": {},
   "source": [
    "# Day 12\n",
    "\n",
    "Part A"
   ]
  },
  {
   "cell_type": "code",
   "execution_count": 2,
   "metadata": {},
   "outputs": [
    {
     "name": "stdout",
     "output_type": "stream",
     "text": [
      "420\n"
     ]
    }
   ],
   "source": [
    "from queue import Queue\n",
    "import os\n",
    "os.chdir('..')\n",
    "from inputGetter import get_input\n",
    "\n",
    "def is_valid(curr_r, curr_c, new_r, new_c, visited, content):\n",
    "    if new_r < 0 or new_r >= len(content) or new_c < 0 or new_c >= len(content[0]):\n",
    "        return False\n",
    "    if visited[new_r][new_c]:\n",
    "        return False\n",
    "    return ord(content[new_r][new_c]) - ord(content[curr_r][curr_c]) >= -1\n",
    "\n",
    "#The trick here is to start tracking from end point to start, as there will be multiple starting points in task B\n",
    "def bfs(start_r, start_c, end_r, end_c, content):\n",
    "    q = Queue()\n",
    "    q.put((end_r, end_c))\n",
    "    res_A = 0\n",
    "    res_B = 9999999999999999\n",
    "    visited = [[False for _ in range(len(content[0]))] for _ in range(len(content))]\n",
    "\n",
    "    while not q.empty():\n",
    "        sz = q.qsize()\n",
    "        for _ in range(sz):\n",
    "            curr_r, curr_c = q.get()\n",
    "            visited[curr_r][curr_c] = True\n",
    "\n",
    "            if (curr_r, curr_c) == (start_r, start_c):\n",
    "                return res_A, res_B\n",
    "            \n",
    "            #As soon as it meets an a, which is a possible start point (for task B), \n",
    "            if content[curr_r][curr_c] == 'a':\n",
    "                res_B = min(res_B, res_A)\n",
    "\n",
    "            for i in [(-1, 0),(1, 0),(0, 1),(0, -1)]:\n",
    "                new_r, new_c = curr_r + i[0], curr_c + i[1]\n",
    "                if is_valid(curr_r, curr_c, new_r, new_c, visited, content):\n",
    "                    q.put((new_r, new_c))\n",
    "                    visited[new_r][new_c] = True \n",
    "        res_A += 1\n",
    "    #If nothing is found\n",
    "    return -1, -1\n",
    "\n",
    "content = get_input(2022, 12).split('\\n')\n",
    "content.pop()\n",
    "content = [list(i) for i in content]\n",
    "start_r, start_c, end_r, end_c = -1, -1, -1, -1\n",
    "\n",
    "for i in range(len(content)):\n",
    "    for j in range(len(content[i])):\n",
    "        if content[i][j] == 'S':\n",
    "            start_r, start_c = i, j\n",
    "            content[i][j] = 'a'\n",
    "        if content[i][j] == 'E':\n",
    "            end_r, end_c = i, j\n",
    "            content[i][j] = 'z'\n",
    "\n",
    "res_A, res_B = bfs(start_r, start_c, end_r, end_c, content)\n",
    "print(res_A)"
   ]
  },
  {
   "attachments": {},
   "cell_type": "markdown",
   "metadata": {},
   "source": [
    "Part B"
   ]
  },
  {
   "cell_type": "code",
   "execution_count": 3,
   "metadata": {},
   "outputs": [
    {
     "name": "stdout",
     "output_type": "stream",
     "text": [
      "414\n"
     ]
    }
   ],
   "source": [
    "print(res_B)"
   ]
  }
 ],
 "metadata": {
  "kernelspec": {
   "display_name": "Python 3",
   "language": "python",
   "name": "python3"
  },
  "language_info": {
   "codemirror_mode": {
    "name": "ipython",
    "version": 3
   },
   "file_extension": ".py",
   "mimetype": "text/x-python",
   "name": "python",
   "nbconvert_exporter": "python",
   "pygments_lexer": "ipython3",
   "version": "3.8.10 (default, Nov 14 2022, 12:59:47) \n[GCC 9.4.0]"
  },
  "orig_nbformat": 4,
  "vscode": {
   "interpreter": {
    "hash": "916dbcbb3f70747c44a77c7bcd40155683ae19c65e1c03b4aa3499c5328201f1"
   }
  }
 },
 "nbformat": 4,
 "nbformat_minor": 2
}
