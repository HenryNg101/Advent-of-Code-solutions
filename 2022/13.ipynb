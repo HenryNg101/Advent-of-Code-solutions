{
 "cells": [
  {
   "attachments": {},
   "cell_type": "markdown",
   "metadata": {},
   "source": [
    "# Day 13\n",
    "\n",
    "Part A"
   ]
  },
  {
   "cell_type": "code",
   "execution_count": 2,
   "metadata": {},
   "outputs": [
    {
     "name": "stdout",
     "output_type": "stream",
     "text": [
      "5684\n"
     ]
    }
   ],
   "source": [
    "import os\n",
    "os.chdir('..')\n",
    "from inputGetter import get_input\n",
    "from functools import cmp_to_key\n",
    "\n",
    "\"\"\"\n",
    "Create a list from string\n",
    "\"\"\"\n",
    "def create_list(ls: str, id: int = 0):\n",
    "    new_ls = []\n",
    "    if len(ls) == 0:\n",
    "        return new_ls, id\n",
    "    val = 0\n",
    "    while id < len(ls):\n",
    "        if ls[id] == '[':\n",
    "            child_ls, new_id = create_list(ls, id + 1)\n",
    "            new_ls.append(child_ls)\n",
    "            id = new_id\n",
    "\n",
    "        elif ls[id] == ']':\n",
    "            if ls[id-1].isnumeric():\n",
    "                new_ls.append(val)\n",
    "            return new_ls, id\n",
    "\n",
    "        elif ls[id] == ',':\n",
    "            if ls[id-1].isnumeric():\n",
    "                new_ls.append(val)\n",
    "            val = 0\n",
    "\n",
    "        else:\n",
    "            val = val * 10 + int(ls[id])\n",
    "\n",
    "        id += 1\n",
    "\n",
    "    if ls[-1].isnumeric():\n",
    "        new_ls.append(val)\n",
    "        val = 0\n",
    "    return new_ls, id\n",
    "\n",
    "\n",
    "\"\"\"\n",
    "A comparator for 2 lists\n",
    "Returns:\n",
    "    -1 if left list is greater than right list\n",
    "    1 if right list is greater than left list\n",
    "    0 if both are equal\n",
    "\"\"\"\n",
    "def compare_ls(left, right):\n",
    "    id = 0\n",
    "    while (True):\n",
    "        if id >= len(left) or id >= len(right):\n",
    "            if len(left) > len(right):\n",
    "                return -1\n",
    "            return int(len(left) < len(right))\n",
    "\n",
    "        # Type checking\n",
    "        type_l = str(type(left[id]))\n",
    "        type_r = str(type(right[id]))\n",
    "\n",
    "        if type_l == type_r:\n",
    "            if type_l == \"<class 'int'>\":\n",
    "                if left[id] > right[id]:\n",
    "                    return -1\n",
    "                elif left[id] < right[id]:\n",
    "                    return 1\n",
    "            else:\n",
    "                check_val = compare_ls(left[id], right[id])\n",
    "                if check_val != 0:\n",
    "                    return check_val\n",
    "\n",
    "        else:\n",
    "            child_l = list([left[id]]) if type_l == \"<class 'int'>\" else list(left[id])\n",
    "            child_r = list([right[id]]) if type_r == \"<class 'int'>\" else list(right[id])\n",
    "\n",
    "            check_val = compare_ls(child_l, child_r)\n",
    "            if check_val != 0:\n",
    "                return check_val\n",
    "\n",
    "        id += 1\n",
    "\n",
    "\n",
    "content = get_input(2022, 13).split('\\n')\n",
    "res_A = 0\n",
    "res_B = [[[2]], [[6]]]\n",
    "\n",
    "for i in range(0, len(content), 3):\n",
    "    left = create_list(content[i][1:-1])[0]\n",
    "    right = create_list(content[i+1][1:-1])[0]\n",
    "    res_B.extend([left, right])\n",
    "\n",
    "    if compare_ls(left, right) == 1:\n",
    "        res_A += i // 3 + 1\n",
    "\n",
    "res_B.sort(key=cmp_to_key(compare_ls), reverse=True)\n",
    "\n",
    "print(res_A)"
   ]
  },
  {
   "attachments": {},
   "cell_type": "markdown",
   "metadata": {},
   "source": [
    "Part B"
   ]
  },
  {
   "cell_type": "code",
   "execution_count": 3,
   "metadata": {},
   "outputs": [
    {
     "name": "stdout",
     "output_type": "stream",
     "text": [
      "22932\n"
     ]
    }
   ],
   "source": [
    "print((res_B.index([[2]]) + 1) * (res_B.index([[6]]) + 1))"
   ]
  }
 ],
 "metadata": {
  "kernelspec": {
   "display_name": "Python 3",
   "language": "python",
   "name": "python3"
  },
  "language_info": {
   "codemirror_mode": {
    "name": "ipython",
    "version": 3
   },
   "file_extension": ".py",
   "mimetype": "text/x-python",
   "name": "python",
   "nbconvert_exporter": "python",
   "pygments_lexer": "ipython3",
   "version": "3.8.10 (default, Nov 14 2022, 12:59:47) \n[GCC 9.4.0]"
  },
  "orig_nbformat": 4,
  "vscode": {
   "interpreter": {
    "hash": "916dbcbb3f70747c44a77c7bcd40155683ae19c65e1c03b4aa3499c5328201f1"
   }
  }
 },
 "nbformat": 4,
 "nbformat_minor": 2
}
