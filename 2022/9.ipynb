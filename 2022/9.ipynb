{
 "cells": [
  {
   "attachments": {},
   "cell_type": "markdown",
   "metadata": {},
   "source": [
    "# Day 9\n",
    "\n",
    "Part A"
   ]
  },
  {
   "cell_type": "code",
   "execution_count": 1,
   "metadata": {},
   "outputs": [
    {
     "name": "stdout",
     "output_type": "stream",
     "text": [
      "6067\n"
     ]
    }
   ],
   "source": [
    "import os\n",
    "os.chdir('..')\n",
    "from inputGetter import get_input\n",
    "\n",
    "content = get_input(2022, 9).split('\\n')\n",
    "content.pop()\n",
    "\n",
    "def main(knots_count: int):\n",
    "    visited = set()\n",
    "    knots = [[0, 0] for _ in range(knots_count)]\n",
    "\n",
    "    for line in content:\n",
    "        direction, moves = line.split(' ')\n",
    "        moves = int(moves)\n",
    "\n",
    "        for _ in range(moves):\n",
    "            if direction == 'U':\n",
    "                knots[0][0] -= 1\n",
    "            elif direction == 'D':\n",
    "                knots[0][0] += 1\n",
    "            elif direction == 'L':\n",
    "                knots[0][1] -= 1\n",
    "            else:\n",
    "                knots[0][1] += 1\n",
    "        \n",
    "            #Update new location of the following knots, one by one\n",
    "            for i in range(knots_count - 1):\n",
    "                cmp_r, cmp_c = knots[i][0] - knots[i+1][0], knots[i][1] - knots[i+1][1]\n",
    "\n",
    "                if abs(cmp_r) >= 2 or abs(cmp_c) >= 2:\n",
    "                    if cmp_r != 0:\n",
    "                        cmp_r //= abs(cmp_r)\n",
    "                    if cmp_c != 0:\n",
    "                        cmp_c //= abs(cmp_c)\n",
    "                    knots[i+1][0] += cmp_r\n",
    "                    knots[i+1][1] += cmp_c\n",
    "\n",
    "            visited.add(tuple(knots[-1]))\n",
    "\n",
    "    return len(visited)\n",
    "\n",
    "print(main(2))"
   ]
  },
  {
   "attachments": {},
   "cell_type": "markdown",
   "metadata": {},
   "source": [
    "Part B"
   ]
  },
  {
   "cell_type": "code",
   "execution_count": 2,
   "metadata": {},
   "outputs": [
    {
     "name": "stdout",
     "output_type": "stream",
     "text": [
      "2471\n"
     ]
    }
   ],
   "source": [
    "print(main(10))"
   ]
  }
 ],
 "metadata": {
  "kernelspec": {
   "display_name": "Python 3",
   "language": "python",
   "name": "python3"
  },
  "language_info": {
   "codemirror_mode": {
    "name": "ipython",
    "version": 3
   },
   "file_extension": ".py",
   "mimetype": "text/x-python",
   "name": "python",
   "nbconvert_exporter": "python",
   "pygments_lexer": "ipython3",
   "version": "3.8.10"
  },
  "orig_nbformat": 4,
  "vscode": {
   "interpreter": {
    "hash": "916dbcbb3f70747c44a77c7bcd40155683ae19c65e1c03b4aa3499c5328201f1"
   }
  }
 },
 "nbformat": 4,
 "nbformat_minor": 2
}
