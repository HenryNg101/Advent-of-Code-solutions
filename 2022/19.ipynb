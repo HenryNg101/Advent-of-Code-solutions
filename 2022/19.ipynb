{
 "cells": [
  {
   "attachments": {},
   "cell_type": "markdown",
   "metadata": {},
   "source": [
    "# Day 19\n",
    "\n",
    "Part A (In progress)"
   ]
  },
  {
   "cell_type": "code",
   "execution_count": null,
   "metadata": {},
   "outputs": [],
   "source": [
    "import re\n",
    "import os\n",
    "os.chdir('..')\n",
    "from inputGetter import get_input\n",
    "\n",
    "def bfs(robots):\n",
    "    pass\n",
    "\n",
    "content = get_input(2022, 19).split('\\n')[:-1]     #Exclude the newline\n",
    "\n",
    "for line in content:\n",
    "    robots = dict()\n",
    "    for robot_line in line.split('Each')[1:]:\n",
    "        requirements = robot_line.strip()[:-1].split()\n",
    "        costs = dict()\n",
    "        for i in range(3, len(requirements), 3):\n",
    "            costs[requirements[i+1]] = int(requirements[i])\n",
    "        robots[requirements[0]] = costs\n",
    "    bfs(robots)"
   ]
  },
  {
   "attachments": {},
   "cell_type": "markdown",
   "metadata": {},
   "source": [
    "Part B (Will do later)"
   ]
  }
 ],
 "metadata": {
  "kernelspec": {
   "display_name": "Python 3",
   "language": "python",
   "name": "python3"
  },
  "language_info": {
   "codemirror_mode": {
    "name": "ipython",
    "version": 3
   },
   "file_extension": ".py",
   "mimetype": "text/x-python",
   "name": "python",
   "nbconvert_exporter": "python",
   "pygments_lexer": "ipython3",
   "version": "3.8.10"
  },
  "orig_nbformat": 4,
  "vscode": {
   "interpreter": {
    "hash": "916dbcbb3f70747c44a77c7bcd40155683ae19c65e1c03b4aa3499c5328201f1"
   }
  }
 },
 "nbformat": 4,
 "nbformat_minor": 2
}
