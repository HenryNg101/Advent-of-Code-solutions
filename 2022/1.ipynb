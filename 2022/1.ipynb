{
 "cells": [
  {
   "cell_type": "markdown",
   "id": "75c1423c-b598-40d6-a725-41a34cce1a52",
   "metadata": {},
   "source": [
    "# Part 1\n",
    "\n",
    "Simple sorting"
   ]
  },
  {
   "cell_type": "code",
   "execution_count": 21,
   "id": "a690e52d",
   "metadata": {},
   "outputs": [
    {
     "name": "stdout",
     "output_type": "stream",
     "text": [
      "67622\n"
     ]
    }
   ],
   "source": [
    "import os\n",
    "os.chdir('..')\n",
    "from inputGetter import get_input\n",
    "\n",
    "content = get_input(2022, 1).split('\\n')\n",
    "count = 0\n",
    "\n",
    "ls = []\n",
    "\n",
    "for line in content:\n",
    "    if not len(line):\n",
    "        ls.append(count)\n",
    "        count = 0\n",
    "    else:\n",
    "        count += int(line)\n",
    "\n",
    "ls.sort()\n",
    "print(ls[-1])"
   ]
  },
  {
   "cell_type": "markdown",
   "id": "95929536",
   "metadata": {},
   "source": [
    "# Part 2"
   ]
  },
  {
   "cell_type": "code",
   "execution_count": 20,
   "id": "0faf847a",
   "metadata": {},
   "outputs": [
    {
     "name": "stdout",
     "output_type": "stream",
     "text": [
      "201491\n"
     ]
    }
   ],
   "source": [
    "print(sum(ls[-3:]))"
   ]
  }
 ],
 "metadata": {
  "kernelspec": {
   "display_name": "Python 3 (ipykernel)",
   "language": "python",
   "name": "python3"
  },
  "language_info": {
   "codemirror_mode": {
    "name": "ipython",
    "version": 3
   },
   "file_extension": ".py",
   "mimetype": "text/x-python",
   "name": "python",
   "nbconvert_exporter": "python",
   "pygments_lexer": "ipython3",
   "version": "3.8.10"
  },
  "vscode": {
   "interpreter": {
    "hash": "31f2aee4e71d21fbe5cf8b01ff0e069b9275f58929596ceb00d14d90e3e16cd6"
   }
  }
 },
 "nbformat": 4,
 "nbformat_minor": 5
}
