{
 "cells": [
  {
   "attachments": {},
   "cell_type": "markdown",
   "metadata": {},
   "source": [
    "# Day 11\n",
    "\n",
    "Part A"
   ]
  },
  {
   "cell_type": "code",
   "execution_count": 3,
   "metadata": {},
   "outputs": [
    {
     "name": "stdout",
     "output_type": "stream",
     "text": [
      "69918\n"
     ]
    }
   ],
   "source": [
    "import os\n",
    "os.chdir('..')\n",
    "from inputGetter import get_input\n",
    "\n",
    "class Monkey:\n",
    "    def __init__(self) -> None:\n",
    "        self.items = []\n",
    "        self.div = 0        #Test divisible by n\n",
    "        self.next = [-1, -1]    #Next moves, first one is true, second one is false\n",
    "        self.count = 0      #Number of times a monkey inspect an item\n",
    "\n",
    "        self.factor = -1\n",
    "        self.sign = ''\n",
    "\n",
    "    def calc(self):\n",
    "        self.count += 1\n",
    "        val = self.items[0]\n",
    "        self.items.pop(0)\n",
    "        if self.factor == 'old':\n",
    "            val *= val\n",
    "        elif self.sign == '*':\n",
    "            val *= int(self.factor)\n",
    "        else:\n",
    "            val += int(self.factor)\n",
    "        val //= 3\n",
    "        return val\n",
    "\n",
    "content = get_input(2022, 11).split('\\n')\n",
    "\n",
    "\"\"\"Input handling\"\"\"\n",
    "id = 0\n",
    "monkeys = []\n",
    "while id < len(content):\n",
    "    monkey = Monkey()\n",
    "    id += 1     #Skip first line, which is the \"Monkey n\"\n",
    "\n",
    "    \"\"\"Handling items\"\"\"\n",
    "    for it in content[id].split():\n",
    "        if it.isnumeric():\n",
    "            monkey.items.append(int(it))\n",
    "        elif it[:-1].isnumeric(): \n",
    "            monkey.items.append(int(it[:-1]))\n",
    "    id += 1\n",
    "\n",
    "    \"\"\"Handling operation\"\"\"\n",
    "    monkey.sign, monkey.factor = content[id].split()[-2:]\n",
    "    #print(f'{monkey.sign} {monkey.factor}')\n",
    "    id += 1\n",
    "\n",
    "    \"\"\"Handling test\"\"\"\n",
    "    monkey.div = int(content[id].split()[-1])\n",
    "    monkey.next = [int(content[id].split()[-1]) for id in range(id+1, id+3)]\n",
    "    monkeys.append(monkey)\n",
    "    id += 4     #Skip last line, which is the white space and the prev 3 lines too\n",
    "\n",
    "monkeys = [monkey for monkey in monkeys]\n",
    "\n",
    "\"\"\"Actual calculation\"\"\"\n",
    "for _ in range(20):\n",
    "    for id in range(len(monkeys)):\n",
    "        while len(monkeys[id].items) > 0:\n",
    "            new_it = monkeys[id].calc()\n",
    "            next_id = monkeys[id].next[0] if new_it % monkeys[id].div == 0 else monkeys[id].next[1]\n",
    "            monkeys[next_id].items.append(new_it)\n",
    "\n",
    "monkeys.sort(key=lambda x: x.count, reverse=True)\n",
    "print(monkeys[0].count * monkeys[1].count)"
   ]
  },
  {
   "attachments": {},
   "cell_type": "markdown",
   "metadata": {},
   "source": [
    "Part B (Will be done later)"
   ]
  }
 ],
 "metadata": {
  "kernelspec": {
   "display_name": "Python 3",
   "language": "python",
   "name": "python3"
  },
  "language_info": {
   "codemirror_mode": {
    "name": "ipython",
    "version": 3
   },
   "file_extension": ".py",
   "mimetype": "text/x-python",
   "name": "python",
   "nbconvert_exporter": "python",
   "pygments_lexer": "ipython3",
   "version": "3.8.10"
  },
  "orig_nbformat": 4,
  "vscode": {
   "interpreter": {
    "hash": "916dbcbb3f70747c44a77c7bcd40155683ae19c65e1c03b4aa3499c5328201f1"
   }
  }
 },
 "nbformat": 4,
 "nbformat_minor": 2
}
