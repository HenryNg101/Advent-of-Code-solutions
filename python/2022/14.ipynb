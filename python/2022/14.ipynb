{
 "cells": [
  {
   "attachments": {},
   "cell_type": "markdown",
   "metadata": {},
   "source": [
    "# Day 14\n",
    "\n",
    "Part A"
   ]
  },
  {
   "cell_type": "code",
   "execution_count": 1,
   "metadata": {},
   "outputs": [
    {
     "name": "stdout",
     "output_type": "stream",
     "text": [
      "610\n"
     ]
    }
   ],
   "source": [
    "import os\n",
    "os.chdir('..')\n",
    "from inputGetter import get_input\n",
    "\n",
    "def print_grids(grids):\n",
    "    for line in grids:\n",
    "        for char in line:\n",
    "            print(char, end='')\n",
    "        print()\n",
    "\n",
    "def traverse(mp: set, max_r: int):\n",
    "    global grids\n",
    "\n",
    "    curr_r, curr_c = 0, 500\n",
    "    #Move this one down first\n",
    "    while curr_r < max_r:\n",
    "        if (curr_r + 1, curr_c) not in mp:\n",
    "            curr_r += 1\n",
    "        elif (curr_r + 1, curr_c - 1) not in mp:\n",
    "            curr_r, curr_c = curr_r + 1, curr_c - 1\n",
    "        elif (curr_r + 1, curr_c + 1) not in mp:\n",
    "            curr_r, curr_c = curr_r + 1, curr_c + 1\n",
    "        else:\n",
    "            break\n",
    "    if curr_r >= max_r:\n",
    "        return 0\n",
    "    mp.add((curr_r, curr_c))\n",
    "    grids[curr_r][curr_c] = 'o'\n",
    "\n",
    "    count = 1\n",
    "    while True:\n",
    "        next_r, next_c = curr_r - 1, curr_c\n",
    "        while next_r < max_r:\n",
    "            if (next_r + 1, next_c) not in mp:\n",
    "                next_r += 1\n",
    "            elif (next_r + 1, next_c - 1) not in mp:\n",
    "                next_r, next_c = next_r + 1, next_c - 1\n",
    "            elif (next_r + 1, next_c + 1) not in mp:\n",
    "                next_r, next_c = next_r + 1, next_c + 1\n",
    "            else:\n",
    "                break\n",
    "\n",
    "        if next_r >= max_r:\n",
    "            return count\n",
    "\n",
    "        count += 1\n",
    "        mp.add((next_r, next_c))\n",
    "        grids[next_r][next_c] = 'o'\n",
    "        curr_r = min(curr_r, next_r)\n",
    "\n",
    "content = get_input(2022, 14).split('\\n')\n",
    "content.pop()\n",
    "\n",
    "mp = set()\n",
    "max_r = 0\n",
    "\n",
    "for line in content:\n",
    "    line = [[int(k) for k in pair.split(',')] for pair in line.split(' -> ')]\n",
    "    col, row = line[0]\n",
    "    for i in range(1, len(line)):\n",
    "        while col != line[i][0] or row != line[i][1]:\n",
    "            mp.add((row, col))\n",
    "            if col == line[i][0]:\n",
    "                if row < line[i][1]:\n",
    "                    row += 1\n",
    "                else:\n",
    "                    row -= 1\n",
    "            else:\n",
    "                if col < line[i][0]:\n",
    "                    col += 1\n",
    "                else:\n",
    "                    col -= 1\n",
    "        mp.add((row, col))\n",
    "        max_r = max(max_r, row)\n",
    "\n",
    "grids = [['.' for _ in range(540)] for _ in range(200)]\n",
    "for i in mp:\n",
    "    grids[i[0]][i[1]] = '#'\n",
    "print(traverse(mp, max_r))"
   ]
  },
  {
   "attachments": {},
   "cell_type": "markdown",
   "metadata": {},
   "source": [
    "Part B"
   ]
  },
  {
   "cell_type": "code",
   "execution_count": 2,
   "metadata": {},
   "outputs": [
    {
     "name": "stdout",
     "output_type": "stream",
     "text": [
      "27194\n"
     ]
    }
   ],
   "source": [
    "def traverse(mp: set, max_r: int):\n",
    "    curr_r, curr_c = 0, 500\n",
    "    count = 0\n",
    "\n",
    "    #Move this one down first\n",
    "    while curr_r < max_r - 1:\n",
    "        if (curr_r + 1, curr_c) not in mp:\n",
    "            curr_r += 1\n",
    "        elif (curr_r + 1, curr_c - 1) not in mp:\n",
    "            curr_r, curr_c = curr_r + 1, curr_c - 1\n",
    "        elif (curr_r + 1, curr_c + 1) not in mp:\n",
    "            curr_r, curr_c = curr_r + 1, curr_c + 1\n",
    "        else:\n",
    "            break\n",
    "    count += 1\n",
    "    mp.add((curr_r, curr_c))\n",
    "    if (curr_r, curr_c) == (0, 500):\n",
    "            return count\n",
    "\n",
    "    while True:\n",
    "        next_r, next_c = curr_r - 1, curr_c\n",
    "        while next_r < max_r - 1:\n",
    "            if (next_r + 1, next_c) not in mp:\n",
    "                next_r += 1\n",
    "            elif (next_r + 1, next_c - 1) not in mp:\n",
    "                next_r, next_c = next_r + 1, next_c - 1\n",
    "            elif (next_r + 1, next_c + 1) not in mp:\n",
    "                next_r, next_c = next_r + 1, next_c + 1\n",
    "            else:\n",
    "                break\n",
    "\n",
    "        count += 1\n",
    "        mp.add((next_r, next_c))\n",
    "        curr_r = min(curr_r, next_r)\n",
    "\n",
    "        if (next_r, next_c) == (0, 500):\n",
    "            return count\n",
    "\n",
    "mp = set()\n",
    "max_r = 0\n",
    "\n",
    "for line in content:\n",
    "    line = [[int(k) for k in pair.split(',')] for pair in line.split(' -> ')]\n",
    "    col, row = line[0]\n",
    "    for i in range(1, len(line)):\n",
    "        while col != line[i][0] or row != line[i][1]:\n",
    "            mp.add((row, col))\n",
    "            if col == line[i][0]:\n",
    "                if row < line[i][1]:\n",
    "                    row += 1\n",
    "                else:\n",
    "                    row -= 1\n",
    "            else:\n",
    "                if col < line[i][0]:\n",
    "                    col += 1\n",
    "                else:\n",
    "                    col -= 1\n",
    "        mp.add((row, col))\n",
    "        max_r = max(max_r, row)\n",
    "\n",
    "max_r += 2      #The actual ground\n",
    "print(traverse(mp, max_r))"
   ]
  }
 ],
 "metadata": {
  "kernelspec": {
   "display_name": "Python 3",
   "language": "python",
   "name": "python3"
  },
  "language_info": {
   "codemirror_mode": {
    "name": "ipython",
    "version": 3
   },
   "file_extension": ".py",
   "mimetype": "text/x-python",
   "name": "python",
   "nbconvert_exporter": "python",
   "pygments_lexer": "ipython3",
   "version": "3.8.10"
  },
  "orig_nbformat": 4,
  "vscode": {
   "interpreter": {
    "hash": "916dbcbb3f70747c44a77c7bcd40155683ae19c65e1c03b4aa3499c5328201f1"
   }
  }
 },
 "nbformat": 4,
 "nbformat_minor": 2
}
