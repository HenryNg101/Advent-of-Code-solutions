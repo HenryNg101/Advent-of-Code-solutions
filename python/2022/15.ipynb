{
 "cells": [
  {
   "attachments": {},
   "cell_type": "markdown",
   "metadata": {},
   "source": [
    "# Day 15\n",
    "\n",
    "Part A"
   ]
  },
  {
   "cell_type": "code",
   "execution_count": 1,
   "metadata": {},
   "outputs": [
    {
     "name": "stdout",
     "output_type": "stream",
     "text": [
      "5688618\n"
     ]
    }
   ],
   "source": [
    "import os\n",
    "os.chdir('..')\n",
    "from inputGetter import get_input\n",
    "\n",
    "content = get_input(2022, 15).split('\\n')\n",
    "content.pop()\n",
    "total = 0\n",
    "min_x = 99999999999999999999\n",
    "max_x = -99999999999999999999\n",
    "target_y = 2000000\n",
    "excluded_xs = set()\n",
    "\n",
    "for line in content:\n",
    "    line = line.split()\n",
    "    locs = [loc[2:] for loc in line if any(map(str.isdigit, loc))]   #Only take integer coordinates\n",
    "    \n",
    "    for i in range(len(locs)):\n",
    "        if not locs[i][-1].isdigit():\n",
    "            locs[i] = locs[i][:-1]\n",
    "    \n",
    "    locs = [int(loc) for loc in locs]\n",
    "\n",
    "    dis = abs(locs[0] - locs[2]) + abs(locs[1] - locs[3])\n",
    "\n",
    "    abs_val = dis - abs(locs[1] - target_y)\n",
    "    if abs_val >= 0:\n",
    "        max_val, min_val = locs[0] + abs_val, locs[0] - abs_val\n",
    "        min_x = min(min_x, min_val)\n",
    "        max_x = max(max_x, max_val)\n",
    "\n",
    "    if locs[1] == target_y:\n",
    "        excluded_xs.add(locs[0])\n",
    "    if locs[3] == target_y:\n",
    "        excluded_xs.add(locs[2])\n",
    "\n",
    "total += abs(min_x - max_x) + 1\n",
    "for val in excluded_xs:\n",
    "    if min_x <= val <= max_x:\n",
    "        total -= 1\n",
    "print(total)"
   ]
  },
  {
   "attachments": {},
   "cell_type": "markdown",
   "metadata": {},
   "source": [
    "Part B"
   ]
  },
  {
   "cell_type": "code",
   "execution_count": 2,
   "metadata": {},
   "outputs": [
    {
     "name": "stdout",
     "output_type": "stream",
     "text": [
      "12625383204261\n"
     ]
    }
   ],
   "source": [
    "coordinates = []\n",
    "for line in content:\n",
    "    line = line.split()\n",
    "    locs = [loc[2:] for loc in line if any(map(str.isdigit, loc))]   #Only take integer coordinates\n",
    "    \n",
    "    for i in range(len(locs)):\n",
    "        if not locs[i][-1].isdigit():\n",
    "            locs[i] = locs[i][:-1]\n",
    "    \n",
    "    coordinates.append([int(loc) for loc in locs]) \n",
    "\n",
    "for target_y in range(0, 4000001):\n",
    "    intervals = []\n",
    "    for locs in coordinates:\n",
    "        dis = abs(locs[0] - locs[2]) + abs(locs[1] - locs[3])\n",
    "        abs_val = dis - abs(locs[1] - target_y)\n",
    "\n",
    "        if abs_val >= 0:\n",
    "            max_x, min_x = locs[0] + abs_val, locs[0] - abs_val\n",
    "            min_x = max(min_x, 0)\n",
    "            max_x = min(max_x, 4000000)\n",
    "            intervals.append((min_x, max_x))\n",
    "    intervals.sort(key=lambda x: x[0])\n",
    "    min_x, max_x = intervals[0]\n",
    "    \n",
    "    max_point = intervals[0][1]\n",
    "    found = False\n",
    "    for i in range(1, len(intervals)):\n",
    "        if intervals[i][0] - max_point == 2:\n",
    "            print(f'{(intervals[i][0] - 1) * 4000000 + target_y}')\n",
    "            found = True\n",
    "            break\n",
    "        max_point = max(intervals[i][1], max_point)\n",
    "    if found:\n",
    "        break"
   ]
  }
 ],
 "metadata": {
  "kernelspec": {
   "display_name": "Python 3",
   "language": "python",
   "name": "python3"
  },
  "language_info": {
   "codemirror_mode": {
    "name": "ipython",
    "version": 3
   },
   "file_extension": ".py",
   "mimetype": "text/x-python",
   "name": "python",
   "nbconvert_exporter": "python",
   "pygments_lexer": "ipython3",
   "version": "3.8.10"
  },
  "orig_nbformat": 4,
  "vscode": {
   "interpreter": {
    "hash": "916dbcbb3f70747c44a77c7bcd40155683ae19c65e1c03b4aa3499c5328201f1"
   }
  }
 },
 "nbformat": 4,
 "nbformat_minor": 2
}
