{
 "cells": [
  {
   "attachments": {},
   "cell_type": "markdown",
   "metadata": {},
   "source": [
    "# Part A"
   ]
  },
  {
   "cell_type": "code",
   "execution_count": 3,
   "metadata": {},
   "outputs": [
    {
     "name": "stdout",
     "output_type": "stream",
     "text": [
      "8240\n"
     ]
    }
   ],
   "source": [
    "import os\n",
    "os.chdir('..')\n",
    "from inputGetter import get_input\n",
    "\n",
    "def eval_char(ch):\n",
    "    return ord(ch) - ord('A') + 27 if ch.isupper() else ord(ch) - ord('a') + 1\n",
    "\n",
    "content = get_input(2022, 3).split('\\n')\n",
    "content.pop()\n",
    "#Part A\n",
    "res_A = 0\n",
    "for line in content:\n",
    "    mid = len(line)//2\n",
    "    for ch in set(line[:mid]) & set(line[mid:]):\n",
    "        res_A += eval_char(ch)\n",
    "\n",
    "#Part B\n",
    "res_B = 0\n",
    "for i in range(0, len(content), 3):\n",
    "    for ch in set(content[i]) & set(content[i+1]) & set(content[i+2]):\n",
    "        res_B += eval_char(ch)\n",
    "\n",
    "print(res_A)\n"
   ]
  },
  {
   "attachments": {},
   "cell_type": "markdown",
   "metadata": {},
   "source": [
    "# Part B"
   ]
  },
  {
   "cell_type": "code",
   "execution_count": 4,
   "metadata": {},
   "outputs": [
    {
     "name": "stdout",
     "output_type": "stream",
     "text": [
      "2587\n"
     ]
    }
   ],
   "source": [
    "print(res_B)"
   ]
  }
 ],
 "metadata": {
  "kernelspec": {
   "display_name": "Python 3",
   "language": "python",
   "name": "python3"
  },
  "language_info": {
   "codemirror_mode": {
    "name": "ipython",
    "version": 3
   },
   "file_extension": ".py",
   "mimetype": "text/x-python",
   "name": "python",
   "nbconvert_exporter": "python",
   "pygments_lexer": "ipython3",
   "version": "3.8.10"
  },
  "orig_nbformat": 4,
  "vscode": {
   "interpreter": {
    "hash": "916dbcbb3f70747c44a77c7bcd40155683ae19c65e1c03b4aa3499c5328201f1"
   }
  }
 },
 "nbformat": 4,
 "nbformat_minor": 2
}
