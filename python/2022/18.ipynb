{
 "cells": [
  {
   "attachments": {},
   "cell_type": "markdown",
   "metadata": {},
   "source": [
    "# Day 18\n",
    "\n",
    "Part A"
   ]
  },
  {
   "cell_type": "code",
   "execution_count": 2,
   "metadata": {},
   "outputs": [
    {
     "name": "stdout",
     "output_type": "stream",
     "text": [
      "4444\n"
     ]
    }
   ],
   "source": [
    "import os\n",
    "os.chdir('..')\n",
    "from inputGetter import get_input\n",
    "\n",
    "content = get_input(2022, 18).split('\\n')[:-1]     #Exclude the newline\n",
    "cubes = []\n",
    "counter = 0\n",
    "\n",
    "for line in content:\n",
    "    line = tuple([int(n) for n in line.split(',')])\n",
    "    cubes.append(line)\n",
    "    counter += 6\n",
    "\n",
    "for i in range(len(cubes)):\n",
    "    for j in range(i+1, len(cubes)):\n",
    "        if cubes[i][0] == cubes[j][0] and cubes[i][1] == cubes[j][1]:\n",
    "            if abs(cubes[i][2] - cubes[j][2]) == 1:\n",
    "                counter -= 2 \n",
    "        elif cubes[i][0] == cubes[j][0] and cubes[i][2] == cubes[j][2]:\n",
    "            if abs(cubes[i][1] - cubes[j][1]) == 1:\n",
    "                counter -= 2 \n",
    "        elif cubes[i][1] == cubes[j][1] and cubes[i][2] == cubes[j][2]:\n",
    "            if abs(cubes[i][0] - cubes[j][0]) == 1:\n",
    "                counter -= 2 \n",
    "\n",
    "print(counter)\n"
   ]
  },
  {
   "attachments": {},
   "cell_type": "markdown",
   "metadata": {},
   "source": [
    "Part B (Will do later)"
   ]
  }
 ],
 "metadata": {
  "kernelspec": {
   "display_name": "Python 3",
   "language": "python",
   "name": "python3"
  },
  "language_info": {
   "codemirror_mode": {
    "name": "ipython",
    "version": 3
   },
   "file_extension": ".py",
   "mimetype": "text/x-python",
   "name": "python",
   "nbconvert_exporter": "python",
   "pygments_lexer": "ipython3",
   "version": "3.8.10"
  },
  "orig_nbformat": 4,
  "vscode": {
   "interpreter": {
    "hash": "916dbcbb3f70747c44a77c7bcd40155683ae19c65e1c03b4aa3499c5328201f1"
   }
  }
 },
 "nbformat": 4,
 "nbformat_minor": 2
}
