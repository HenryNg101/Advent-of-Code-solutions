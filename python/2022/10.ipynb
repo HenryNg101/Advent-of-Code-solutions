{
 "cells": [
  {
   "attachments": {},
   "cell_type": "markdown",
   "metadata": {},
   "source": [
    "# Part A"
   ]
  },
  {
   "cell_type": "code",
   "execution_count": 4,
   "metadata": {},
   "outputs": [
    {
     "name": "stdout",
     "output_type": "stream",
     "text": [
      "15220\n"
     ]
    }
   ],
   "source": [
    "import os\n",
    "os.chdir('..')\n",
    "from inputGetter import get_input\n",
    "\n",
    "content = get_input(2022, 10).split('\\n')\n",
    "content.pop()\n",
    "\n",
    "#General register, start off from position 0 in part B, but value 1 in part A\n",
    "register = 0\n",
    "\n",
    "#Part A variables\n",
    "res = 0\n",
    "special = [20, 60, 100, 140, 180, 220]\n",
    "current_cycle = 1\n",
    "\n",
    "#Part B variables\n",
    "row, col = 0, 0\n",
    "crt = [['.'] * 40 for _ in range(6)]\n",
    "\n",
    "for line in content:\n",
    "    line = line.split()\n",
    "\n",
    "    '''\n",
    "    Because addx instructions has 2 words and need 2 cycles, and noop has one word and need one cycle only\n",
    "    => Only need to use the size of line to make loop\n",
    "    '''\n",
    "    for _ in range(len(line)):\n",
    "        #Handle part A\n",
    "        if current_cycle in special:\n",
    "            res += current_cycle * (register + 1)\n",
    "        current_cycle += 1\n",
    "\n",
    "        #Handle part B\n",
    "        if col in range(register, register + 3):\n",
    "            crt[row][col] = '#'\n",
    "        col += 1\n",
    "        if col >= len(crt[0]):\n",
    "            row, col = row + 1, 0\n",
    "    \n",
    "    if len(line) == 2:\n",
    "        register += int(line[1])\n",
    "\n",
    "print(res)"
   ]
  },
  {
   "attachments": {},
   "cell_type": "markdown",
   "metadata": {},
   "source": [
    "Part B"
   ]
  },
  {
   "cell_type": "code",
   "execution_count": 5,
   "metadata": {},
   "outputs": [
    {
     "name": "stdout",
     "output_type": "stream",
     "text": [
      "###..####.####.####.#..#.###..####..##..\n",
      "#..#.#.......#.#....#.#..#..#.#....#..#.\n",
      "#..#.###....#..###..##...###..###..#..#.\n",
      "###..#.....#...#....#.#..#..#.#....####.\n",
      "#.#..#....#....#....#.#..#..#.#....#..#.\n",
      "#..#.#....####.####.#..#.###..#....#..#.\n"
     ]
    }
   ],
   "source": [
    "for line in crt:\n",
    "    for char in line:\n",
    "        print(char, end='')\n",
    "    print()"
   ]
  }
 ],
 "metadata": {
  "kernelspec": {
   "display_name": "Python 3",
   "language": "python",
   "name": "python3"
  },
  "language_info": {
   "codemirror_mode": {
    "name": "ipython",
    "version": 3
   },
   "file_extension": ".py",
   "mimetype": "text/x-python",
   "name": "python",
   "nbconvert_exporter": "python",
   "pygments_lexer": "ipython3",
   "version": "3.8.10"
  },
  "orig_nbformat": 4,
  "vscode": {
   "interpreter": {
    "hash": "916dbcbb3f70747c44a77c7bcd40155683ae19c65e1c03b4aa3499c5328201f1"
   }
  }
 },
 "nbformat": 4,
 "nbformat_minor": 2
}
