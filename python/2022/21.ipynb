{
 "cells": [
  {
   "attachments": {},
   "cell_type": "markdown",
   "metadata": {},
   "source": [
    "# Day 21\n",
    "\n",
    "Part A"
   ]
  },
  {
   "cell_type": "code",
   "execution_count": 2,
   "metadata": {},
   "outputs": [
    {
     "name": "stdout",
     "output_type": "stream",
     "text": [
      "81075092088442\n"
     ]
    }
   ],
   "source": [
    "import os\n",
    "os.chdir('..')\n",
    "from inputGetter import get_input\n",
    "\n",
    "#Binary tree\n",
    "class Monkey:\n",
    "    def __init__(self, \n",
    "                    left: str = None, \n",
    "                    right: str = None, \n",
    "                    val: int = None, \n",
    "                    op: str = None) -> None:\n",
    "        self.left = left\n",
    "        self.right = right\n",
    "        self.val = val\n",
    "        self.op = op\n",
    "\n",
    "def traverse(name: str):\n",
    "    global mp\n",
    "    curr_monkey = mp[name]\n",
    "    if curr_monkey.val != None:\n",
    "        return curr_monkey.val\n",
    "    else:\n",
    "        left, right, op = curr_monkey.left, curr_monkey.right, curr_monkey.op\n",
    "        if op == '+':\n",
    "            return traverse(left) + traverse(right)\n",
    "        elif curr_monkey.op == '-':\n",
    "            return traverse(left) - traverse(right)\n",
    "        elif curr_monkey.op == '*':\n",
    "            return traverse(left) * traverse(right)\n",
    "        else:\n",
    "            return traverse(left) // traverse(right)\n",
    "\n",
    "content = get_input(2022, 21).split('\\n')[:-1]     #Exclude the newline\n",
    "\n",
    "mp = dict()\n",
    "for line in content:\n",
    "    name, op = line.split(': ')\n",
    "    op = op.split()\n",
    "    monkey = Monkey()\n",
    "    if len(op) == 1:\n",
    "        monkey.val = int(op[0])\n",
    "    else:\n",
    "        monkey.left, monkey.op, monkey.right = op\n",
    "    mp[name] = monkey\n",
    "\n",
    "print(traverse(\"root\"))"
   ]
  },
  {
   "attachments": {},
   "cell_type": "markdown",
   "metadata": {},
   "source": [
    "Part B"
   ]
  },
  {
   "cell_type": "code",
   "execution_count": 3,
   "metadata": {},
   "outputs": [
    {
     "name": "stdout",
     "output_type": "stream",
     "text": [
      "3349136384441\n"
     ]
    }
   ],
   "source": [
    "class Monkey:\n",
    "    def __init__(self, \n",
    "                    left: str = None, \n",
    "                    right: str = None, \n",
    "                    val: int = None, \n",
    "                    op: str = None,\n",
    "                    prev: str = None) -> None:\n",
    "        self.left = left\n",
    "        self.right = right\n",
    "        self.val = val\n",
    "        self.op = op\n",
    "        self.prev = prev\n",
    "\n",
    "def traverse(name: str):\n",
    "    global mp, dependencies\n",
    "    curr = mp[name]\n",
    "    val = curr.val\n",
    "    if val == None:\n",
    "        left, right, op = curr.left, curr.right, curr.op\n",
    "        if op == '+':\n",
    "            val = traverse(left) + traverse(right)\n",
    "        elif curr.op == '-':\n",
    "            val = traverse(left) - traverse(right)\n",
    "        elif curr.op == '*':\n",
    "            val = traverse(left) * traverse(right)\n",
    "        else:\n",
    "            val = traverse(left) // traverse(right)\n",
    "    if name not in dependencies:\n",
    "        curr.val = val\n",
    "    return val\n",
    "\n",
    "def backtrack(name: str):\n",
    "    global mp, dependencies\n",
    "    curr = mp[name]\n",
    "    if curr.val != None:\n",
    "        return name == 'humn'\n",
    "    for node in [curr.left, curr.right]:\n",
    "        dependencies.append(node)\n",
    "        if backtrack(node):\n",
    "            return True\n",
    "        dependencies.pop()\n",
    "\n",
    "mp = dict()\n",
    "for line in content:\n",
    "    name, op = line.split(': ')\n",
    "    op = op.split()\n",
    "    monkey = Monkey()\n",
    "    if len(op) == 1:\n",
    "        monkey.val = int(op[0])\n",
    "    else:\n",
    "        monkey.left, monkey.op, monkey.right = op\n",
    "    mp[name] = monkey\n",
    "\n",
    "dependencies = []   #List from start to end, which is \"humn\"\n",
    "backtrack(\"root\")\n",
    "#print(dependencies)\n",
    "traverse(\"root\")\n",
    "\n",
    "root_node = mp['root']\n",
    "expected_val = mp[root_node.right].val if root_node.left == dependencies[0] else mp[root_node.left].val\n",
    "\n",
    "for node in dependencies[:-1]:\n",
    "    node = mp[node]\n",
    "    left = mp[node.left]\n",
    "    right = mp[node.right]\n",
    "    if right.val == None:\n",
    "        if node.op == '+':\n",
    "            expected_val -= left.val\n",
    "        elif node.op == '-':\n",
    "            expected_val = left.val - expected_val\n",
    "        elif node.op == '*':\n",
    "            expected_val //= left.val\n",
    "        else:\n",
    "            expected_val = left.val // expected_val\n",
    "    else:\n",
    "        if node.op == '+':\n",
    "            expected_val -= right.val\n",
    "        elif node.op == '-':\n",
    "            expected_val += right.val\n",
    "        elif node.op == '*':\n",
    "            expected_val //= right.val\n",
    "        else:\n",
    "            expected_val *= right.val\n",
    "print(expected_val)"
   ]
  }
 ],
 "metadata": {
  "kernelspec": {
   "display_name": "Python 3",
   "language": "python",
   "name": "python3"
  },
  "language_info": {
   "codemirror_mode": {
    "name": "ipython",
    "version": 3
   },
   "file_extension": ".py",
   "mimetype": "text/x-python",
   "name": "python",
   "nbconvert_exporter": "python",
   "pygments_lexer": "ipython3",
   "version": "3.8.10"
  },
  "orig_nbformat": 4,
  "vscode": {
   "interpreter": {
    "hash": "916dbcbb3f70747c44a77c7bcd40155683ae19c65e1c03b4aa3499c5328201f1"
   }
  }
 },
 "nbformat": 4,
 "nbformat_minor": 2
}
