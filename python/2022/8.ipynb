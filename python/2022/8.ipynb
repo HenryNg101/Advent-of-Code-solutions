{
 "cells": [
  {
   "attachments": {},
   "cell_type": "markdown",
   "metadata": {},
   "source": [
    "# Day 8\n",
    "\n",
    "Part A"
   ]
  },
  {
   "cell_type": "code",
   "execution_count": 1,
   "metadata": {},
   "outputs": [
    {
     "name": "stdout",
     "output_type": "stream",
     "text": [
      "1807\n"
     ]
    }
   ],
   "source": [
    "import os\n",
    "os.chdir('..')\n",
    "from inputGetter import get_input\n",
    "\n",
    "content = get_input(2022, 8).split('\\n')\n",
    "content.pop()\n",
    "content = [[int(ch) for ch in line] for line in content]\n",
    "\n",
    "# Fill some values\n",
    "check_ls = [[False for _ in line] for line in content]\n",
    "for i in range(len(check_ls)):\n",
    "    check_ls[i][0], check_ls[i][-1] = True, True\n",
    "\n",
    "for i in range(len(check_ls[0])):\n",
    "    check_ls[0][i], check_ls[-1][i] = True, True\n",
    "\n",
    "# Check left\n",
    "for r in range(1, len(content)-1):\n",
    "    min_left = content[r][0]\n",
    "    for c in range(1, len(content[0])-1):\n",
    "        if content[r][c] > min_left:\n",
    "            min_left = content[r][c]\n",
    "            check_ls[r][c] = True\n",
    "\n",
    "# Check right\n",
    "for r in range(1, len(content)-1):\n",
    "    min_right = content[r][-1]\n",
    "    for c in range(len(content[0])-1, 0, -1):\n",
    "        if content[r][c] > min_right:\n",
    "            min_right = content[r][c]\n",
    "            check_ls[r][c] = True\n",
    "\n",
    "# Check up\n",
    "for c in range(1, len(content[0])-1):\n",
    "    min_up = content[0][c]\n",
    "    for r in range(1, len(content)-1):\n",
    "        if content[r][c] > min_up:\n",
    "            min_up = content[r][c]\n",
    "            check_ls[r][c] = True\n",
    "\n",
    "# Check down\n",
    "for c in range(1, len(content[0])-1):\n",
    "    min_down = content[-1][c]\n",
    "    for r in range(len(content)-1, 0, -1):\n",
    "        if content[r][c] > min_down:\n",
    "            min_down = content[r][c]\n",
    "            check_ls[r][c] = True\n",
    "\n",
    "counter = 0\n",
    "for r in check_ls:\n",
    "    for val in r:\n",
    "        if val:\n",
    "            counter += 1\n",
    "print(counter)"
   ]
  },
  {
   "attachments": {},
   "cell_type": "markdown",
   "metadata": {},
   "source": [
    "Part B"
   ]
  },
  {
   "cell_type": "code",
   "execution_count": 2,
   "metadata": {},
   "outputs": [
    {
     "name": "stdout",
     "output_type": "stream",
     "text": [
      "480000\n"
     ]
    }
   ],
   "source": [
    "res = 0\n",
    "\n",
    "for r in range(len(content)):\n",
    "    for c in range(len(content[0])):\n",
    "        left = 0\n",
    "        for x in range(c-1, -1, -1):\n",
    "            left += 1\n",
    "            if content[r][x] >= content[r][c]: break\n",
    "        \n",
    "        right = 0\n",
    "        for x in range(c+1, len(content[0])):\n",
    "            right += 1\n",
    "            if content[r][x] >= content[r][c]: break\n",
    "        \n",
    "        up = 0\n",
    "        for x in range(r-1, -1, -1):\n",
    "            up += 1\n",
    "            if content[x][c] >= content[r][c]: break\n",
    "\n",
    "        down = 0\n",
    "        for x in range(r+1, len(content)):\n",
    "            down += 1\n",
    "            if content[x][c] >= content[r][c]: break\n",
    "        res = max(res, up * down * left * right)\n",
    "\n",
    "print(res)"
   ]
  }
 ],
 "metadata": {
  "kernelspec": {
   "display_name": "Python 3",
   "language": "python",
   "name": "python3"
  },
  "language_info": {
   "codemirror_mode": {
    "name": "ipython",
    "version": 3
   },
   "file_extension": ".py",
   "mimetype": "text/x-python",
   "name": "python",
   "nbconvert_exporter": "python",
   "pygments_lexer": "ipython3",
   "version": "3.8.10"
  },
  "orig_nbformat": 4,
  "vscode": {
   "interpreter": {
    "hash": "916dbcbb3f70747c44a77c7bcd40155683ae19c65e1c03b4aa3499c5328201f1"
   }
  }
 },
 "nbformat": 4,
 "nbformat_minor": 2
}
