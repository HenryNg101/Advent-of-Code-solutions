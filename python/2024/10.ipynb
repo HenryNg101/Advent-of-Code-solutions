{
 "cells": [
  {
   "cell_type": "code",
   "execution_count": 1,
   "metadata": {},
   "outputs": [],
   "source": [
    "import os\n",
    "os.chdir('..')\n",
    "from inputGetter import get_input\n",
    "from collections import deque\n",
    "\n",
    "content = get_input(2024, 10)[:-1]"
   ]
  },
  {
   "cell_type": "code",
   "execution_count": null,
   "metadata": {},
   "outputs": [
    {
     "name": "stdout",
     "output_type": "stream",
     "text": [
      "Part A: 501\n",
      "Part B: 1017\n"
     ]
    }
   ],
   "source": [
    "content = [[int(val) for val in list(line)] for line in content.split('\\n')]\n",
    "sz_r, sz_c = len(content), len(content[0])\n",
    "directions = [(-1, 0), (0, 1), (1, 0), (0, -1)]\n",
    "dp = [[0 for _ in range(sz_c)] for _ in range(sz_r)]\n",
    "res_a, res_b = 0, 0\n",
    "\n",
    "for r in range(sz_r):\n",
    "    for c in range(sz_c):\n",
    "        if content[r][c] == 0:\n",
    "            dp[r][c] = 1    # Base case, as there's only one path from starting point to itself\n",
    "            \n",
    "            # BFS\n",
    "            queue = deque([(r, c)])\n",
    "            visited = set()     # This makes sure that every node will be in the queue only once -> won't mess up the DP calculations\n",
    "            while len(queue) > 0:\n",
    "                curr_r, curr_c = queue.popleft()\n",
    "                if content[curr_r][curr_c] == 9:\n",
    "                    res_a += 1\n",
    "                    res_b += dp[curr_r][curr_c]\n",
    "                \n",
    "                for dir_r, dir_c in directions:\n",
    "                    new_r, new_c = curr_r + dir_r, curr_c + dir_c\n",
    "                    if 0 <= new_r < sz_r and 0 <= new_c < sz_c and content[new_r][new_c] == content[curr_r][curr_c] + 1:\n",
    "                        dp[new_r][new_c] += dp[curr_r][curr_c]  # The recurrence relation for DP, adding all previous nodes to all of the future nodes\n",
    "                        if (new_r, new_c) not in visited:\n",
    "                            queue.append((new_r, new_c))\n",
    "                            visited.add((new_r, new_c))\n",
    "                \n",
    "                dp[curr_r][curr_c] = 0  # Reset for future use, because it's not needed anymore\n",
    "\n",
    "print(f'Part A: {res_a}')\n",
    "print(f'Part B: {res_b}')"
   ]
  }
 ],
 "metadata": {
  "kernelspec": {
   "display_name": "base",
   "language": "python",
   "name": "python3"
  },
  "language_info": {
   "codemirror_mode": {
    "name": "ipython",
    "version": 3
   },
   "file_extension": ".py",
   "mimetype": "text/x-python",
   "name": "python",
   "nbconvert_exporter": "python",
   "pygments_lexer": "ipython3",
   "version": "3.11.7"
  }
 },
 "nbformat": 4,
 "nbformat_minor": 2
}
