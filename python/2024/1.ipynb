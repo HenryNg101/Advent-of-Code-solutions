{
 "cells": [
  {
   "cell_type": "code",
   "execution_count": 5,
   "metadata": {},
   "outputs": [],
   "source": [
    "import os\n",
    "os.chdir('..')\n",
    "from inputGetter import get_input\n",
    "from collections import Counter\n",
    "\n",
    "content = get_input(2024, 1)[:-1]"
   ]
  },
  {
   "cell_type": "code",
   "execution_count": 6,
   "metadata": {},
   "outputs": [
    {
     "name": "stdout",
     "output_type": "stream",
     "text": [
      "Part A: 2769675\n",
      "Part B: 24643097\n"
     ]
    }
   ],
   "source": [
    "content = [line.split() for line in content.split('\\n')]\n",
    "lefts = sorted([int(line[0]) for line in content])\n",
    "rights = sorted([int(line[1]) for line in content])\n",
    "occurences = Counter(rights)\n",
    "\n",
    "print(f'Part A: {sum(abs(l - r) for l, r in zip(lefts, rights))}')\n",
    "print(f'Part B: {sum(left * occurences[left] for left in lefts)}')"
   ]
  }
 ],
 "metadata": {
  "kernelspec": {
   "display_name": "base",
   "language": "python",
   "name": "python3"
  },
  "language_info": {
   "codemirror_mode": {
    "name": "ipython",
    "version": 3
   },
   "file_extension": ".py",
   "mimetype": "text/x-python",
   "name": "python",
   "nbconvert_exporter": "python",
   "pygments_lexer": "ipython3",
   "version": "3.11.7"
  }
 },
 "nbformat": 4,
 "nbformat_minor": 2
}
