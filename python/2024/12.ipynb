{
 "cells": [
  {
   "cell_type": "code",
   "execution_count": 65,
   "metadata": {},
   "outputs": [],
   "source": [
    "import os\n",
    "os.chdir('..')\n",
    "from inputGetter import get_input\n",
    "from collections import defaultdict\n",
    "\n",
    "content = get_input(2024, 12)[:-1]"
   ]
  },
  {
   "cell_type": "code",
   "execution_count": 66,
   "metadata": {},
   "outputs": [],
   "source": [
    "content = [list(line) for line in content.split('\\n')]\n",
    "\n",
    "sz_r, sz_c = len(content), len(content[0])\n",
    "directions = [(-1, 0), (0, 1), (1, 0), (0, -1)]\n",
    "\n",
    "def dfs(cells_by_rows, r, c):\n",
    "    area, perimeter = 1, 4\n",
    "    cells_by_rows[r].append(c)\n",
    "    ch = content[r][c]\n",
    "    content[r][c] = '.'\n",
    "    \n",
    "    for add_r, add_c in directions:\n",
    "        new_r, new_c = r + add_r, c + add_c\n",
    "        if 0 <= new_r < sz_r and 0 <= new_c < sz_c and content[new_r][new_c] == ch:\n",
    "            perimeter -= 1\n",
    "            if content[new_r][new_c] != '.':\n",
    "                next_area, next_perimeter = dfs(cells_by_rows, new_r, new_c)\n",
    "                area += next_area\n",
    "                perimeter += next_perimeter\n",
    "    \n",
    "    return area, perimeter"
   ]
  },
  {
   "cell_type": "code",
   "execution_count": 67,
   "metadata": {},
   "outputs": [
    {
     "name": "stdout",
     "output_type": "stream",
     "text": [
      "Part A: 6400750\n",
      "Part B: 901100\n"
     ]
    }
   ],
   "source": [
    "res_a, res_b = 0, 0\n",
    "for r in range(sz_r):\n",
    "    for c in range(sz_c):\n",
    "        if content[r][c] != '.':\n",
    "            cells_by_rows = defaultdict(list)\n",
    "            area, perimeter = dfs(cells_by_rows, r, c)\n",
    "            \n",
    "            # This contains rectangles in each row. Created by grouping consecutive numbers into groups\n",
    "            # E.g.: [1, 2, 3, 4, 7, 8, 9] -> [(1, 4), (7, 9)]\n",
    "            rectangles_by_rows = defaultdict(list)\n",
    "            for row, cols in cells_by_rows.items():\n",
    "                cols.sort()\n",
    "                start = end = cols[0]\n",
    "                for col in cols[1:]:\n",
    "                    if col > end + 1:\n",
    "                        rectangles_by_rows[row].append((start, end))\n",
    "                        start = col\n",
    "                    end = col\n",
    "                        \n",
    "                rectangles_by_rows[row].append((start, end))\n",
    "        \n",
    "            sides = 0\n",
    "            for row, rectangles in list(rectangles_by_rows.items()):\n",
    "                for start_c, end_c in rectangles:\n",
    "                    sides += 4  # Normally each rectangle should has 4 sides, but will be fixed based on checks below\n",
    "                    \n",
    "                    # Checking top rectangles of the current rectangle, which will affect the top side\n",
    "                    for top_start, top_end in rectangles_by_rows[row-1]:\n",
    "                        if top_start > end_c:\n",
    "                            break\n",
    "                        \n",
    "                        # Remove left or right side of this rectangle, because it's just continue the existing left/right side from the top rectangle\n",
    "                        if top_start == start_c:\n",
    "                            sides -= 1\n",
    "                        if top_end == end_c:\n",
    "                            sides -= 1\n",
    "                        \n",
    "                        # Remove top side of this rectangle, as it's covered by the top rectangle entirely\n",
    "                        if top_start <= start_c and top_end >= end_c:\n",
    "                            sides -= 1\n",
    "                            break\n",
    "                        # Adding to the top, as the top rectangle stays in between, and split the top side into 2 sides\n",
    "                        if top_start > start_c and top_end < end_c:\n",
    "                            sides += 1\n",
    "                    \n",
    "                    # Checking bottom rectangles of the current rectangle, which will affect the bottom side\n",
    "                    for bottom_start, bottom_end in rectangles_by_rows[row+1]:\n",
    "                        if bottom_start > end_c:\n",
    "                            break\n",
    "                        \n",
    "                        # Remove bottom side of this rectangle, as it's covered by the bottom rectangle entirely\n",
    "                        if bottom_start <= start_c and bottom_end >= end_c:\n",
    "                            sides -= 1\n",
    "                            break\n",
    "                        # Adding to the bottom, as the bottom rectangle stays in between, and split the top side into 2 sides\n",
    "                        if bottom_start > start_c and bottom_end < end_c:\n",
    "                            sides += 1\n",
    "        \n",
    "            res_a += perimeter * area\n",
    "            res_b += sides * area\n",
    "\n",
    "print(f'Part A: {res_a}')\n",
    "print(f'Part B: {res_b}')"
   ]
  }
 ],
 "metadata": {
  "kernelspec": {
   "display_name": "base",
   "language": "python",
   "name": "python3"
  },
  "language_info": {
   "codemirror_mode": {
    "name": "ipython",
    "version": 3
   },
   "file_extension": ".py",
   "mimetype": "text/x-python",
   "name": "python",
   "nbconvert_exporter": "python",
   "pygments_lexer": "ipython3",
   "version": "3.11.7"
  }
 },
 "nbformat": 4,
 "nbformat_minor": 2
}
