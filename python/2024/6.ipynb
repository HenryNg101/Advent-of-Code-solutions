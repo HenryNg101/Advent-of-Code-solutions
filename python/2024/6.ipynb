{
 "cells": [
  {
   "cell_type": "code",
   "execution_count": 5,
   "metadata": {},
   "outputs": [],
   "source": [
    "import os\n",
    "os.chdir('..')\n",
    "from inputGetter import get_input\n",
    "from sortedcontainers import SortedList\n",
    "\n",
    "content = get_input(2024, 6)[:-1]"
   ]
  },
  {
   "cell_type": "markdown",
   "metadata": {},
   "source": [
    "Data preparation"
   ]
  },
  {
   "cell_type": "code",
   "execution_count": 6,
   "metadata": {},
   "outputs": [],
   "source": [
    "content = [list(line) for line in content.split('\\n')]\n",
    "sz_r, sz_c = len(content), len(content[0])\n",
    "\n",
    "# Basically, for each row/column, it will contain all columns/rows that has obstacble\n",
    "obstacles_by_rows = [SortedList() for _ in range(sz_r)]\n",
    "obstacles_by_columns = [SortedList() for _ in range(sz_c)]\n",
    "start_r, start_c = -1, -1\n",
    "\n",
    "for r in range(sz_r):\n",
    "    for c in range(sz_c):\n",
    "        if content[r][c] == '^':\n",
    "            start_r, start_c = r, c\n",
    "        if content[r][c] == '#':\n",
    "            obstacles_by_rows[r].add(c)\n",
    "            obstacles_by_columns[c].add(r)\n",
    "            \n",
    "directions = {'^': (-1, 0), 'v': (1, 0), '>': (0, 1), '<': (0, -1)}\n",
    "turns = {'^': '>', '>': 'v', 'v': '<', '<': '^'}"
   ]
  },
  {
   "cell_type": "markdown",
   "metadata": {},
   "source": [
    "Logic code for part B"
   ]
  },
  {
   "cell_type": "code",
   "execution_count": null,
   "metadata": {},
   "outputs": [],
   "source": [
    "'''\n",
    "Based on the current row, column, and direction info, this function would find the closest obstacle that it will reach. \n",
    "The finding will be O(log n)\n",
    "There's add/sub 1 on row/col in depends on the direction because u would stop before touching the obstacle\n",
    "'''\n",
    "def get_new_position(direction, r, c):\n",
    "    if direction == '^':\n",
    "        row_id = obstacles_by_columns[c].bisect_left(r) - 1\n",
    "        return (obstacles_by_columns[c][row_id] + 1 if row_id >= 0 else -1, c)\n",
    "    \n",
    "    elif direction == 'v':\n",
    "        row_id = obstacles_by_columns[c].bisect_right(r)\n",
    "        return (obstacles_by_columns[c][row_id] - 1 if row_id < len(obstacles_by_columns[c]) else sz_r, c)\n",
    "    \n",
    "    elif direction == '<':\n",
    "        col_id = obstacles_by_rows[r].bisect_left(c) - 1\n",
    "        return (r, obstacles_by_rows[r][col_id] + 1 if col_id >= 0 else -1)\n",
    "    \n",
    "    elif direction == '>':\n",
    "        col_id = obstacles_by_rows[r].bisect_right(c)\n",
    "        return (r, obstacles_by_rows[r][col_id] - 1 if col_id < len(obstacles_by_rows[r]) else sz_c)\n",
    "\n",
    "'''Place an obstacle in a specific row and column, and check if it will cause a loop or not'''\n",
    "def valid_obstacle(r, c):\n",
    "    obstacles_by_rows[r].add(c)\n",
    "    obstacles_by_columns[c].add(r)\n",
    "    \n",
    "    cpy_r, cpy_c = start_r, start_c\n",
    "    visited = set()\n",
    "    direction = '^'\n",
    "    \n",
    "    while True:\n",
    "        # Break when either go out of bound (no loop) or go back to same place with same direction (loop exist)\n",
    "        if cpy_r < 0 or cpy_r >= sz_r or cpy_c < 0 or cpy_c >= sz_c or (cpy_r, cpy_c, direction) in visited:\n",
    "            break\n",
    "        visited.add((cpy_r, cpy_c, direction))\n",
    "        cpy_r, cpy_c = get_new_position(direction, cpy_r, cpy_c)\n",
    "        direction = turns[direction]\n",
    "    \n",
    "    obstacles_by_rows[r].remove(c)\n",
    "    obstacles_by_columns[c].remove(r)\n",
    "    return 0 <= cpy_r < sz_r and 0 <= cpy_c < sz_c"
   ]
  },
  {
   "cell_type": "markdown",
   "metadata": {},
   "source": [
    "Main logic"
   ]
  },
  {
   "cell_type": "code",
   "execution_count": 8,
   "metadata": {},
   "outputs": [
    {
     "name": "stdout",
     "output_type": "stream",
     "text": [
      "Part A: 4663\n",
      "Part B: 1530\n"
     ]
    }
   ],
   "source": [
    "direction = '^'\n",
    "cpy_r, cpy_c = start_r, start_c\n",
    "res_a, res_b = 1, 0     # res_a start off with 1 because the starting point isn't counted in the loop\n",
    "\n",
    "while True:\n",
    "    next_r, next_c = cpy_r + directions[direction][0], cpy_c + directions[direction][1]\n",
    "    if next_r < 0 or next_r >= sz_r or next_c < 0 or next_c >= sz_c:\n",
    "        break\n",
    "    if content[next_r][next_c] == '#':\n",
    "        direction = turns[direction]\n",
    "    else:\n",
    "        cpy_r, cpy_c = next_r, next_c\n",
    "        # Use the map itself to mark visited cell\n",
    "        if content[cpy_r][cpy_c] == '.':\n",
    "            res_b += valid_obstacle(cpy_r, cpy_c)\n",
    "            res_a += 1\n",
    "        content[cpy_r][cpy_c] = direction\n",
    "\n",
    "print(f'Part A: {res_a}')\n",
    "print(f'Part B: {res_b}')"
   ]
  }
 ],
 "metadata": {
  "kernelspec": {
   "display_name": "base",
   "language": "python",
   "name": "python3"
  },
  "language_info": {
   "codemirror_mode": {
    "name": "ipython",
    "version": 3
   },
   "file_extension": ".py",
   "mimetype": "text/x-python",
   "name": "python",
   "nbconvert_exporter": "python",
   "pygments_lexer": "ipython3",
   "version": "3.11.7"
  }
 },
 "nbformat": 4,
 "nbformat_minor": 2
}
