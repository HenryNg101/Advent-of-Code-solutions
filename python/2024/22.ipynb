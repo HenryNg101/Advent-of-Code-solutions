{
 "cells": [
  {
   "cell_type": "code",
   "execution_count": 3,
   "metadata": {},
   "outputs": [],
   "source": [
    "import os\n",
    "os.chdir('..')\n",
    "from inputGetter import get_input\n",
    "from collections import defaultdict\n",
    "\n",
    "content = get_input(2024, 22)[:-1]"
   ]
  },
  {
   "cell_type": "markdown",
   "metadata": {},
   "source": [
    "NOTE: This one runs around 15 seconds, needs improvements"
   ]
  },
  {
   "cell_type": "code",
   "execution_count": 4,
   "metadata": {},
   "outputs": [
    {
     "name": "stdout",
     "output_type": "stream",
     "text": [
      "Part A: 16619522798\n",
      "Part B: 1854\n"
     ]
    }
   ],
   "source": [
    "content = content.split('\\n')\n",
    "\n",
    "MOD = 1 << 24  # 2 ^ 24 -> The number end up in 24 bits\n",
    "sequences = defaultdict(int)    # Store the sum of all sequences\n",
    "res_a, res_b = 0, 0\n",
    "\n",
    "for secret in content:\n",
    "    secret = int(secret)\n",
    "    arr = [secret % 10]\n",
    "    visited_sequences = set()   # Get the visited sequences for this current secret number\n",
    "    \n",
    "    for _ in range(2000):\n",
    "        # All 3 steps\n",
    "        secret = (secret ^ (secret << 6)) % MOD\n",
    "        secret = (secret ^ (secret >> 5)) % MOD\n",
    "        secret = (secret ^ (secret << 11)) % MOD\n",
    "        \n",
    "        # Logic part B\n",
    "        arr.append(secret % 10)\n",
    "        if len(arr) > 4:\n",
    "            key = tuple([arr[i] - arr[i-1] for i in range(-4, 0)])\n",
    "            if key not in visited_sequences:\n",
    "                visited_sequences.add(key)\n",
    "                sequences[key] += arr[-1]\n",
    "                res_b = max(res_b, sequences[key])\n",
    "    \n",
    "    res_a += secret\n",
    "\n",
    "print(f'Part A: {res_a}')\n",
    "print(f'Part B: {res_b}')"
   ]
  }
 ],
 "metadata": {
  "kernelspec": {
   "display_name": "base",
   "language": "python",
   "name": "python3"
  },
  "language_info": {
   "codemirror_mode": {
    "name": "ipython",
    "version": 3
   },
   "file_extension": ".py",
   "mimetype": "text/x-python",
   "name": "python",
   "nbconvert_exporter": "python",
   "pygments_lexer": "ipython3",
   "version": "3.11.7"
  }
 },
 "nbformat": 4,
 "nbformat_minor": 2
}
