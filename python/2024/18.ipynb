{
 "cells": [
  {
   "cell_type": "code",
   "execution_count": 28,
   "metadata": {},
   "outputs": [],
   "source": [
    "import os\n",
    "os.chdir('..')\n",
    "from inputGetter import get_input\n",
    "import queue\n",
    "\n",
    "content = get_input(2024, 18)[:-1]"
   ]
  },
  {
   "cell_type": "code",
   "execution_count": 29,
   "metadata": {},
   "outputs": [],
   "source": [
    "content = content.split('\\n')\n",
    "sz_r, sz_c = 71, 71\n",
    "directions = [(-1, 0), (0, 1), (1, 0), (0, -1)]\n",
    "\n",
    "def min_reach(first_bytes):\n",
    "    visited = [[False for _ in range(sz_c)] for _ in range(sz_c)]\n",
    "    q = queue.Queue()\n",
    "    for i in range(first_bytes):\n",
    "        r, c = [int(val) for val in content[i].split(',')]\n",
    "        visited[r][c] = True\n",
    "        \n",
    "    q.put((0, 0))\n",
    "    lv = 0\n",
    "    \n",
    "    while not q.empty():\n",
    "        q_sz = q.qsize()\n",
    "        for _ in range(q_sz):\n",
    "            r, c = q.get()\n",
    "            if r == 70 and c == 70:\n",
    "                return lv\n",
    "            \n",
    "            for dir_r, dir_c in directions:\n",
    "                new_r, new_c = r + dir_r, c + dir_c\n",
    "                if 0 <= new_r < sz_r and 0 <= new_c < sz_c and not visited[new_r][new_c]:\n",
    "                    q.put((new_r, new_c))\n",
    "                    visited[new_r][new_c] = True\n",
    "        lv += 1\n",
    "    return -1"
   ]
  },
  {
   "cell_type": "code",
   "execution_count": null,
   "metadata": {},
   "outputs": [
    {
     "name": "stdout",
     "output_type": "stream",
     "text": [
      "Part A: 338\n",
      "Part B: 20,44\n"
     ]
    }
   ],
   "source": [
    "print(f'Part A: {min_reach(1024)}')\n",
    "\n",
    "# Binary search for part 2\n",
    "start, end = 0, len(content) - 1\n",
    "while start + 1 < end:\n",
    "    mid = (start + end) // 2\n",
    "\n",
    "    if min_reach(mid) == -1:\n",
    "        if min_reach(mid-1) != -1:\n",
    "            print(f'Part B: {content[mid-1]}')\n",
    "            break\n",
    "        end = mid\n",
    "    else:\n",
    "        start = mid\n",
    "\n",
    "if start - end <= 1:\n",
    "    if min_reach(start) == -1 and min_reach(start-1) != -1:\n",
    "        print(f'Part B: {content[start-1]}')\n",
    "    elif min_reach(start) != -1 and min_reach(end) != -1:\n",
    "        print(f'Part B: {content[start]}')"
   ]
  }
 ],
 "metadata": {
  "kernelspec": {
   "display_name": "base",
   "language": "python",
   "name": "python3"
  },
  "language_info": {
   "codemirror_mode": {
    "name": "ipython",
    "version": 3
   },
   "file_extension": ".py",
   "mimetype": "text/x-python",
   "name": "python",
   "nbconvert_exporter": "python",
   "pygments_lexer": "ipython3",
   "version": "3.11.7"
  }
 },
 "nbformat": 4,
 "nbformat_minor": 2
}
