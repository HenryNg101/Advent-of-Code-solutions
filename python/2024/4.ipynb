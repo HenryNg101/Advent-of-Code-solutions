{
 "cells": [
  {
   "cell_type": "code",
   "execution_count": 3,
   "metadata": {},
   "outputs": [],
   "source": [
    "import os\n",
    "os.chdir('..')\n",
    "from inputGetter import get_input\n",
    "\n",
    "content = get_input(2024, 4)[:-1]"
   ]
  },
  {
   "cell_type": "code",
   "execution_count": 4,
   "metadata": {},
   "outputs": [
    {
     "name": "stdout",
     "output_type": "stream",
     "text": [
      "Part A: 2569\n",
      "Part B: 1998\n"
     ]
    }
   ],
   "source": [
    "content = content.split('\\n')\n",
    "sz_r, sz_c = len(content), len(content[0])\n",
    "\n",
    "# Info for part A\n",
    "target = 'XMAS'\n",
    "directions = ((0, -1),(0, 1),(-1, -1),(-1, 0),(-1, 1),(1, -1),(1, 0),(1, 1))\n",
    "\n",
    "# Info for part B\n",
    "valid_shapes = {'MMSS', 'SSMM', 'MSMS', 'SMSM'}\n",
    "\n",
    "res_a, res_b = 0, 0\n",
    "for r in range(sz_r):\n",
    "    for c in range(sz_c):\n",
    "        # Part A logic\n",
    "        if content[r][c] == 'X':\n",
    "            for dr, dc in directions:\n",
    "                res_a += all(0 <= r + dr * i < sz_r and 0 <= c + dc * i < sz_c and content[r + dr * i][c + dc * i] == target[i] for i in range(len(target)))\n",
    "        \n",
    "        # Part B logic, concatenating corners only and check with valid shapes\n",
    "        if content[r][c] == 'A' and 0 < r < sz_r-1 and 0 < c < sz_c-1:\n",
    "            shape = ''.join(content[r + dr][c + dc] if dr != 0 and dc != 0 else '' for dr, dc in directions)\n",
    "            res_b += shape in valid_shapes\n",
    "                \n",
    "print(f'Part A: {res_a}')\n",
    "print(f'Part B: {res_b}')"
   ]
  }
 ],
 "metadata": {
  "kernelspec": {
   "display_name": "base",
   "language": "python",
   "name": "python3"
  },
  "language_info": {
   "codemirror_mode": {
    "name": "ipython",
    "version": 3
   },
   "file_extension": ".py",
   "mimetype": "text/x-python",
   "name": "python",
   "nbconvert_exporter": "python",
   "pygments_lexer": "ipython3",
   "version": "3.11.7"
  }
 },
 "nbformat": 4,
 "nbformat_minor": 2
}
