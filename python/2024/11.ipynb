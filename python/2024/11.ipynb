{
 "cells": [
  {
   "cell_type": "code",
   "execution_count": 9,
   "metadata": {},
   "outputs": [],
   "source": [
    "import os\n",
    "os.chdir('..')\n",
    "from inputGetter import get_input\n",
    "import math\n",
    "from functools import lru_cache\n",
    "\n",
    "content = get_input(2024, 11)[:-1]"
   ]
  },
  {
   "cell_type": "code",
   "execution_count": 10,
   "metadata": {},
   "outputs": [
    {
     "name": "stdout",
     "output_type": "stream",
     "text": [
      "Part A: 187738\n",
      "Part B: 223767210249237\n"
     ]
    }
   ],
   "source": [
    "'''Cache the number on the stone, and the amount of steps left to be worked on this stone'''\n",
    "@lru_cache(None)\n",
    "def dp(num, level):\n",
    "    if level == 0:  # Base case\n",
    "        return 1\n",
    "    if num == 0:\n",
    "        return dp(1, level - 1)\n",
    "    \n",
    "    num_len = int(math.log10(num)) + 1\n",
    "    div = 10 ** (num_len // 2)\n",
    "    if num_len % 2 == 0:\n",
    "        return dp(num // div, level - 1) + dp(num % div, level - 1) # Split stone\n",
    "    \n",
    "    return dp(num * 2024, level - 1)  # Can't split, multiply instead\n",
    "\n",
    "content = [int(num) for num in content.split(' ')]\n",
    "iterations_a, iterations_b = 25, 75\n",
    "res_a, res_b = 0, 0\n",
    "for num in content:\n",
    "    res_a += dp(num, iterations_a)\n",
    "    res_b += dp(num, iterations_b)\n",
    "\n",
    "print(f'Part A: {res_a}')\n",
    "print(f'Part B: {res_b}')"
   ]
  }
 ],
 "metadata": {
  "kernelspec": {
   "display_name": "base",
   "language": "python",
   "name": "python3"
  },
  "language_info": {
   "codemirror_mode": {
    "name": "ipython",
    "version": 3
   },
   "file_extension": ".py",
   "mimetype": "text/x-python",
   "name": "python",
   "nbconvert_exporter": "python",
   "pygments_lexer": "ipython3",
   "version": "3.11.7"
  }
 },
 "nbformat": 4,
 "nbformat_minor": 2
}
