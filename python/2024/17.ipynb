{
 "cells": [
  {
   "cell_type": "code",
   "execution_count": 1,
   "metadata": {},
   "outputs": [],
   "source": [
    "import os\n",
    "os.chdir('..')\n",
    "from inputGetter import get_input\n",
    "\n",
    "content = get_input(2024, 17)[:-1]"
   ]
  },
  {
   "cell_type": "markdown",
   "metadata": {},
   "source": [
    "# Part A\n",
    "From different input sets (that I obtained through my different email accounts), it's noticed that the programs in the input sets, while might be a little bit different, all share some similarities:\n",
    "\n",
    "- The instruction 3, which is to jump to a specific position program if register A's value > 0, is only used once in the end of a program (3, 0). Basically this just jumps back to first instruction of the program again, make this essentially a while loop with the condition of the value for register A\n",
    "- Value of register A is only changed...once in the program. With instruction (0, 3) specifically. This means that, register A's value will lose 3 least significant bits each time, and that also means that, if output has n numbers, there are 3 * n bits in this number (including possibly 1 or 2 leading zeros).\n",
    "- Instruction for output is only used once with (5, 5). This means that for each time, it will output the 3 least significant bits in the register B's value. Therefore, this is good for us, by just tracking each block of 3 bits, starting from least, then to most significant 3-bits group for register A's value. We can get it. Besides that, it can be seen that register B and C's values are reset and dependent in register A's value in each iteration, makes it easier for us.\n",
    "\n",
    "These are some of very important observations, as it will help us control the code for this in specific way. While I believe that this pattern would appear in most, if not all of the inputs for all accounts, I could be wrong. So if this is the case, this code would be a generic guide for it."
   ]
  },
  {
   "cell_type": "code",
   "execution_count": 2,
   "metadata": {},
   "outputs": [
    {
     "name": "stdout",
     "output_type": "stream",
     "text": [
      "Steps\n",
      "- register_b = register_a % 8\n",
      "- register_b = register_b ^ 5\n",
      "- register_c = register_a >> register_b\n",
      "- register_b = register_b ^ 6\n",
      "- register_b = register_b ^ register_c\n",
      "- Output the register_b % 8\n",
      "- register_a = register_a >> 3\n",
      "- Loop back if register_a > 0\n"
     ]
    }
   ],
   "source": [
    "content = content.split('\\n')\n",
    "\n",
    "register_a, register_b, register_c = [int(line.split()[-1]) for line in content[0:3]]\n",
    "program = content[-1].split()[-1]\n",
    "program = [int(val) for val in program.split(',')]\n",
    "\n",
    "# This was the code used to get the steps for this\n",
    "print(\"Steps\")\n",
    "for i in range(0, len(program), 2):\n",
    "    opcode, literal = program[i: i+2]\n",
    "    \n",
    "    comb = literal\n",
    "    if comb == 4:\n",
    "        comb = 'register_a'\n",
    "    elif comb == 5:\n",
    "        comb = 'register_b'\n",
    "    elif comb == 6:\n",
    "        comb = 'register_c'\n",
    "\n",
    "    print('- ', end='')\n",
    "        \n",
    "    if opcode == 0:\n",
    "        print(f'register_a = register_a >> {comb}')\n",
    "    elif opcode == 1:\n",
    "        print(f'register_b = register_b ^ {literal}')\n",
    "    elif opcode == 2:\n",
    "        print(f'register_b = {comb} % 8')\n",
    "    elif opcode == 3:\n",
    "        print(f'Loop back if register_a > 0')\n",
    "    elif opcode == 4:\n",
    "        print(f'register_b = register_b ^ register_c')\n",
    "    elif opcode == 5:\n",
    "        print(f'Output the {comb} % 8')\n",
    "    elif opcode == 6:\n",
    "        print(f'register_b = register_a >> {comb}')\n",
    "    else:\n",
    "        print(f'register_c = register_a >> {comb}')"
   ]
  },
  {
   "cell_type": "code",
   "execution_count": 3,
   "metadata": {},
   "outputs": [],
   "source": [
    "'''Process all the instructions, except jump, because that will be \n",
    "handled for part A and B differently, so can't be shared'''\n",
    "def process_instruction(opcode, literal):\n",
    "    global register_a, register_b, register_c\n",
    "    comb = literal\n",
    "    if comb == 4:\n",
    "        comb = register_a\n",
    "    elif comb == 5:\n",
    "        comb = register_b\n",
    "    elif comb == 6:\n",
    "        comb = register_c\n",
    "    \n",
    "    if opcode == 0:\n",
    "        register_a //= 2 ** comb\n",
    "    elif opcode == 1:\n",
    "        register_b ^= literal\n",
    "    elif opcode == 2:\n",
    "        register_b = comb % 8\n",
    "    elif opcode == 4:\n",
    "        register_b ^= register_c\n",
    "    elif opcode == 5:\n",
    "        return comb % 8\n",
    "    elif opcode == 6:\n",
    "        register_b = register_a // (1 << comb)\n",
    "    elif opcode == 7:\n",
    "        register_c = register_a // (1 << comb)"
   ]
  },
  {
   "cell_type": "code",
   "execution_count": 4,
   "metadata": {},
   "outputs": [
    {
     "name": "stdout",
     "output_type": "stream",
     "text": [
      "Part A: 3,5,0,1,5,1,5,1,0\n"
     ]
    }
   ],
   "source": [
    "inst_id = 0\n",
    "res_a = []\n",
    "while inst_id < len(program):\n",
    "    opcode, literal = program[inst_id: inst_id+2]\n",
    "    if opcode == 3 and register_a != 0:\n",
    "        inst_id = literal\n",
    "        continue\n",
    "    \n",
    "    if opcode == 5:\n",
    "        res_a.append(process_instruction(opcode, literal))\n",
    "    else:\n",
    "        process_instruction(opcode, literal)\n",
    "    inst_id += 2\n",
    "\n",
    "print(f\"Part A: {','.join([str(val) for val in res_a])}\")"
   ]
  },
  {
   "cell_type": "markdown",
   "metadata": {},
   "source": [
    "# Part B\n",
    "\n",
    "Extra observations from this: Value of register A is only used at the beginning, and not affected, only got shifted right by 3 bits in the end, so the change of register A's value is independent from the change of register B and C's value. Because of this, for backtracking, I will skip instruction (0, 3), (5, 5) and (3, 0) and only focus on testing value of 3 least significant bits each time (because these instructions don't quite help on shaping the result), see if it can produce the right output"
   ]
  },
  {
   "cell_type": "code",
   "execution_count": 5,
   "metadata": {},
   "outputs": [
    {
     "name": "stdout",
     "output_type": "stream",
     "text": [
      "Part B: 107413700225434\n"
     ]
    }
   ],
   "source": [
    "res_b = 100000000000000000000\n",
    "def backtrack(program_id, curr_num):\n",
    "    global res_b, register_a, register_b, register_c\n",
    "    if program_id < 0:\n",
    "        res_b = min(res_b, curr_num)\n",
    "        return\n",
    "    \n",
    "    # Go through value 0-7, and test if this would make the desired output\n",
    "    for i in range(8):\n",
    "        register_a = (curr_num << 3) + i\n",
    "        for inst_id in range(0, len(program), 2):\n",
    "            opcode, literal = program[inst_id: inst_id+2]\n",
    "            if opcode != 0:\n",
    "                # Just backtrack in right away, because in the input, no change will be made (or mattered) after this one\n",
    "                output = process_instruction(opcode, literal)\n",
    "                if opcode == 5 and output == program[program_id]:\n",
    "                    backtrack(program_id-1, register_a)\n",
    "\n",
    "backtrack(len(program) - 1, 0)\n",
    "print(f'Part B: {res_b}')"
   ]
  }
 ],
 "metadata": {
  "kernelspec": {
   "display_name": "base",
   "language": "python",
   "name": "python3"
  },
  "language_info": {
   "codemirror_mode": {
    "name": "ipython",
    "version": 3
   },
   "file_extension": ".py",
   "mimetype": "text/x-python",
   "name": "python",
   "nbconvert_exporter": "python",
   "pygments_lexer": "ipython3",
   "version": "3.11.7"
  }
 },
 "nbformat": 4,
 "nbformat_minor": 2
}
