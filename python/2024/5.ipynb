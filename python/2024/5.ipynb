{
 "cells": [
  {
   "cell_type": "code",
   "execution_count": 22,
   "metadata": {},
   "outputs": [],
   "source": [
    "import os\n",
    "os.chdir('..')\n",
    "from inputGetter import get_input\n",
    "from collections import defaultdict\n",
    "\n",
    "content = get_input(2024, 5)[:-1]"
   ]
  },
  {
   "cell_type": "code",
   "execution_count": 23,
   "metadata": {},
   "outputs": [],
   "source": [
    "# Find the actual order of an array based on dependencies info \n",
    "def topo_sort(arr, dependencies):\n",
    "    indegree = defaultdict(int)\n",
    "    mp = defaultdict(list)\n",
    "    \n",
    "    # Making a sub-graph for the array based on dependencies info\n",
    "    for node in arr:\n",
    "        for another_node in arr:\n",
    "            if another_node in dependencies[node]:\n",
    "                mp[node].append(another_node)\n",
    "                indegree[another_node] += 1\n",
    "    \n",
    "    # Kahn algorithm. Get the nodes with indegree of 0 first, then work towards it\n",
    "    stack = [node for node in arr if indegree[node] == 0]\n",
    "    new_order = []\n",
    "    while len(stack) > 0:\n",
    "        new_order.append(stack.pop())\n",
    "        \n",
    "        for next_node in mp[new_order[-1]]:\n",
    "            indegree[next_node] -= 1\n",
    "            if indegree[next_node] == 0:\n",
    "                stack.append(next_node)\n",
    "    \n",
    "    return new_order"
   ]
  },
  {
   "cell_type": "code",
   "execution_count": 24,
   "metadata": {},
   "outputs": [
    {
     "name": "stdout",
     "output_type": "stream",
     "text": [
      "Part A: 5964\n",
      "Part B: 4719\n"
     ]
    }
   ],
   "source": [
    "content = content.split('\\n')\n",
    "dependencies = defaultdict(set)\n",
    "id = 0\n",
    "while content[id] != '':\n",
    "    parent, child = [int(node) for node in content[id].split('|')]        \n",
    "    dependencies[parent].add(child)\n",
    "    id += 1\n",
    "\n",
    "res_a, res_b = 0, 0\n",
    "for line in content[id+1:]:\n",
    "    arr = [int(node) for node in line.split(',')]\n",
    "    # If the topo sorting of the arr is same as arr, it's valid\n",
    "    new_order = topo_sort(arr, dependencies)\n",
    "    if new_order == arr:\n",
    "        res_a += new_order[len(new_order) // 2]\n",
    "    else:\n",
    "        res_b += new_order[len(new_order) // 2]\n",
    "\n",
    "print(f'Part A: {res_a}')\n",
    "print(f'Part B: {res_b}')"
   ]
  }
 ],
 "metadata": {
  "kernelspec": {
   "display_name": "base",
   "language": "python",
   "name": "python3"
  },
  "language_info": {
   "codemirror_mode": {
    "name": "ipython",
    "version": 3
   },
   "file_extension": ".py",
   "mimetype": "text/x-python",
   "name": "python",
   "nbconvert_exporter": "python",
   "pygments_lexer": "ipython3",
   "version": "3.11.7"
  }
 },
 "nbformat": 4,
 "nbformat_minor": 2
}
