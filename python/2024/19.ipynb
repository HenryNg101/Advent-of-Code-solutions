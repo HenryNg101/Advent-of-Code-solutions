{
 "cells": [
  {
   "cell_type": "code",
   "execution_count": 17,
   "metadata": {},
   "outputs": [],
   "source": [
    "import os\n",
    "os.chdir('..')\n",
    "from inputGetter import get_input\n",
    "import queue\n",
    "\n",
    "content = get_input(2024, 19)[:-1]"
   ]
  },
  {
   "cell_type": "code",
   "execution_count": 18,
   "metadata": {},
   "outputs": [
    {
     "name": "stdout",
     "output_type": "stream",
     "text": [
      "Part A: 311\n",
      "Part B: 616234236468263\n"
     ]
    }
   ],
   "source": [
    "content = content.split('\\n')\n",
    "\n",
    "towels = content[0].split(', ')\n",
    "res_a, res_b = 0, 0\n",
    "\n",
    "for line in content[2:]:\n",
    "    dp = [i == 0 for i in range(len(line)+1)]\n",
    "\n",
    "    for i in range(len(line)):\n",
    "        for towel in towels:\n",
    "            if towel == line[i: i + len(towel)]:\n",
    "                dp[i + len(towel)] += dp[i]\n",
    "    \n",
    "    res_a += dp[-1] > 0\n",
    "    res_b += dp[-1]\n",
    "\n",
    "print(f'Part A: {res_a}')\n",
    "print(f'Part B: {res_b}')"
   ]
  }
 ],
 "metadata": {
  "kernelspec": {
   "display_name": "base",
   "language": "python",
   "name": "python3"
  },
  "language_info": {
   "codemirror_mode": {
    "name": "ipython",
    "version": 3
   },
   "file_extension": ".py",
   "mimetype": "text/x-python",
   "name": "python",
   "nbconvert_exporter": "python",
   "pygments_lexer": "ipython3",
   "version": "3.11.7"
  }
 },
 "nbformat": 4,
 "nbformat_minor": 2
}
