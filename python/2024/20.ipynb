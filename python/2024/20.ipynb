{
 "cells": [
  {
   "cell_type": "code",
   "execution_count": 1,
   "metadata": {},
   "outputs": [],
   "source": [
    "import os\n",
    "os.chdir('..')\n",
    "from inputGetter import get_input\n",
    "\n",
    "content = get_input(2024, 20)[:-1]"
   ]
  },
  {
   "cell_type": "markdown",
   "metadata": {},
   "source": [
    "NOTE: This one runs in nearly 30 seconds, needs improvements"
   ]
  },
  {
   "cell_type": "code",
   "execution_count": 2,
   "metadata": {},
   "outputs": [
    {
     "name": "stdout",
     "output_type": "stream",
     "text": [
      "Part A: 1327\n",
      "Part B: 985737\n"
     ]
    }
   ],
   "source": [
    "content = [list(line) for line in content.split('\\n')]\n",
    "sz_r, sz_c = len(content), len(content[0])\n",
    "\n",
    "end_r, end_c = -1, -1\n",
    "for r in range(sz_r):\n",
    "    for c in range(sz_c):\n",
    "        if content[r][c] == 'S':\n",
    "            end_r, end_c = r, c\n",
    "            break\n",
    "\n",
    "res_a, res_b, dis = 0, 0, 0\n",
    "directions = [(-1, 0), (0, 1), (1, 0), (0, -1)]\n",
    "positions = []\n",
    "while content[end_r][end_c] != 'E':\n",
    "    for start_r, start_c in positions:\n",
    "        distance = abs(start_r - end_r) + abs(start_c - end_c)  # Manhattan distance\n",
    "        diff = abs(content[start_r][start_c] - dis)\n",
    "        \n",
    "        if distance <= 20 and diff - distance >= 100:\n",
    "            res_b += 1\n",
    "            if distance <= 2:\n",
    "                res_a += 1\n",
    "    \n",
    "    content[end_r][end_c] = dis\n",
    "    positions.append((end_r, end_c))\n",
    "    \n",
    "    for dir_r, dir_c in directions:\n",
    "        new_r, new_c = end_r + dir_r, end_c + dir_c\n",
    "        if 0 <= new_r < sz_r and 0 <= new_c < sz_c and (content[new_r][new_c] == '.' or content[new_r][new_c] == 'E'):\n",
    "            end_r, end_c = new_r, new_c\n",
    "            break\n",
    "    dis += 1\n",
    "\n",
    "for start_r, start_c in positions:\n",
    "    distance = abs(start_r - end_r) + abs(start_c - end_c)  # Manhattan distance\n",
    "    diff = abs(content[start_r][start_c] - dis)\n",
    "    \n",
    "    if distance <= 20 and diff - distance >= 100:\n",
    "        res_b += 1\n",
    "        if distance <= 2:\n",
    "            res_a += 1\n",
    "\n",
    "print(f'Part A: {res_a}')\n",
    "print(f'Part B: {res_b}')"
   ]
  }
 ],
 "metadata": {
  "kernelspec": {
   "display_name": "base",
   "language": "python",
   "name": "python3"
  },
  "language_info": {
   "codemirror_mode": {
    "name": "ipython",
    "version": 3
   },
   "file_extension": ".py",
   "mimetype": "text/x-python",
   "name": "python",
   "nbconvert_exporter": "python",
   "pygments_lexer": "ipython3",
   "version": "3.11.7"
  }
 },
 "nbformat": 4,
 "nbformat_minor": 2
}
