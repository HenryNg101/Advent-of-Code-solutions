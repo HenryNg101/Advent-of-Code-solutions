{
 "cells": [
  {
   "cell_type": "code",
   "execution_count": 43,
   "metadata": {},
   "outputs": [],
   "source": [
    "import os\n",
    "os.chdir('..')\n",
    "from inputGetter import get_input\n",
    "import networkx as nx\n",
    "from itertools import combinations\n",
    "\n",
    "content = get_input(2024, 23)[:-1]"
   ]
  },
  {
   "cell_type": "markdown",
   "metadata": {},
   "source": [
    "Note: The [max_clique()](https://networkx.org/documentation/stable/reference/algorithms/generated/networkx.algorithms.approximation.clique.max_clique.html) runs slower than going through all cliques in [enumerate_all_cliques()](https://networkx.org/documentation/stable/reference/algorithms/generated/networkx.algorithms.clique.enumerate_all_cliques.html#enumerate-all-cliques) (or max cliques with [find_cliques()](https://networkx.org/documentation/stable/reference/algorithms/generated/networkx.algorithms.clique.find_cliques.html#networkx.algorithms.clique.find_cliques)) and get the max one within the [networkx](https://networkx.org/documentation/stable/index.html) package in Python. Maybe because `enumerate_all_cliques()` and `find_cliques()` don't save memory, like how it was written in the doc"
   ]
  },
  {
   "cell_type": "code",
   "execution_count": 44,
   "metadata": {},
   "outputs": [
    {
     "name": "stdout",
     "output_type": "stream",
     "text": [
      "Part A: 1411\n",
      "Part B: aq,bn,ch,dt,gu,ow,pk,qy,tv,us,yx,zg,zu\n"
     ]
    }
   ],
   "source": [
    "content = content.split('\\n')\n",
    "\n",
    "graph = nx.Graph()\n",
    "for line in content:\n",
    "    node1, node2 = line.split('-')\n",
    "    graph.add_edge(node1, node2)\n",
    "\n",
    "little_cliques = set()  # Contains the unique cliques of size 3, needed for part A\n",
    "chosen_clique = {}  # The chosen one for part B\n",
    "for clique in nx.find_cliques(graph):\n",
    "    if len(clique) > len(chosen_clique):\n",
    "        chosen_clique = clique\n",
    "    \n",
    "    # Get the subsets of size 3 and add in\n",
    "    for sub_clique in combinations(clique, 3):\n",
    "        little_cliques.add(tuple(sorted(sub_clique)))\n",
    "\n",
    "res_a = sum([any([node[0] == 't' for node in clique]) for clique in little_cliques])\n",
    "print(f\"Part A: {res_a}\")\n",
    "print(f\"Part B: {','.join(sorted(chosen_clique))}\")"
   ]
  }
 ],
 "metadata": {
  "kernelspec": {
   "display_name": "base",
   "language": "python",
   "name": "python3"
  },
  "language_info": {
   "codemirror_mode": {
    "name": "ipython",
    "version": 3
   },
   "file_extension": ".py",
   "mimetype": "text/x-python",
   "name": "python",
   "nbconvert_exporter": "python",
   "pygments_lexer": "ipython3",
   "version": "3.11.7"
  }
 },
 "nbformat": 4,
 "nbformat_minor": 2
}
