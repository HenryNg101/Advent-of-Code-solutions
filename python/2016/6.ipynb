{
 "cells": [
  {
   "attachments": {},
   "cell_type": "markdown",
   "metadata": {},
   "source": [
    "# Get input"
   ]
  },
  {
   "cell_type": "code",
   "execution_count": 39,
   "metadata": {},
   "outputs": [],
   "source": [
    "import os\n",
    "os.chdir('..')\n",
    "from inputGetter import get_input\n",
    "import hashlib\n",
    "\n",
    "content = get_input(2016, 6).split('\\n')[:-1]"
   ]
  },
  {
   "attachments": {},
   "cell_type": "markdown",
   "metadata": {},
   "source": [
    "# Part 1"
   ]
  },
  {
   "cell_type": "code",
   "execution_count": 40,
   "metadata": {},
   "outputs": [
    {
     "name": "stdout",
     "output_type": "stream",
     "text": [
      "cyxeoccr\n"
     ]
    }
   ],
   "source": [
    "res_a = \"\"\n",
    "res_b = \"\"\n",
    "\n",
    "for c in range(len(content[0])):\n",
    "    mp = dict()\n",
    "    for r in range(len(content)):\n",
    "        if content[r][c] not in mp:\n",
    "            mp[content[r][c]] = 0\n",
    "        mp[content[r][c]] += 1\n",
    "    \n",
    "    count_a = (\"\", 0)\n",
    "    count_b = (\"\", 9999999999999999)\n",
    "    for tup in mp.items():\n",
    "        if count_a[1] < tup[1]:\n",
    "            count_a = tup\n",
    "        if count_b[1] > tup[1]:\n",
    "            count_b = tup\n",
    "    res_a += count_a[0]\n",
    "    res_b += count_b[0]\n",
    "print(res_a)"
   ]
  },
  {
   "attachments": {},
   "cell_type": "markdown",
   "metadata": {},
   "source": [
    "# Part 2"
   ]
  },
  {
   "cell_type": "code",
   "execution_count": 41,
   "metadata": {},
   "outputs": [
    {
     "name": "stdout",
     "output_type": "stream",
     "text": [
      "batwpask\n"
     ]
    }
   ],
   "source": [
    "print(res_b)"
   ]
  }
 ],
 "metadata": {
  "kernelspec": {
   "display_name": "Python 3",
   "language": "python",
   "name": "python3"
  },
  "language_info": {
   "codemirror_mode": {
    "name": "ipython",
    "version": 3
   },
   "file_extension": ".py",
   "mimetype": "text/x-python",
   "name": "python",
   "nbconvert_exporter": "python",
   "pygments_lexer": "ipython3",
   "version": "3.8.10"
  },
  "orig_nbformat": 4,
  "vscode": {
   "interpreter": {
    "hash": "916dbcbb3f70747c44a77c7bcd40155683ae19c65e1c03b4aa3499c5328201f1"
   }
  }
 },
 "nbformat": 4,
 "nbformat_minor": 2
}
