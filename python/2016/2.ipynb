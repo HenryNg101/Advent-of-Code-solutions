{
 "cells": [
  {
   "attachments": {},
   "cell_type": "markdown",
   "metadata": {},
   "source": [
    "# Get input"
   ]
  },
  {
   "cell_type": "code",
   "execution_count": 39,
   "metadata": {},
   "outputs": [],
   "source": [
    "import os\n",
    "os.chdir('..')\n",
    "from inputGetter import get_input\n",
    "\n",
    "content = get_input(2016, 2).split('\\n')[:-1]"
   ]
  },
  {
   "attachments": {},
   "cell_type": "markdown",
   "metadata": {},
   "source": [
    "# Part 1"
   ]
  },
  {
   "cell_type": "code",
   "execution_count": 40,
   "metadata": {},
   "outputs": [
    {
     "name": "stdout",
     "output_type": "stream",
     "text": [
      "12578\n"
     ]
    }
   ],
   "source": [
    "def find_password(keypad, start_pos, content):\n",
    "    final_code = ''\n",
    "    for line in content:\n",
    "        for move in line:\n",
    "            next_no = start_pos.copy()\n",
    "            if move == 'U':\n",
    "                next_no[0] -= 1\n",
    "            elif move == 'D':\n",
    "                next_no[0] += 1\n",
    "            elif move == 'L':\n",
    "                next_no[1] -= 1\n",
    "            else:\n",
    "                next_no[1] += 1\n",
    "            if 0 <= next_no[0] < len(keypad) and 0 <= next_no[1] < len(keypad[0]):\n",
    "                if len(keypad[next_no[0]][next_no[1]]) > 0:    \n",
    "                    start_pos = next_no.copy()\n",
    "        \n",
    "        final_code += keypad[start_pos[0]][start_pos[1]]\n",
    "\n",
    "    return final_code\n",
    "\n",
    "keypad = [\n",
    "    ['1', '2', '3'],\n",
    "    ['4', '5', '6'],\n",
    "    ['7', '8', '9']\n",
    "]\n",
    "print(find_password(keypad, [1, 1], content))"
   ]
  },
  {
   "attachments": {},
   "cell_type": "markdown",
   "metadata": {},
   "source": [
    "# Part 2"
   ]
  },
  {
   "cell_type": "code",
   "execution_count": 41,
   "metadata": {},
   "outputs": [
    {
     "name": "stdout",
     "output_type": "stream",
     "text": [
      "516DD\n"
     ]
    }
   ],
   "source": [
    "keypad = [\n",
    "    ['','','1','',''],\n",
    "    ['','2','3','4',''],\n",
    "    ['5','6','7','8','9'],\n",
    "    ['','A','B','C',''],\n",
    "    ['','','D','','']\n",
    "]\n",
    "print(find_password(keypad, [2, 0], content))"
   ]
  }
 ],
 "metadata": {
  "kernelspec": {
   "display_name": "Python 3",
   "language": "python",
   "name": "python3"
  },
  "language_info": {
   "codemirror_mode": {
    "name": "ipython",
    "version": 3
   },
   "file_extension": ".py",
   "mimetype": "text/x-python",
   "name": "python",
   "nbconvert_exporter": "python",
   "pygments_lexer": "ipython3",
   "version": "3.8.10 (default, Nov 14 2022, 12:59:47) \n[GCC 9.4.0]"
  },
  "orig_nbformat": 4,
  "vscode": {
   "interpreter": {
    "hash": "31f2aee4e71d21fbe5cf8b01ff0e069b9275f58929596ceb00d14d90e3e16cd6"
   }
  }
 },
 "nbformat": 4,
 "nbformat_minor": 2
}
