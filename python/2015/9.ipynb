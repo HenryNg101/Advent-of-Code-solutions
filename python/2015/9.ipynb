{
 "cells": [
  {
   "attachments": {},
   "cell_type": "markdown",
   "metadata": {},
   "source": [
    "# Get and processing input"
   ]
  },
  {
   "cell_type": "code",
   "execution_count": 21,
   "metadata": {},
   "outputs": [],
   "source": [
    "from ast import List\n",
    "import os\n",
    "os.chdir('..')\n",
    "from inputGetter import get_input\n",
    "from itertools import permutations\n",
    "\n",
    "content = get_input(2015, 9).split('\\n')[:-1]\n",
    "\n",
    "mp = dict()\n",
    "places = set()\n",
    "\n",
    "for line in content:\n",
    "    line = line.split()\n",
    "    start, stop, cost = line[0], line[2], line[4]\n",
    "    places.add(start)\n",
    "    places.add(stop)\n",
    "    if start not in mp:\n",
    "        mp[start] = dict()\n",
    "    if stop not in mp:\n",
    "        mp[stop] = dict()\n",
    "    mp[start][stop] = int(cost)\n",
    "    mp[stop][start] = int(cost)"
   ]
  },
  {
   "attachments": {},
   "cell_type": "markdown",
   "metadata": {},
   "source": [
    "# Part 1"
   ]
  },
  {
   "cell_type": "code",
   "execution_count": 22,
   "metadata": {},
   "outputs": [
    {
     "name": "stdout",
     "output_type": "stream",
     "text": [
      "141\n"
     ]
    }
   ],
   "source": [
    "min_dis = 999999999999999\n",
    "max_dis = 0\n",
    "\n",
    "for perm in permutations(places):\n",
    "    total_dis = 0\n",
    "    completed = True\n",
    "    for i in range(1, len(perm)):\n",
    "        start, stop = perm[i-1], perm[i]\n",
    "        if stop not in mp[start]:\n",
    "            completed = False\n",
    "            break\n",
    "\n",
    "        total_dis += mp[start][stop]\n",
    "    if not completed:\n",
    "        continue\n",
    "\n",
    "    min_dis = min(min_dis, total_dis)\n",
    "    max_dis = max(max_dis, total_dis)\n",
    "\n",
    "print(min_dis)"
   ]
  },
  {
   "attachments": {},
   "cell_type": "markdown",
   "metadata": {},
   "source": [
    "# Part 2"
   ]
  },
  {
   "cell_type": "code",
   "execution_count": 23,
   "metadata": {},
   "outputs": [
    {
     "name": "stdout",
     "output_type": "stream",
     "text": [
      "736\n"
     ]
    }
   ],
   "source": [
    "print(max_dis)"
   ]
  }
 ],
 "metadata": {
  "kernelspec": {
   "display_name": "Python 3",
   "language": "python",
   "name": "python3"
  },
  "language_info": {
   "codemirror_mode": {
    "name": "ipython",
    "version": 3
   },
   "file_extension": ".py",
   "mimetype": "text/x-python",
   "name": "python",
   "nbconvert_exporter": "python",
   "pygments_lexer": "ipython3",
   "version": "3.8.10"
  },
  "orig_nbformat": 4,
  "vscode": {
   "interpreter": {
    "hash": "916dbcbb3f70747c44a77c7bcd40155683ae19c65e1c03b4aa3499c5328201f1"
   }
  }
 },
 "nbformat": 4,
 "nbformat_minor": 2
}
