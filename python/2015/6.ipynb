{
 "cells": [
  {
   "attachments": {},
   "cell_type": "markdown",
   "metadata": {},
   "source": [
    "# Part 1"
   ]
  },
  {
   "cell_type": "code",
   "execution_count": 1,
   "metadata": {},
   "outputs": [
    {
     "name": "stdout",
     "output_type": "stream",
     "text": [
      "Part A: 569999\n",
      "Part B: 17836115\n"
     ]
    }
   ],
   "source": [
    "import os\n",
    "os.chdir('..')\n",
    "from inputGetter import get_input\n",
    "\n",
    "content = get_input(2015, 6).split('\\n')[:-1]\n",
    "grid_a = [[False for _ in range(1000)] for _ in range(1000)]\n",
    "grid_b = [[0 for _ in range(1000)] for _ in range(1000)]\n",
    "counter_a, counter_b = 0, 0\n",
    "\n",
    "for line in content:\n",
    "    line = line.split()\n",
    "    inst, start_co, stop_co = line[0], line[1], line[3]\n",
    "    if line[0] == 'turn':\n",
    "        inst, start_co, stop_co = line[1], line[2], line[4]\n",
    "\n",
    "    start_c, start_r = [int(x) for x in start_co.split(',')]\n",
    "    stop_c, stop_r = [int(x) for x in stop_co.split(',')]\n",
    "    \n",
    "    for r in range(start_r, stop_r + 1):\n",
    "        for c in range(start_c, stop_c + 1):\n",
    "            if inst == 'toggle':\n",
    "                grid_a[r][c] = not grid_a[r][c]\n",
    "                grid_b[r][c] += 2\n",
    "            else:\n",
    "                grid_a[r][c] = (inst == 'on')\n",
    "                if grid_a[r][c]:\n",
    "                    grid_b[r][c] += 1\n",
    "                else:\n",
    "                    grid_b[r][c] -= 1 if grid_b[r][c] > 0 else 0\n",
    "\n",
    "for r in range(1000):\n",
    "    for c in range(1000):\n",
    "        counter_a += grid_a[r][c]\n",
    "        counter_b += grid_b[r][c]\n",
    "        \n",
    "print(f\"Part A: {counter_a}\")\n",
    "print(f\"Part B: {counter_b}\")"
   ]
  }
 ],
 "metadata": {
  "kernelspec": {
   "display_name": "base",
   "language": "python",
   "name": "python3"
  },
  "language_info": {
   "codemirror_mode": {
    "name": "ipython",
    "version": 3
   },
   "file_extension": ".py",
   "mimetype": "text/x-python",
   "name": "python",
   "nbconvert_exporter": "python",
   "pygments_lexer": "ipython3",
   "version": "3.11.7"
  },
  "orig_nbformat": 4
 },
 "nbformat": 4,
 "nbformat_minor": 2
}
