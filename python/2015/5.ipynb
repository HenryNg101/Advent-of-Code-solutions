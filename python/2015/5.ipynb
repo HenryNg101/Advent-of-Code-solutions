{
 "cells": [
  {
   "attachments": {},
   "cell_type": "markdown",
   "metadata": {},
   "source": [
    "# Part 1"
   ]
  },
  {
   "cell_type": "code",
   "execution_count": 24,
   "metadata": {},
   "outputs": [
    {
     "name": "stdout",
     "output_type": "stream",
     "text": [
      "255\n"
     ]
    }
   ],
   "source": [
    "import os\n",
    "os.chdir('..')\n",
    "from inputGetter import get_input\n",
    "\n",
    "content = get_input(2015, 5).split('\\n')[:-1]\n",
    "total_cnt = 0\n",
    "forbidden = ['ab','cd','pq','xy']\n",
    "vowels = ['a','o','i','u','e']\n",
    "\n",
    "for line in content:\n",
    "    mp = dict()\n",
    "    check = True\n",
    "    check2 = False\n",
    "    for i in range(len(line)):\n",
    "        if line[i:i+2] in forbidden:\n",
    "            check = False\n",
    "            break\n",
    "        \n",
    "        if i < len(line) - 1:\n",
    "            if line[i] == line[i+1]:\n",
    "                check2 = True\n",
    "            \n",
    "        if line[i] not in mp:\n",
    "            mp[line[i]] = 0\n",
    "        mp[line[i]] += 1\n",
    "    if not (check and check2):\n",
    "        continue\n",
    "    \n",
    "    vowel_cnt = 0\n",
    "    for c in vowels:\n",
    "        if c in mp:\n",
    "            vowel_cnt += mp[c]\n",
    "    if vowel_cnt < 3:\n",
    "        continue\n",
    "    \n",
    "    total_cnt += 1\n",
    "print(total_cnt)"
   ]
  },
  {
   "cell_type": "code",
   "execution_count": 25,
   "metadata": {},
   "outputs": [
    {
     "name": "stdout",
     "output_type": "stream",
     "text": [
      "55\n"
     ]
    }
   ],
   "source": [
    "total_cnt = 0\n",
    "for line in content:\n",
    "    check = False\n",
    "    check2 = False\n",
    "    mp = dict()\n",
    "\n",
    "    for i in range(len(line) - 1):\n",
    "        if line[i:i+2] not in mp:\n",
    "            mp[line[i:i+2]] = i\n",
    "        else:\n",
    "            if i - mp[line[i:i+2]] > 1:\n",
    "                check = True\n",
    "        \n",
    "        if i < len(line) - 2:\n",
    "            if line[i] == line[i+2]:\n",
    "                check2 = True\n",
    "\n",
    "    if check and check2:\n",
    "        total_cnt += 1\n",
    "\n",
    "print(total_cnt)"
   ]
  }
 ],
 "metadata": {
  "kernelspec": {
   "display_name": "Python 3 (ipykernel)",
   "language": "python",
   "name": "python3"
  },
  "language_info": {
   "codemirror_mode": {
    "name": "ipython",
    "version": 3
   },
   "file_extension": ".py",
   "mimetype": "text/x-python",
   "name": "python",
   "nbconvert_exporter": "python",
   "pygments_lexer": "ipython3",
   "version": "3.10.6"
  },
  "orig_nbformat": 4
 },
 "nbformat": 4,
 "nbformat_minor": 2
}
