{
 "cells": [
  {
   "attachments": {},
   "cell_type": "markdown",
   "metadata": {},
   "source": [
    "# Get input"
   ]
  },
  {
   "cell_type": "code",
   "execution_count": 1,
   "metadata": {},
   "outputs": [],
   "source": [
    "from ast import List\n",
    "import os\n",
    "os.chdir('..')\n",
    "from inputGetter import get_input\n",
    "\n",
    "content = get_input(2015, 23).split('\\n')[:-1]"
   ]
  },
  {
   "attachments": {},
   "cell_type": "markdown",
   "metadata": {},
   "source": [
    "# Part 1"
   ]
  },
  {
   "cell_type": "code",
   "execution_count": 2,
   "metadata": {},
   "outputs": [
    {
     "name": "stdout",
     "output_type": "stream",
     "text": [
      "184\n"
     ]
    }
   ],
   "source": [
    "def execute_program(register_a: int, register_b: int):\n",
    "    mp = dict(a = register_a, b = register_b)  #2 registers\n",
    "    inst_cnt = 0          #The current instruction\n",
    "\n",
    "    while True:\n",
    "        arr = content[inst_cnt].split()\n",
    "        if len(arr) == 3:\n",
    "            inst, reg, offset = arr\n",
    "            reg, offset = reg[:-1], int(offset)\n",
    "            if inst == 'jie':\n",
    "                inst_cnt += offset if mp[reg] % 2 == 0 else 1\n",
    "            else:       #Case of \"jio\" instruction\n",
    "                inst_cnt += offset if mp[reg] == 1 else 1\n",
    "        else:\n",
    "            inst, reg = arr\n",
    "            jumped = False\n",
    "            if inst == 'hlf':\n",
    "                mp[reg] //= 2\n",
    "            elif inst == 'tpl':\n",
    "                mp[reg] *= 3\n",
    "            elif inst == 'inc':\n",
    "                mp[reg] += 1\n",
    "            else:       #Case of \"jmp\" instruction\n",
    "                inst_cnt += int(reg)\n",
    "                jumped = True\n",
    "            if not jumped:\n",
    "                inst_cnt += 1\n",
    "        if inst_cnt >= len(content):\n",
    "            break\n",
    "    \n",
    "    return mp['b']\n",
    "\n",
    "print(execute_program(0, 0))"
   ]
  },
  {
   "attachments": {},
   "cell_type": "markdown",
   "metadata": {},
   "source": [
    "# Part 2"
   ]
  },
  {
   "cell_type": "code",
   "execution_count": 3,
   "metadata": {},
   "outputs": [
    {
     "name": "stdout",
     "output_type": "stream",
     "text": [
      "231\n"
     ]
    }
   ],
   "source": [
    "print(execute_program(1, 0))"
   ]
  }
 ],
 "metadata": {
  "kernelspec": {
   "display_name": "Python 3",
   "language": "python",
   "name": "python3"
  },
  "language_info": {
   "codemirror_mode": {
    "name": "ipython",
    "version": 3
   },
   "file_extension": ".py",
   "mimetype": "text/x-python",
   "name": "python",
   "nbconvert_exporter": "python",
   "pygments_lexer": "ipython3",
   "version": "3.8.10 (default, Nov 14 2022, 12:59:47) \n[GCC 9.4.0]"
  },
  "orig_nbformat": 4,
  "vscode": {
   "interpreter": {
    "hash": "916dbcbb3f70747c44a77c7bcd40155683ae19c65e1c03b4aa3499c5328201f1"
   }
  }
 },
 "nbformat": 4,
 "nbformat_minor": 2
}
