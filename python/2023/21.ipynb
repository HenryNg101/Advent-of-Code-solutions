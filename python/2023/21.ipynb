{
 "cells": [
  {
   "cell_type": "markdown",
   "metadata": {},
   "source": [
    "# Day 21\n",
    "\n",
    "### Importing modules and process input"
   ]
  },
  {
   "cell_type": "code",
   "execution_count": 14,
   "metadata": {},
   "outputs": [],
   "source": [
    "from collections import deque\n",
    "import time\n",
    "import functools as ft\n",
    "\n",
    "start_time = time.time()    # Start the timer\n",
    "input = [list(line.strip()) for line in open(\"input\").readlines()]\n",
    "sz_r, sz_c = len(input), len(input[0])"
   ]
  },
  {
   "cell_type": "markdown",
   "metadata": {},
   "source": [
    "### Part 1\n",
    "\n",
    "Simple, straightforward BFS by level"
   ]
  },
  {
   "cell_type": "code",
   "execution_count": 15,
   "metadata": {},
   "outputs": [
    {
     "name": "stdout",
     "output_type": "stream",
     "text": [
      "Part 1: 3733\n"
     ]
    }
   ],
   "source": [
    "next_moves = [(1, 0),(-1, 0),(0, -1),(0, 1)]\n",
    "\n",
    "start_r, start_c = next((r, c) for r in range(sz_r) for c in range(sz_c) if input[r][c] == 'S')\n",
    "queue = [(start_r, start_c)]\n",
    "\n",
    "# BFS for part 1\n",
    "cycle = 0\n",
    "while queue:\n",
    "    sz = len(queue)\n",
    "    if cycle == 64:\n",
    "        print(f'Part 1: {sz}')\n",
    "        break\n",
    "\n",
    "    visited = set()\n",
    "    for _ in range(sz):\n",
    "        r, c = queue.pop(0)\n",
    "\n",
    "        for move_r, move_c in next_moves:\n",
    "            new_r, new_c = r + move_r, c + move_c\n",
    "            if (new_r, new_c) not in visited and new_r >= 0 and new_r < sz_r and new_c >= 0 and new_c < sz_c and input[new_r][new_c] != '#':\n",
    "                queue.append((new_r, new_c))\n",
    "                visited.add((new_r, new_c))\n",
    "\n",
    "    cycle += 1"
   ]
  },
  {
   "cell_type": "markdown",
   "metadata": {},
   "source": [
    "# Part 2\n",
    "\n",
    "This is where it's getting fun. Considering that this map is copied to every directions, here are some observations we see:\n",
    "- If the BFS go out of bound of one copy of the map, it will just end up to the other copy of the map, with location that's in bound of the map size.\n",
    "\n",
    "→ We should track the info of the map position that we are at, together with location in the bound of the map size, it's easier than tracking only raw location\n",
    "\n",
    "- If a specific garden plot has been reached first time after k max_steps, then, this is only reached after n max_steps when n - k is an even number (by going back and forth) → n and k must be odd or even together.\n",
    "\n",
    "Also, there are some other special properties of the map. Firstly, there's no rock in the horizontal and vertical lines that go through the starting point (this one wasn't shown in the input), and no rock on the side lines of the map. Which means that, there are clear and straight paths for us to walk through garden plots. An example plot of this is like what is shown in the image below.\n",
    "\n",
    "![Day 21 expanding map](img/Day%2021%20expanding%20map.png)\n",
    "\n",
    "Since I have talked about storing information of both map and location inside the map, it's a cool idea to track the amount of nodes will end up on the same location, but different map (Since the given number is too large). With the above image, a pattern we can see is that, it will gradually enlarge into 8 directions over time. To make it easier to understand, here's another image\n",
    "\n",
    "![Day 21 tiles expanding](img/Day%2021%20tiles%20expanding.png)\n",
    "\n",
    "In this one, I consider each map as a tile, and this is an example, when depth is = 5. And you can already notice the coloring I have. My plan of optimization here was to expand it by depth = 1, like this:\n",
    "\n",
    "![Day 21 tiles expanding starter](img/Day%2021%20tiles%20expanding%20starter.png)\n",
    "\n",
    "Then, from this, I expand them and calculate using math, based on the reachable distance. And, from each corner of the initial expanded map with depth = 1, I can expand to both top/down and left/right, while for the walls, I only expand to either top/down/left/right only. That's why there was that coloring.\n",
    "\n",
    "That's the basic idea, but enough talk, let's get into code to understand it better."
   ]
  },
  {
   "cell_type": "markdown",
   "metadata": {},
   "source": [
    "This is the first part, to calculate the minimum distance to get to a specific map, on specific location. You can see that, I choose **bound_size** to be 1, because I only expand by one. (It can be expanded more, but that's just time wasting)."
   ]
  },
  {
   "cell_type": "code",
   "execution_count": 16,
   "metadata": {},
   "outputs": [],
   "source": [
    "bound_size = 1\n",
    "min_steps_reachable = {}    # Contains the amount of minimum moves needed to reach a specific plot on specific tile\n",
    "\n",
    "queue = deque([(0, 0, start_r, start_c, 0)])\n",
    "while queue:\n",
    "    tile_r, tile_c, plot_r, plot_c, min_steps = queue.popleft()\n",
    "    \n",
    "    # Change to the appropriate tile and plot's row and column\n",
    "    if plot_r < 0:\n",
    "        tile_r -= 1\n",
    "        plot_r += sz_r\n",
    "    if plot_r >= sz_r:\n",
    "        tile_r += 1\n",
    "        plot_r -= sz_r\n",
    "    if plot_c < 0:\n",
    "        tile_c -= 1\n",
    "        plot_c += sz_c\n",
    "    if plot_c >= sz_c:\n",
    "        tile_c += 1\n",
    "        plot_c -= sz_c\n",
    "\n",
    "    if abs(tile_r) > bound_size or abs(tile_c) > bound_size:\n",
    "        continue\n",
    "    if not (0 <= plot_r < sz_r and 0 <= plot_c < sz_c and input[plot_r][plot_c] != \"#\"):\n",
    "        continue\n",
    "    if (tile_r, tile_c, plot_r, plot_c) in min_steps_reachable:\n",
    "        continue\n",
    "    \n",
    "    min_steps_reachable[(tile_r, tile_c, plot_r, plot_c)] = min_steps\n",
    "    for move_r, move_c in next_moves:\n",
    "        next_r, next_c = plot_r + move_r, plot_c + move_c\n",
    "        queue.append((tile_r, tile_c, next_r, next_c, min_steps + 1))"
   ]
  },
  {
   "cell_type": "markdown",
   "metadata": {},
   "source": [
    "Next, I write a function to calculate the amount of duplicated nodes on a specific type of wall (either corner or just wall). Notice how the first parameter is only the amount of minimum steps ? I will explain this later."
   ]
  },
  {
   "cell_type": "code",
   "execution_count": 17,
   "metadata": {},
   "outputs": [],
   "source": [
    "max_steps = 26501365    # The amount of given steps in the question\n",
    "\n",
    "@ft.cache\n",
    "def count_duplicates(min_steps, pos_type):\n",
    "    steps_remaining = max_steps - min_steps\n",
    "    reachable_tiles_cnt = steps_remaining // sz_r   # The amount of reachable maps depth\n",
    "\n",
    "    start, step = 0, -1\n",
    "    \n",
    "    # This is only for further cases of odd or even values of sz_r, \n",
    "    if sz_r % 2 == 0:\n",
    "        if max_steps % 2 == 0 and min_steps % 2 == 0:\n",
    "            start, step = 1, 1\n",
    "        elif max_steps % 2 != 0 and min_steps % 2 != 0:\n",
    "            start, step = 1, 2\n",
    "    else:\n",
    "        start, step = (1, 2) if (max_steps % 2 == 0) ^ (min_steps % 2 == 0) else (2, 2)\n",
    "\n",
    "    if step == -1:\n",
    "        return 0\n",
    "\n",
    "    reachable_tiles_cnt -= reachable_tiles_cnt % 2 == 0 if start == 1 else reachable_tiles_cnt % 2\n",
    "\n",
    "    # The total amount of duplicate moves in the edges\n",
    "    number_st_size = (reachable_tiles_cnt - start) // step + 1\n",
    "\n",
    "    # The total amount of duplicate moves in the corner\n",
    "    total_quad = ((start + reachable_tiles_cnt) * number_st_size // 2) + number_st_size\n",
    "\n",
    "    return total_quad if pos_type == 'corner' else number_st_size\n",
    "\n",
    "    # The above optimization was based on this code, to make it O(1)\n",
    "    # It doesn't start from 0, because the zero itself was added in the code below already\n",
    "    # for x in range(1, reachable_tiles_cnt + 1):\n",
    "    #     if (min_steps + sz_r * x) % 2 == max_steps % 2:\n",
    "    #         occurences += x + 1 if pos_type == 'corner' else 1"
   ]
  },
  {
   "cell_type": "markdown",
   "metadata": {},
   "source": [
    "And, this is the final part. I travel and add up on all 9 maps (1 original map, and 8 surrounded founding map). Now you can see why I only cache two information of min steps, which is the minimum travel distance needed to be reachable, and type of wall: More optimization. For example, one location, on any corner, are just having similar reachability like any other corner (same with normal walls), because from starting initial point, it's just having same distance, as the travelling is BFS by level. That's why, only type of wall and minimum distance matters."
   ]
  },
  {
   "cell_type": "code",
   "execution_count": 18,
   "metadata": {},
   "outputs": [
    {
     "name": "stdout",
     "output_type": "stream",
     "text": [
      "Part 2: 617729401414635\n",
      "Elapsed time: 2.3773083686828613 seconds\n"
     ]
    }
   ],
   "source": [
    "ans = 0\n",
    "for r in range(sz_r):\n",
    "    for c in range(sz_c):\n",
    "        # Skip unreachable places, like, rocks, and plots that are surrounded by rocks\n",
    "        # For example:\n",
    "        # .#.\n",
    "        # #.#  => This middle plot is blocked entirely\n",
    "        # .#.\n",
    "        if (0, 0, r, c) not in min_steps_reachable:\n",
    "            continue\n",
    "\n",
    "        for tr in range(-bound_size, bound_size+1):\n",
    "            for tc in range(-bound_size, bound_size+1):\n",
    "                min_move = min_steps_reachable[(tr, tc, r, c)]\n",
    "                \n",
    "                # The case when the node is reachable in less than the amounf of the goal steps\n",
    "                if min_move % 2 == max_steps % 2 and min_move <= max_steps:\n",
    "                    ans += 1\n",
    "                if abs(tr) == bound_size and abs(tc) == bound_size:\n",
    "                    ans += count_duplicates(min_move, 'corner')\n",
    "                elif abs(tr) == bound_size or abs(tc) == bound_size:\n",
    "                    ans += count_duplicates(min_move, 'wall')\n",
    "\n",
    "print(f'Part 2: {ans}')\n",
    "print(f'Elapsed time: {time.time() - start_time} seconds')"
   ]
  }
 ],
 "metadata": {
  "kernelspec": {
   "display_name": "base",
   "language": "python",
   "name": "python3"
  },
  "language_info": {
   "codemirror_mode": {
    "name": "ipython",
    "version": 3
   },
   "file_extension": ".py",
   "mimetype": "text/x-python",
   "name": "python",
   "nbconvert_exporter": "python",
   "pygments_lexer": "ipython3",
   "version": "3.11.3"
  }
 },
 "nbformat": 4,
 "nbformat_minor": 2
}
