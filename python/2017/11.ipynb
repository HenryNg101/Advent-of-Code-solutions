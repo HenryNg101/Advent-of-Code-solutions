{
 "cells": [
  {
   "cell_type": "code",
   "execution_count": 4,
   "metadata": {},
   "outputs": [],
   "source": [
    "import os\n",
    "os.chdir('..')\n",
    "from inputGetter import get_input\n",
    "\n",
    "content = get_input(2017, 11)[:-1]"
   ]
  },
  {
   "cell_type": "markdown",
   "metadata": {},
   "source": [
    "Based on the structure and the direction of the hex grid, it can easily be seen that, when you move with 2 different directions, there are 2 possibilities:\n",
    "\n",
    "- They cancel each other. E.g.: If you move one move North, and then one South, u end up in same place.\n",
    "- The place you end up can be done with one move instead. E.g: If you move North and then South West, it's the same as one move in North West direction\n",
    "\n",
    "Since that's the case, I have written 2 lists of rules in the function below, and try to cancel out all of them first -> remove double directions, then transform them -> Reduce from double to single direction"
   ]
  },
  {
   "cell_type": "code",
   "execution_count": null,
   "metadata": {},
   "outputs": [],
   "source": [
    "def min_distance(mp):\n",
    "    opposites = [('n', 's'), ('nw', 'se'), ('ne', 'sw')]\n",
    "    transforms = [\n",
    "        ('n', 'sw', 'nw'),\n",
    "        ('n', 'se', 'ne'),\n",
    "        ('s', 'nw', 'sw'),\n",
    "        ('s', 'ne', 'se'),\n",
    "        ('ne', 's', 'nw'),\n",
    "        ('ne', 'nw', 'n'),\n",
    "        ('nw', 's', 'sw'),\n",
    "        ('nw', 'ne', 'n'),\n",
    "        ('se', 'n', 'ne'),\n",
    "        ('se', 'sw', 's'),\n",
    "        ('sw', 'n', 'se'),\n",
    "        ('sw', 'se', 's'),\n",
    "    ]\n",
    "    \n",
    "    for op1, op2 in opposites:\n",
    "        min_cnt = min(mp[op1], mp[op2])\n",
    "        mp[op1] -= min_cnt\n",
    "        mp[op2] -= min_cnt\n",
    "\n",
    "    for start1, start2, goal in transforms:\n",
    "        min_cnt = min(mp[start1], mp[start2])\n",
    "        mp[goal] += min_cnt\n",
    "        mp[start1] -= min_cnt\n",
    "        mp[start2] -= min_cnt\n",
    "    \n",
    "    return sum(mp.values())"
   ]
  },
  {
   "cell_type": "code",
   "execution_count": 6,
   "metadata": {},
   "outputs": [
    {
     "name": "stdout",
     "output_type": "stream",
     "text": [
      "Part A: 759\n",
      "Part B: 1501\n"
     ]
    }
   ],
   "source": [
    "content = content.split(',')\n",
    "mp = {'n': 0, 's': 0, 'se': 0, 'sw': 0, 'ne': 0, 'nw': 0}\n",
    "res_b = 0\n",
    "\n",
    "for direction in content:\n",
    "    mp[direction] += 1\n",
    "    res_b = max(res_b, min_distance(mp))\n",
    "\n",
    "print(f'Part A: {min_distance(mp)}')\n",
    "print(f'Part B: {res_b}')"
   ]
  }
 ],
 "metadata": {
  "kernelspec": {
   "display_name": "base",
   "language": "python",
   "name": "python3"
  },
  "language_info": {
   "codemirror_mode": {
    "name": "ipython",
    "version": 3
   },
   "file_extension": ".py",
   "mimetype": "text/x-python",
   "name": "python",
   "nbconvert_exporter": "python",
   "pygments_lexer": "ipython3",
   "version": "3.11.7"
  }
 },
 "nbformat": 4,
 "nbformat_minor": 2
}
