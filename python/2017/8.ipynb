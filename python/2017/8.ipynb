{
 "cells": [
  {
   "cell_type": "code",
   "execution_count": 15,
   "metadata": {},
   "outputs": [],
   "source": [
    "import os\n",
    "os.chdir('..')\n",
    "from inputGetter import get_input\n",
    "\n",
    "content = get_input(2017, 8)[:-1]"
   ]
  },
  {
   "cell_type": "code",
   "execution_count": null,
   "metadata": {},
   "outputs": [
    {
     "name": "stdout",
     "output_type": "stream",
     "text": [
      "Part A: 5143\n",
      "Part B: 6209\n"
     ]
    }
   ],
   "source": [
    "content = content.split('\\n')\n",
    "registers = dict()\n",
    "instructions = []\n",
    "conditions = []\n",
    "highest_ever = 0\n",
    "\n",
    "for line in content:\n",
    "    inst, cond = line.split(' if ')\n",
    "    reg, op, val = inst.split(' ')\n",
    "    if reg not in registers:\n",
    "        registers[reg] = 0\n",
    "    instructions.append((reg, op, int(val)))\n",
    "    \n",
    "    reg, comp, val = cond.split(' ')\n",
    "    if reg not in registers:\n",
    "        registers[reg] = 0\n",
    "    conditions.append((reg, comp, int(val)))\n",
    "\n",
    "for i in range(len(content)):\n",
    "    satisfied = True\n",
    "    if conditions[i][1] == '>':\n",
    "        satisfied &= registers[conditions[i][0]] > conditions[i][2]\n",
    "    if conditions[i][1] == '<':\n",
    "        satisfied &= registers[conditions[i][0]] < conditions[i][2]\n",
    "    if conditions[i][1] == '>=':\n",
    "        satisfied &= registers[conditions[i][0]] >= conditions[i][2]\n",
    "    if conditions[i][1] == '<=':\n",
    "        satisfied &= registers[conditions[i][0]] <= conditions[i][2]\n",
    "    if conditions[i][1] == '==':\n",
    "        satisfied &= registers[conditions[i][0]] == conditions[i][2]\n",
    "    if conditions[i][1] == '!=':\n",
    "        satisfied &= registers[conditions[i][0]] != conditions[i][2]\n",
    "    \n",
    "    if satisfied:\n",
    "        if instructions[i][1] == 'inc':\n",
    "            registers[instructions[i][0]] += instructions[i][2]\n",
    "        if instructions[i][1] == 'dec':\n",
    "            registers[instructions[i][0]] -= instructions[i][2]\n",
    "            \n",
    "    highest_ever = max(highest_ever, registers[instructions[i][0]])\n",
    "\n",
    "print(f'Part A: {max(registers.values())}')\n",
    "print(f'Part B: {highest_ever}')"
   ]
  }
 ],
 "metadata": {
  "kernelspec": {
   "display_name": "base",
   "language": "python",
   "name": "python3"
  },
  "language_info": {
   "codemirror_mode": {
    "name": "ipython",
    "version": 3
   },
   "file_extension": ".py",
   "mimetype": "text/x-python",
   "name": "python",
   "nbconvert_exporter": "python",
   "pygments_lexer": "ipython3",
   "version": "3.11.7"
  }
 },
 "nbformat": 4,
 "nbformat_minor": 2
}
