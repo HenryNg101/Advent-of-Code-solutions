{
 "cells": [
  {
   "cell_type": "code",
   "execution_count": 1,
   "metadata": {},
   "outputs": [],
   "source": [
    "import os\n",
    "os.chdir('..')\n",
    "from inputGetter import get_input\n",
    "\n",
    "content = get_input(2017, 16)[:-1]"
   ]
  },
  {
   "cell_type": "code",
   "execution_count": 2,
   "metadata": {},
   "outputs": [
    {
     "name": "stdout",
     "output_type": "stream",
     "text": [
      "Part A: ebjpfdgmihonackl\n",
      "Part B: abocefghijklmndp\n"
     ]
    }
   ],
   "source": [
    "content = content.split(',')\n",
    "starter = 'abcdefghijklmnop'\n",
    "\n",
    "dic = {ch : id for id, ch in enumerate(starter)}\n",
    "ls = list(starter)\n",
    "standings = {starter: 0}\n",
    "orders = [starter]\n",
    "\n",
    "for id in range(1, int(1e9)):\n",
    "    # The main algorithm to perform a dance. Swapping in O(1), spin in O(16)\n",
    "    for inst in content:\n",
    "        if inst[0] == 's':\n",
    "            move = int(inst[1:])\n",
    "            for key in dic.keys():\n",
    "                dic[key] += int(move)\n",
    "                dic[key] %= 16\n",
    "                ls[dic[key]] = key\n",
    "                \n",
    "        elif inst[0] == 'x':\n",
    "            pos1, pos2 = [int(val) for val in inst[1:].split('/')]\n",
    "            dic[ls[pos1]] = pos2\n",
    "            dic[ls[pos2]] = pos1\n",
    "            ls[pos1], ls[pos2] = ls[pos2], ls[pos1]\n",
    "            \n",
    "        else:\n",
    "            prog1, prog2 = inst[1], inst[3]\n",
    "            ls[dic[prog1]] = prog2\n",
    "            ls[dic[prog2]] = prog1\n",
    "            dic[prog1], dic[prog2] = dic[prog2], dic[prog1]\n",
    "\n",
    "    standing = ''.join(ls)\n",
    "    if id == 1:\n",
    "        print(f'Part A: {standing}')\n",
    "    \n",
    "    # Check if the dance result existed before or not. If existed already, there's a cycle\n",
    "    if standing not in standings:\n",
    "        standings[standing] = id\n",
    "        orders.append(standing)\n",
    "    else:\n",
    "        loop_start = standings[standing]\n",
    "        loop_sz = len(standings) - loop_start\n",
    "        iteration = int(1e9) - loop_start\n",
    "        \n",
    "        print(f'Part B: {orders[iteration % loop_sz + loop_start]}')\n",
    "        break"
   ]
  }
 ],
 "metadata": {
  "kernelspec": {
   "display_name": "base",
   "language": "python",
   "name": "python3"
  },
  "language_info": {
   "codemirror_mode": {
    "name": "ipython",
    "version": 3
   },
   "file_extension": ".py",
   "mimetype": "text/x-python",
   "name": "python",
   "nbconvert_exporter": "python",
   "pygments_lexer": "ipython3",
   "version": "3.11.7"
  }
 },
 "nbformat": 4,
 "nbformat_minor": 2
}
