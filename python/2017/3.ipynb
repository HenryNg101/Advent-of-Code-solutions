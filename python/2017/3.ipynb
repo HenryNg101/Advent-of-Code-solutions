{
 "cells": [
  {
   "cell_type": "code",
   "execution_count": 29,
   "metadata": {},
   "outputs": [],
   "source": [
    "import os\n",
    "os.chdir('..')\n",
    "from inputGetter import get_input\n",
    "import math\n",
    "\n",
    "content = get_input(2017, 3)[:-1]\n",
    "content = int(content)"
   ]
  },
  {
   "cell_type": "code",
   "execution_count": 30,
   "metadata": {},
   "outputs": [
    {
     "name": "stdout",
     "output_type": "stream",
     "text": [
      "430\n"
     ]
    }
   ],
   "source": [
    "power = int(math.sqrt(content))\n",
    "remainder = content - (power ** 2)\n",
    "\n",
    "start_r, start_c = 0, 0\n",
    "if power % 2 == 0:\n",
    "    start_r, start_c = -(power // 2 - 1) - 1, -(power // 2 - 1)\n",
    "    \n",
    "    start_c -= min(remainder, 1)\n",
    "    remainder -= min(remainder, 1)\n",
    "    \n",
    "    start_r += min(remainder, power)\n",
    "    remainder -= min(remainder, power)\n",
    "    \n",
    "    start_c += min(remainder, power)\n",
    "    remainder -= min(remainder, power)\n",
    "\n",
    "else:\n",
    "    start_r, start_c = power // 2, power // 2\n",
    "    \n",
    "    start_c += min(remainder, 1)\n",
    "    remainder -= min(remainder, 1)\n",
    "    \n",
    "    start_r -= min(remainder, power)\n",
    "    remainder -= min(remainder, power)\n",
    "    \n",
    "    start_c -= min(remainder, power)\n",
    "    remainder -= min(remainder, power)\n",
    "    \n",
    "\n",
    "print(abs(start_r) + abs(start_c))"
   ]
  },
  {
   "cell_type": "code",
   "execution_count": 31,
   "metadata": {},
   "outputs": [
    {
     "name": "stdout",
     "output_type": "stream",
     "text": [
      "312453\n"
     ]
    }
   ],
   "source": [
    "dic = {(0, 0): 1}\n",
    "\n",
    "def get_sum(r, c):\n",
    "    global dic\n",
    "    \n",
    "    sum = 0\n",
    "    for new_r, new_c in [(r-1, c), (r+1, c), (r-1, c-1), (r, c-1), (r+1, c-1), (r-1, c+1), (r, c+1), (r+1, c+1)]:\n",
    "        if (new_r, new_c) in dic:\n",
    "            sum += dic[(new_r, new_c)]\n",
    "    return sum\n",
    "\n",
    "def get_near_larger_value(content):\n",
    "    global dic\n",
    "    \n",
    "    row, col = 0, 0\n",
    "    for size in range(2, 100000000000, 2):\n",
    "        row += 1\n",
    "        col += 1\n",
    "        \n",
    "        for _ in range(size):\n",
    "            row -= 1\n",
    "            \n",
    "            dic[(row, col)] = get_sum(row, col)\n",
    "            if dic[(row, col)] > content:\n",
    "                return dic[(row, col)]\n",
    "        \n",
    "        for _ in range(size):\n",
    "            col -= 1\n",
    "            \n",
    "            dic[(row, col)] = get_sum(row, col)\n",
    "            if dic[(row, col)] > content:\n",
    "                return dic[(row, col)]\n",
    "        \n",
    "        for _ in range(size):\n",
    "            row += 1\n",
    "            \n",
    "            dic[(row, col)] = get_sum(row, col)\n",
    "            if dic[(row, col)] > content:\n",
    "                return dic[(row, col)]\n",
    "            \n",
    "        for _ in range(size):\n",
    "            col += 1\n",
    "            \n",
    "            dic[(row, col)] = get_sum(row, col)\n",
    "            if dic[(row, col)] > content:\n",
    "                return dic[(row, col)]\n",
    "\n",
    "print(get_near_larger_value(content))"
   ]
  },
  {
   "cell_type": "markdown",
   "metadata": {},
   "source": [
    "right: 1\n",
    "top: 1\n",
    "left: 2\n",
    "down: 2\n",
    "right: 2"
   ]
  }
 ],
 "metadata": {
  "kernelspec": {
   "display_name": "base",
   "language": "python",
   "name": "python3"
  },
  "language_info": {
   "codemirror_mode": {
    "name": "ipython",
    "version": 3
   },
   "file_extension": ".py",
   "mimetype": "text/x-python",
   "name": "python",
   "nbconvert_exporter": "python",
   "pygments_lexer": "ipython3",
   "version": "3.11.7"
  }
 },
 "nbformat": 4,
 "nbformat_minor": 2
}
