{
 "cells": [
  {
   "cell_type": "code",
   "execution_count": null,
   "metadata": {},
   "outputs": [],
   "source": [
    "import os\n",
    "os.chdir('..')\n",
    "from inputGetter import get_input\n",
    "\n",
    "content = get_input(2017, 4)[:-1]\n",
    "passphrases = content.split('\\n')"
   ]
  },
  {
   "cell_type": "code",
   "execution_count": 54,
   "metadata": {},
   "outputs": [
    {
     "name": "stdout",
     "output_type": "stream",
     "text": [
      "455\n"
     ]
    }
   ],
   "source": [
    "cnt_a = 0\n",
    "for passphrase in passphrases:\n",
    "    passphrase = passphrase.split(' ')\n",
    "    \n",
    "    if len(set(passphrase)) == len(passphrase):\n",
    "        cnt_a += 1\n",
    "\n",
    "print(cnt_a)"
   ]
  },
  {
   "cell_type": "code",
   "execution_count": 55,
   "metadata": {},
   "outputs": [
    {
     "name": "stdout",
     "output_type": "stream",
     "text": [
      "186\n"
     ]
    }
   ],
   "source": [
    "cnt_b = 0\n",
    "for passphrase in passphrases:\n",
    "    passphrase = passphrase.split(' ')\n",
    "    \n",
    "    st = set()\n",
    "    valid = True\n",
    "    \n",
    "    for word in passphrase:\n",
    "        word = ''.join(sorted(word))\n",
    "        valid &= word not in st\n",
    "        \n",
    "        if valid:\n",
    "            st.add(word)\n",
    "        else:\n",
    "            break\n",
    "\n",
    "    if valid:\n",
    "        cnt_b += 1\n",
    "\n",
    "print(cnt_b)"
   ]
  }
 ],
 "metadata": {
  "kernelspec": {
   "display_name": "base",
   "language": "python",
   "name": "python3"
  },
  "language_info": {
   "codemirror_mode": {
    "name": "ipython",
    "version": 3
   },
   "file_extension": ".py",
   "mimetype": "text/x-python",
   "name": "python",
   "nbconvert_exporter": "python",
   "pygments_lexer": "ipython3",
   "version": "3.11.7"
  }
 },
 "nbformat": 4,
 "nbformat_minor": 2
}
