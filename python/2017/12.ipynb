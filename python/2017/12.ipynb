{
 "cells": [
  {
   "cell_type": "code",
   "execution_count": 77,
   "metadata": {},
   "outputs": [],
   "source": [
    "import os\n",
    "os.chdir('..')\n",
    "from inputGetter import get_input\n",
    "\n",
    "content = get_input(2017, 12)[:-1]"
   ]
  },
  {
   "cell_type": "code",
   "execution_count": 78,
   "metadata": {},
   "outputs": [],
   "source": [
    "mp = []\n",
    "for line in content.split('\\n'):\n",
    "    _, dest = line.split(' <-> ')\n",
    "    mp.append([int(node) for node in dest.split(', ')])"
   ]
  },
  {
   "cell_type": "code",
   "execution_count": 79,
   "metadata": {},
   "outputs": [
    {
     "name": "stdout",
     "output_type": "stream",
     "text": [
      "Part A: 169\n"
     ]
    }
   ],
   "source": [
    "# DFS for part A\n",
    "stack = [0]\n",
    "visited = [False] * len(mp)\n",
    "visited[0] = True\n",
    "while len(stack) > 0:\n",
    "    curr = stack.pop()\n",
    "\n",
    "    for node in mp[curr]:\n",
    "        if not visited[node]:\n",
    "            stack.append(node)\n",
    "            visited[node] = True\n",
    "\n",
    "print(f'Part A: {sum(visited)}')"
   ]
  },
  {
   "cell_type": "code",
   "execution_count": null,
   "metadata": {},
   "outputs": [
    {
     "name": "stdout",
     "output_type": "stream",
     "text": [
      "Part B: 179\n"
     ]
    }
   ],
   "source": [
    "# Union Find for part B\n",
    "def find(parents, id):\n",
    "    if parents[id] == id:\n",
    "        return id\n",
    "    parents[id] = find(parents, parents[id])\n",
    "    return parents[id]\n",
    "\n",
    "def union(parents, sets_sz, id_a, id_b):\n",
    "    parent_a = find(parents, id_a)\n",
    "    parent_b = find(parents, id_b)\n",
    "    \n",
    "    if parent_a == parent_b:\n",
    "        return\n",
    "    if sets_sz[parent_a] > sets_sz[parent_b]:\n",
    "        parents[parent_b] = parents[parent_a]\n",
    "        sets_sz[parent_a] += sets_sz[parent_b]\n",
    "    else:\n",
    "        parents[parent_a] = parents[parent_b]\n",
    "        sets_sz[parent_b] += sets_sz[parent_a]\n",
    "\n",
    "parents = [i for i in range(len(mp))]\n",
    "sets_sz = [1 for _ in range(len(mp))]\n",
    "\n",
    "for start in range(len(mp)):\n",
    "    for dest in mp[start]:\n",
    "        union(parents, sets_sz, start, dest)\n",
    "\n",
    "res = sum([parents[i] == i for i in range(len(parents))])\n",
    "print(f'Part B: {res}')"
   ]
  }
 ],
 "metadata": {
  "kernelspec": {
   "display_name": "base",
   "language": "python",
   "name": "python3"
  },
  "language_info": {
   "codemirror_mode": {
    "name": "ipython",
    "version": 3
   },
   "file_extension": ".py",
   "mimetype": "text/x-python",
   "name": "python",
   "nbconvert_exporter": "python",
   "pygments_lexer": "ipython3",
   "version": "3.11.7"
  }
 },
 "nbformat": 4,
 "nbformat_minor": 2
}
